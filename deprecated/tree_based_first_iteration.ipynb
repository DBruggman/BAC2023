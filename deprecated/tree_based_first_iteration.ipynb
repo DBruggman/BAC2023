{
 "cells": [
  {
   "cell_type": "markdown",
   "metadata": {},
   "source": [
    "# First iteration of tree-based models.\n",
    "\n",
    "The hyperparameter optization process will be the following:\n",
    "1. Train with default hyperaparameters.\n",
    "2. Identify bias and variance.\n",
    "3. Choose first range for hyperparameters based on results.\n",
    "4. Train n models using HalvingRandomSearchCV from scikit learn.\n",
    "5. Pick the regions of the hyperparameter space that yield the best results.\n",
    "6. Centre the hyperparameter search on those regions and iterate.\n",
    "\n",
    "The scoring will consist in:\n",
    "1. Numerical scores for the testing subset: recall, precision, roc_auc, f1.\n",
    "2. Numerical scores for the whole data: recall, precision, roc_auc, f1.\n",
    "2. Visualization of the ROC curve for the whole data.\n",
    "4. Confusion matrix for the whole data.\n",
    "\n",
    "In this way we can see if each model over/underfits, comparing the test and total scores. Also, the ROC curve and the confusion matrix will show how each model is performing in the whole dataset.\n"
   ]
  },
  {
   "cell_type": "code",
   "execution_count": 1,
   "metadata": {},
   "outputs": [],
   "source": [
    "import pandas as pd\n",
    "pd.set_option('display.max_colwidth', None)\n",
    "# For random number generation\n",
    "from scipy.stats import randint, uniform\n",
    "\n",
    "from sklearn.experimental import enable_halving_search_cv # Allow importing the experimental HalvingGridSearchCV\n",
    "\n",
    "# Metrics and auxiliar libraries from sklearn.\n",
    "from sklearn.model_selection import train_test_split, HalvingRandomSearchCV, RepeatedStratifiedKFold, HalvingGridSearchCV\n",
    "\n",
    "# Some auxiliary functions for scoring.\n",
    "import submission.scoring_utils as scoring_utils\n",
    "\n",
    "#DEV\n",
    "import importlib as imp\n"
   ]
  },
  {
   "cell_type": "code",
   "execution_count": 2,
   "metadata": {},
   "outputs": [],
   "source": [
    "# Import the dataframe cleaned and encoded during the feature importance process.\n",
    "df_encoded = pd.read_csv('../data/df_encoded_interest.csv')"
   ]
  },
  {
   "cell_type": "code",
   "execution_count": 3,
   "metadata": {},
   "outputs": [
    {
     "name": "stdout",
     "output_type": "stream",
     "text": [
      "Target: Default\n",
      "Features: ['NAICS', 'Term', 'NewExist', 'FranchiseCode', 'RevLineCr', 'LowDoc', 'GrAppv', 'SBA_Appv', 'isNewBusiness', 'isFranchise', 'SBARatio', 'InterestRate', 'NAICS_i_0', 'NAICS_i_11', 'NAICS_i_21', 'NAICS_i_22', 'NAICS_i_23', 'NAICS_i_31', 'NAICS_i_32', 'NAICS_i_33', 'NAICS_i_42', 'NAICS_i_44', 'NAICS_i_45', 'NAICS_i_48', 'NAICS_i_49', 'NAICS_i_51', 'NAICS_i_52', 'NAICS_i_53', 'NAICS_i_54', 'NAICS_i_55', 'NAICS_i_56', 'NAICS_i_61', 'NAICS_i_62', 'NAICS_i_71', 'NAICS_i_72', 'NAICS_i_81', 'NAICS_i_92', 'UrbanRural_0', 'UrbanRural_1', 'UrbanRural_2']\n"
     ]
    }
   ],
   "source": [
    "target = 'Default'\n",
    "features_encoded = [feature for feature in df_encoded.columns if feature not in target]\n",
    "# Our target and features are the same that we employed during the importance analysis.\n",
    "print(f\"Target: {target}\")\n",
    "print(f\"Features: {features_encoded}\")"
   ]
  },
  {
   "cell_type": "code",
   "execution_count": 4,
   "metadata": {},
   "outputs": [],
   "source": [
    "# This split will be used in every model, so that they are scored against the same subset.\n",
    "X_train, X_test, y_train, y_test = train_test_split(df_encoded[features_encoded], df_encoded[target], train_size = .9)\n",
    "# Complete datasets\n",
    "X_total = df_encoded[features_encoded]\n",
    "y_total = df_encoded[target]"
   ]
  },
  {
   "cell_type": "markdown",
   "metadata": {},
   "source": [
    "### Single Decision Tree Classifier"
   ]
  },
  {
   "cell_type": "code",
   "execution_count": 5,
   "metadata": {},
   "outputs": [
    {
     "data": {
      "text/html": [
       "<div>\n",
       "<style scoped>\n",
       "    .dataframe tbody tr th:only-of-type {\n",
       "        vertical-align: middle;\n",
       "    }\n",
       "\n",
       "    .dataframe tbody tr th {\n",
       "        vertical-align: top;\n",
       "    }\n",
       "\n",
       "    .dataframe thead th {\n",
       "        text-align: right;\n",
       "    }\n",
       "</style>\n",
       "<table border=\"1\" class=\"dataframe\">\n",
       "  <thead>\n",
       "    <tr style=\"text-align: right;\">\n",
       "      <th></th>\n",
       "      <th>Recall</th>\n",
       "      <th>Precision</th>\n",
       "      <th>ROC</th>\n",
       "      <th>F1</th>\n",
       "    </tr>\n",
       "  </thead>\n",
       "  <tbody>\n",
       "    <tr>\n",
       "      <th>Default Tree Train</th>\n",
       "      <td>0.996657</td>\n",
       "      <td>0.999978</td>\n",
       "      <td>0.998326</td>\n",
       "      <td>0.998315</td>\n",
       "    </tr>\n",
       "    <tr>\n",
       "      <th>Default Tree Test</th>\n",
       "      <td>0.768587</td>\n",
       "      <td>0.766740</td>\n",
       "      <td>0.860066</td>\n",
       "      <td>0.767663</td>\n",
       "    </tr>\n",
       "  </tbody>\n",
       "</table>\n",
       "</div>"
      ],
      "text/plain": [
       "                      Recall  Precision       ROC        F1\n",
       "Default Tree Train  0.996657   0.999978  0.998326  0.998315\n",
       "Default Tree Test   0.768587   0.766740  0.860066  0.767663"
      ]
     },
     "execution_count": 5,
     "metadata": {},
     "output_type": "execute_result"
    }
   ],
   "source": [
    "# Default check to identify bias/variance\n",
    "from sklearn.tree import DecisionTreeClassifier\n",
    "\n",
    "default_tree = DecisionTreeClassifier()\n",
    "default_tree.fit(X_train, y_train)\n",
    "\n",
    "yhat_train = default_tree.predict(X_train)\n",
    "yhat_test = default_tree.predict(X_test)\n",
    "\n",
    "default_tree_score = pd.concat((\n",
    "    scoring_utils.get_metrics(y_train, yhat_train, \"Default Tree Train\"),\n",
    "    scoring_utils.get_metrics(y_test, yhat_test, \"Default Tree Test\")\n",
    "    ))\n",
    "\n",
    "default_tree_score"
   ]
  },
  {
   "cell_type": "code",
   "execution_count": 6,
   "metadata": {},
   "outputs": [
    {
     "data": {
      "text/plain": [
       "{'ccp_alpha': 0.0,\n",
       " 'class_weight': None,\n",
       " 'criterion': 'gini',\n",
       " 'max_depth': None,\n",
       " 'max_features': None,\n",
       " 'max_leaf_nodes': None,\n",
       " 'min_impurity_decrease': 0.0,\n",
       " 'min_samples_leaf': 1,\n",
       " 'min_samples_split': 2,\n",
       " 'min_weight_fraction_leaf': 0.0,\n",
       " 'random_state': None,\n",
       " 'splitter': 'best'}"
      ]
     },
     "execution_count": 6,
     "metadata": {},
     "output_type": "execute_result"
    }
   ],
   "source": [
    "default_tree.get_params()"
   ]
  },
  {
   "cell_type": "markdown",
   "metadata": {},
   "source": [
    "It does overfit! Let's decrease the variance by tuning the hyperparameters."
   ]
  },
  {
   "cell_type": "code",
   "execution_count": 45,
   "metadata": {},
   "outputs": [
    {
     "data": {
      "text/html": [
       "<style>#sk-container-id-5 {color: black;}#sk-container-id-5 pre{padding: 0;}#sk-container-id-5 div.sk-toggleable {background-color: white;}#sk-container-id-5 label.sk-toggleable__label {cursor: pointer;display: block;width: 100%;margin-bottom: 0;padding: 0.3em;box-sizing: border-box;text-align: center;}#sk-container-id-5 label.sk-toggleable__label-arrow:before {content: \"▸\";float: left;margin-right: 0.25em;color: #696969;}#sk-container-id-5 label.sk-toggleable__label-arrow:hover:before {color: black;}#sk-container-id-5 div.sk-estimator:hover label.sk-toggleable__label-arrow:before {color: black;}#sk-container-id-5 div.sk-toggleable__content {max-height: 0;max-width: 0;overflow: hidden;text-align: left;background-color: #f0f8ff;}#sk-container-id-5 div.sk-toggleable__content pre {margin: 0.2em;color: black;border-radius: 0.25em;background-color: #f0f8ff;}#sk-container-id-5 input.sk-toggleable__control:checked~div.sk-toggleable__content {max-height: 200px;max-width: 100%;overflow: auto;}#sk-container-id-5 input.sk-toggleable__control:checked~label.sk-toggleable__label-arrow:before {content: \"▾\";}#sk-container-id-5 div.sk-estimator input.sk-toggleable__control:checked~label.sk-toggleable__label {background-color: #d4ebff;}#sk-container-id-5 div.sk-label input.sk-toggleable__control:checked~label.sk-toggleable__label {background-color: #d4ebff;}#sk-container-id-5 input.sk-hidden--visually {border: 0;clip: rect(1px 1px 1px 1px);clip: rect(1px, 1px, 1px, 1px);height: 1px;margin: -1px;overflow: hidden;padding: 0;position: absolute;width: 1px;}#sk-container-id-5 div.sk-estimator {font-family: monospace;background-color: #f0f8ff;border: 1px dotted black;border-radius: 0.25em;box-sizing: border-box;margin-bottom: 0.5em;}#sk-container-id-5 div.sk-estimator:hover {background-color: #d4ebff;}#sk-container-id-5 div.sk-parallel-item::after {content: \"\";width: 100%;border-bottom: 1px solid gray;flex-grow: 1;}#sk-container-id-5 div.sk-label:hover label.sk-toggleable__label {background-color: #d4ebff;}#sk-container-id-5 div.sk-serial::before {content: \"\";position: absolute;border-left: 1px solid gray;box-sizing: border-box;top: 0;bottom: 0;left: 50%;z-index: 0;}#sk-container-id-5 div.sk-serial {display: flex;flex-direction: column;align-items: center;background-color: white;padding-right: 0.2em;padding-left: 0.2em;position: relative;}#sk-container-id-5 div.sk-item {position: relative;z-index: 1;}#sk-container-id-5 div.sk-parallel {display: flex;align-items: stretch;justify-content: center;background-color: white;position: relative;}#sk-container-id-5 div.sk-item::before, #sk-container-id-5 div.sk-parallel-item::before {content: \"\";position: absolute;border-left: 1px solid gray;box-sizing: border-box;top: 0;bottom: 0;left: 50%;z-index: -1;}#sk-container-id-5 div.sk-parallel-item {display: flex;flex-direction: column;z-index: 1;position: relative;background-color: white;}#sk-container-id-5 div.sk-parallel-item:first-child::after {align-self: flex-end;width: 50%;}#sk-container-id-5 div.sk-parallel-item:last-child::after {align-self: flex-start;width: 50%;}#sk-container-id-5 div.sk-parallel-item:only-child::after {width: 0;}#sk-container-id-5 div.sk-dashed-wrapped {border: 1px dashed gray;margin: 0 0.4em 0.5em 0.4em;box-sizing: border-box;padding-bottom: 0.4em;background-color: white;}#sk-container-id-5 div.sk-label label {font-family: monospace;font-weight: bold;display: inline-block;line-height: 1.2em;}#sk-container-id-5 div.sk-label-container {text-align: center;}#sk-container-id-5 div.sk-container {/* jupyter's `normalize.less` sets `[hidden] { display: none; }` but bootstrap.min.css set `[hidden] { display: none !important; }` so we also need the `!important` here to be able to override the default hidden behavior on the sphinx rendered scikit-learn.org. See: https://github.com/scikit-learn/scikit-learn/issues/21755 */display: inline-block !important;position: relative;}#sk-container-id-5 div.sk-text-repr-fallback {display: none;}</style><div id=\"sk-container-id-5\" class=\"sk-top-container\"><div class=\"sk-text-repr-fallback\"><pre>HalvingRandomSearchCV(cv=RepeatedStratifiedKFold(n_repeats=3, n_splits=3, random_state=9),\n",
       "                      estimator=DecisionTreeClassifier(class_weight=&#x27;balanced&#x27;),\n",
       "                      n_candidates=1000, n_jobs=-1,\n",
       "                      param_distributions=[{&#x27;max_depth&#x27;: &lt;scipy.stats._distn_infrastructure.rv_discrete_frozen object at 0x13f09f090&gt;,\n",
       "                                            &#x27;min_samples_split&#x27;: &lt;scipy.stats._distn_infrastructure.rv_discrete_frozen object at 0x2f904e0d0&gt;}],\n",
       "                      scoring=&#x27;f1&#x27;)</pre><b>In a Jupyter environment, please rerun this cell to show the HTML representation or trust the notebook. <br />On GitHub, the HTML representation is unable to render, please try loading this page with nbviewer.org.</b></div><div class=\"sk-container\" hidden><div class=\"sk-item sk-dashed-wrapped\"><div class=\"sk-label-container\"><div class=\"sk-label sk-toggleable\"><input class=\"sk-toggleable__control sk-hidden--visually\" id=\"sk-estimator-id-13\" type=\"checkbox\" ><label for=\"sk-estimator-id-13\" class=\"sk-toggleable__label sk-toggleable__label-arrow\">HalvingRandomSearchCV</label><div class=\"sk-toggleable__content\"><pre>HalvingRandomSearchCV(cv=RepeatedStratifiedKFold(n_repeats=3, n_splits=3, random_state=9),\n",
       "                      estimator=DecisionTreeClassifier(class_weight=&#x27;balanced&#x27;),\n",
       "                      n_candidates=1000, n_jobs=-1,\n",
       "                      param_distributions=[{&#x27;max_depth&#x27;: &lt;scipy.stats._distn_infrastructure.rv_discrete_frozen object at 0x13f09f090&gt;,\n",
       "                                            &#x27;min_samples_split&#x27;: &lt;scipy.stats._distn_infrastructure.rv_discrete_frozen object at 0x2f904e0d0&gt;}],\n",
       "                      scoring=&#x27;f1&#x27;)</pre></div></div></div><div class=\"sk-parallel\"><div class=\"sk-parallel-item\"><div class=\"sk-item\"><div class=\"sk-label-container\"><div class=\"sk-label sk-toggleable\"><input class=\"sk-toggleable__control sk-hidden--visually\" id=\"sk-estimator-id-14\" type=\"checkbox\" ><label for=\"sk-estimator-id-14\" class=\"sk-toggleable__label sk-toggleable__label-arrow\">estimator: DecisionTreeClassifier</label><div class=\"sk-toggleable__content\"><pre>DecisionTreeClassifier(class_weight=&#x27;balanced&#x27;)</pre></div></div></div><div class=\"sk-serial\"><div class=\"sk-item\"><div class=\"sk-estimator sk-toggleable\"><input class=\"sk-toggleable__control sk-hidden--visually\" id=\"sk-estimator-id-15\" type=\"checkbox\" ><label for=\"sk-estimator-id-15\" class=\"sk-toggleable__label sk-toggleable__label-arrow\">DecisionTreeClassifier</label><div class=\"sk-toggleable__content\"><pre>DecisionTreeClassifier(class_weight=&#x27;balanced&#x27;)</pre></div></div></div></div></div></div></div></div></div></div>"
      ],
      "text/plain": [
       "HalvingRandomSearchCV(cv=RepeatedStratifiedKFold(n_repeats=3, n_splits=3, random_state=9),\n",
       "                      estimator=DecisionTreeClassifier(class_weight='balanced'),\n",
       "                      n_candidates=1000, n_jobs=-1,\n",
       "                      param_distributions=[{'max_depth': <scipy.stats._distn_infrastructure.rv_discrete_frozen object at 0x13f09f090>,\n",
       "                                            'min_samples_split': <scipy.stats._distn_infrastructure.rv_discrete_frozen object at 0x2f904e0d0>}],\n",
       "                      scoring='f1')"
      ]
     },
     "execution_count": 45,
     "metadata": {},
     "output_type": "execute_result"
    }
   ],
   "source": [
    "\n",
    "# Grid of parameters for a single tree\n",
    "param_grid = [\n",
    "    {\n",
    "        \"min_samples_split\": randint(100, 200),\n",
    "        \"max_depth\": randint(14, 18)\n",
    "    }\n",
    "]\n",
    "\n",
    "# Cross validation in 3 folds for our grid search parameter selection.\n",
    "# It must be consistent across the folds, so the random state has to be fixed.\n",
    "cv = RepeatedStratifiedKFold(n_splits=3, n_repeats=3, random_state=9)\n",
    "\n",
    "single_tree_search = HalvingRandomSearchCV(\n",
    "    estimator=DecisionTreeClassifier(class_weight='balanced'),\n",
    "    param_distributions=param_grid,\n",
    "    scoring='f1',\n",
    "    cv=cv,\n",
    "    n_jobs=-1,\n",
    "    n_candidates=1000\n",
    ")\n",
    "\n",
    "single_tree_search.fit(X_train, y_train)\n"
   ]
  },
  {
   "cell_type": "code",
   "execution_count": 46,
   "metadata": {},
   "outputs": [
    {
     "data": {
      "text/html": [
       "<div>\n",
       "<style scoped>\n",
       "    .dataframe tbody tr th:only-of-type {\n",
       "        vertical-align: middle;\n",
       "    }\n",
       "\n",
       "    .dataframe tbody tr th {\n",
       "        vertical-align: top;\n",
       "    }\n",
       "\n",
       "    .dataframe thead th {\n",
       "        text-align: right;\n",
       "    }\n",
       "</style>\n",
       "<table border=\"1\" class=\"dataframe\">\n",
       "  <thead>\n",
       "    <tr style=\"text-align: right;\">\n",
       "      <th></th>\n",
       "      <th>params</th>\n",
       "      <th>mean_test_score</th>\n",
       "      <th>mean_fit_time</th>\n",
       "    </tr>\n",
       "    <tr>\n",
       "      <th>kernel</th>\n",
       "      <th></th>\n",
       "      <th></th>\n",
       "      <th></th>\n",
       "    </tr>\n",
       "  </thead>\n",
       "  <tbody>\n",
       "    <tr>\n",
       "      <th>15_151</th>\n",
       "      <td>{'max_depth': 15, 'min_samples_split': 151}</td>\n",
       "      <td>0.707424</td>\n",
       "      <td>0.089776</td>\n",
       "    </tr>\n",
       "    <tr>\n",
       "      <th>15_146</th>\n",
       "      <td>{'max_depth': 15, 'min_samples_split': 146}</td>\n",
       "      <td>0.706066</td>\n",
       "      <td>0.092167</td>\n",
       "    </tr>\n",
       "    <tr>\n",
       "      <th>15_146</th>\n",
       "      <td>{'max_depth': 15, 'min_samples_split': 146}</td>\n",
       "      <td>0.666545</td>\n",
       "      <td>0.025832</td>\n",
       "    </tr>\n",
       "    <tr>\n",
       "      <th>15_151</th>\n",
       "      <td>{'max_depth': 15, 'min_samples_split': 151}</td>\n",
       "      <td>0.664056</td>\n",
       "      <td>0.027384</td>\n",
       "    </tr>\n",
       "    <tr>\n",
       "      <th>15_151</th>\n",
       "      <td>{'max_depth': 15, 'min_samples_split': 151}</td>\n",
       "      <td>0.663991</td>\n",
       "      <td>0.027864</td>\n",
       "    </tr>\n",
       "    <tr>\n",
       "      <th>...</th>\n",
       "      <td>...</td>\n",
       "      <td>...</td>\n",
       "      <td>...</td>\n",
       "    </tr>\n",
       "    <tr>\n",
       "      <th>14_158</th>\n",
       "      <td>{'max_depth': 14, 'min_samples_split': 158}</td>\n",
       "      <td>0.143862</td>\n",
       "      <td>0.001274</td>\n",
       "    </tr>\n",
       "    <tr>\n",
       "      <th>14_175</th>\n",
       "      <td>{'max_depth': 14, 'min_samples_split': 175}</td>\n",
       "      <td>0.143862</td>\n",
       "      <td>0.002835</td>\n",
       "    </tr>\n",
       "    <tr>\n",
       "      <th>15_140</th>\n",
       "      <td>{'max_depth': 15, 'min_samples_split': 140}</td>\n",
       "      <td>0.143862</td>\n",
       "      <td>0.002261</td>\n",
       "    </tr>\n",
       "    <tr>\n",
       "      <th>15_189</th>\n",
       "      <td>{'max_depth': 15, 'min_samples_split': 189}</td>\n",
       "      <td>0.143862</td>\n",
       "      <td>0.001069</td>\n",
       "    </tr>\n",
       "    <tr>\n",
       "      <th>16_195</th>\n",
       "      <td>{'max_depth': 16, 'min_samples_split': 195}</td>\n",
       "      <td>0.143862</td>\n",
       "      <td>0.001880</td>\n",
       "    </tr>\n",
       "  </tbody>\n",
       "</table>\n",
       "<p>1504 rows × 3 columns</p>\n",
       "</div>"
      ],
      "text/plain": [
       "                                             params  mean_test_score  \\\n",
       "kernel                                                                 \n",
       "15_151  {'max_depth': 15, 'min_samples_split': 151}         0.707424   \n",
       "15_146  {'max_depth': 15, 'min_samples_split': 146}         0.706066   \n",
       "15_146  {'max_depth': 15, 'min_samples_split': 146}         0.666545   \n",
       "15_151  {'max_depth': 15, 'min_samples_split': 151}         0.664056   \n",
       "15_151  {'max_depth': 15, 'min_samples_split': 151}         0.663991   \n",
       "...                                             ...              ...   \n",
       "14_158  {'max_depth': 14, 'min_samples_split': 158}         0.143862   \n",
       "14_175  {'max_depth': 14, 'min_samples_split': 175}         0.143862   \n",
       "15_140  {'max_depth': 15, 'min_samples_split': 140}         0.143862   \n",
       "15_189  {'max_depth': 15, 'min_samples_split': 189}         0.143862   \n",
       "16_195  {'max_depth': 16, 'min_samples_split': 195}         0.143862   \n",
       "\n",
       "        mean_fit_time  \n",
       "kernel                 \n",
       "15_151       0.089776  \n",
       "15_146       0.092167  \n",
       "15_146       0.025832  \n",
       "15_151       0.027384  \n",
       "15_151       0.027864  \n",
       "...               ...  \n",
       "14_158       0.001274  \n",
       "14_175       0.002835  \n",
       "15_140       0.002261  \n",
       "15_189       0.001069  \n",
       "16_195       0.001880  \n",
       "\n",
       "[1504 rows x 3 columns]"
      ]
     },
     "execution_count": 46,
     "metadata": {},
     "output_type": "execute_result"
    }
   ],
   "source": [
    "scoring_utils.get_best_kernels(single_tree_search.cv_results_)"
   ]
  },
  {
   "cell_type": "code",
   "execution_count": 32,
   "metadata": {},
   "outputs": [
    {
     "data": {
      "text/plain": [
       "{'ccp_alpha': 0.0,\n",
       " 'class_weight': {0: 0.2, 1: 0.8},\n",
       " 'criterion': 'gini',\n",
       " 'max_depth': 14,\n",
       " 'max_features': None,\n",
       " 'max_leaf_nodes': None,\n",
       " 'min_impurity_decrease': 0.0,\n",
       " 'min_samples_leaf': 1,\n",
       " 'min_samples_split': 148,\n",
       " 'min_weight_fraction_leaf': 0.0,\n",
       " 'random_state': None,\n",
       " 'splitter': 'best'}"
      ]
     },
     "execution_count": 32,
     "metadata": {},
     "output_type": "execute_result"
    }
   ],
   "source": [
    "single_tree_search.best_estimator_.get_params()"
   ]
  },
  {
   "cell_type": "code",
   "execution_count": 33,
   "metadata": {},
   "outputs": [
    {
     "data": {
      "text/plain": [
       "149260"
      ]
     },
     "execution_count": 33,
     "metadata": {},
     "output_type": "execute_result"
    }
   ],
   "source": [
    "len(df_encoded[df_encoded[target] == 1])"
   ]
  },
  {
   "cell_type": "code",
   "execution_count": 40,
   "metadata": {},
   "outputs": [
    {
     "name": "stdout",
     "output_type": "stream",
     "text": [
      "\n",
      "Training for weight: 0.1...\n"
     ]
    },
    {
     "ename": "KeyboardInterrupt",
     "evalue": "",
     "output_type": "error",
     "traceback": [
      "\u001b[0;31m---------------------------------------------------------------------------\u001b[0m",
      "\u001b[0;31mKeyboardInterrupt\u001b[0m                         Traceback (most recent call last)",
      "\u001b[1;32m/Users/alemalvarez/code-workspace/BAC2023/first_models/tree_based_first_iteration.ipynb Cell 14\u001b[0m line \u001b[0;36m1\n\u001b[1;32m      <a href='vscode-notebook-cell:/Users/alemalvarez/code-workspace/BAC2023/first_models/tree_based_first_iteration.ipynb#Y262sZmlsZQ%3D%3D?line=3'>4</a>\u001b[0m \u001b[39mprint\u001b[39m(\u001b[39mf\u001b[39m\u001b[39m\"\u001b[39m\u001b[39m\\n\u001b[39;00m\u001b[39mTraining for weight: \u001b[39m\u001b[39m{\u001b[39;00mweight\u001b[39m}\u001b[39;00m\u001b[39m...\u001b[39m\u001b[39m\"\u001b[39m)\n\u001b[1;32m      <a href='vscode-notebook-cell:/Users/alemalvarez/code-workspace/BAC2023/first_models/tree_based_first_iteration.ipynb#Y262sZmlsZQ%3D%3D?line=4'>5</a>\u001b[0m model \u001b[39m=\u001b[39m DecisionTreeClassifier(\n\u001b[1;32m      <a href='vscode-notebook-cell:/Users/alemalvarez/code-workspace/BAC2023/first_models/tree_based_first_iteration.ipynb#Y262sZmlsZQ%3D%3D?line=5'>6</a>\u001b[0m     max_depth\u001b[39m=\u001b[39m \u001b[39m15\u001b[39m,\n\u001b[1;32m      <a href='vscode-notebook-cell:/Users/alemalvarez/code-workspace/BAC2023/first_models/tree_based_first_iteration.ipynb#Y262sZmlsZQ%3D%3D?line=6'>7</a>\u001b[0m     min_samples_split\u001b[39m=\u001b[39m\u001b[39m130\u001b[39m,\n\u001b[1;32m      <a href='vscode-notebook-cell:/Users/alemalvarez/code-workspace/BAC2023/first_models/tree_based_first_iteration.ipynb#Y262sZmlsZQ%3D%3D?line=7'>8</a>\u001b[0m     class_weight\u001b[39m=\u001b[39m{\u001b[39m0\u001b[39m: weight, \u001b[39m1\u001b[39m:(\u001b[39m1\u001b[39m\u001b[39m-\u001b[39mweight)}\n\u001b[1;32m      <a href='vscode-notebook-cell:/Users/alemalvarez/code-workspace/BAC2023/first_models/tree_based_first_iteration.ipynb#Y262sZmlsZQ%3D%3D?line=8'>9</a>\u001b[0m )\n\u001b[0;32m---> <a href='vscode-notebook-cell:/Users/alemalvarez/code-workspace/BAC2023/first_models/tree_based_first_iteration.ipynb#Y262sZmlsZQ%3D%3D?line=10'>11</a>\u001b[0m model\u001b[39m.\u001b[39;49mfit(X_train, y_train)\n\u001b[1;32m     <a href='vscode-notebook-cell:/Users/alemalvarez/code-workspace/BAC2023/first_models/tree_based_first_iteration.ipynb#Y262sZmlsZQ%3D%3D?line=12'>13</a>\u001b[0m yhat_test \u001b[39m=\u001b[39m model\u001b[39m.\u001b[39mpredict(X_test)\n\u001b[1;32m     <a href='vscode-notebook-cell:/Users/alemalvarez/code-workspace/BAC2023/first_models/tree_based_first_iteration.ipynb#Y262sZmlsZQ%3D%3D?line=13'>14</a>\u001b[0m yhat_train \u001b[39m=\u001b[39m model\u001b[39m.\u001b[39mpredict(X_train)\n",
      "File \u001b[0;32m~/.pyenv/versions/3.11.5/lib/python3.11/site-packages/sklearn/base.py:1152\u001b[0m, in \u001b[0;36m_fit_context.<locals>.decorator.<locals>.wrapper\u001b[0;34m(estimator, *args, **kwargs)\u001b[0m\n\u001b[1;32m   1145\u001b[0m     estimator\u001b[39m.\u001b[39m_validate_params()\n\u001b[1;32m   1147\u001b[0m \u001b[39mwith\u001b[39;00m config_context(\n\u001b[1;32m   1148\u001b[0m     skip_parameter_validation\u001b[39m=\u001b[39m(\n\u001b[1;32m   1149\u001b[0m         prefer_skip_nested_validation \u001b[39mor\u001b[39;00m global_skip_validation\n\u001b[1;32m   1150\u001b[0m     )\n\u001b[1;32m   1151\u001b[0m ):\n\u001b[0;32m-> 1152\u001b[0m     \u001b[39mreturn\u001b[39;00m fit_method(estimator, \u001b[39m*\u001b[39;49margs, \u001b[39m*\u001b[39;49m\u001b[39m*\u001b[39;49mkwargs)\n",
      "File \u001b[0;32m~/.pyenv/versions/3.11.5/lib/python3.11/site-packages/sklearn/tree/_classes.py:959\u001b[0m, in \u001b[0;36mDecisionTreeClassifier.fit\u001b[0;34m(self, X, y, sample_weight, check_input)\u001b[0m\n\u001b[1;32m    928\u001b[0m \u001b[39m@_fit_context\u001b[39m(prefer_skip_nested_validation\u001b[39m=\u001b[39m\u001b[39mTrue\u001b[39;00m)\n\u001b[1;32m    929\u001b[0m \u001b[39mdef\u001b[39;00m \u001b[39mfit\u001b[39m(\u001b[39mself\u001b[39m, X, y, sample_weight\u001b[39m=\u001b[39m\u001b[39mNone\u001b[39;00m, check_input\u001b[39m=\u001b[39m\u001b[39mTrue\u001b[39;00m):\n\u001b[1;32m    930\u001b[0m \u001b[39m    \u001b[39m\u001b[39m\"\"\"Build a decision tree classifier from the training set (X, y).\u001b[39;00m\n\u001b[1;32m    931\u001b[0m \n\u001b[1;32m    932\u001b[0m \u001b[39m    Parameters\u001b[39;00m\n\u001b[0;32m   (...)\u001b[0m\n\u001b[1;32m    956\u001b[0m \u001b[39m        Fitted estimator.\u001b[39;00m\n\u001b[1;32m    957\u001b[0m \u001b[39m    \"\"\"\u001b[39;00m\n\u001b[0;32m--> 959\u001b[0m     \u001b[39msuper\u001b[39;49m()\u001b[39m.\u001b[39;49m_fit(\n\u001b[1;32m    960\u001b[0m         X,\n\u001b[1;32m    961\u001b[0m         y,\n\u001b[1;32m    962\u001b[0m         sample_weight\u001b[39m=\u001b[39;49msample_weight,\n\u001b[1;32m    963\u001b[0m         check_input\u001b[39m=\u001b[39;49mcheck_input,\n\u001b[1;32m    964\u001b[0m     )\n\u001b[1;32m    965\u001b[0m     \u001b[39mreturn\u001b[39;00m \u001b[39mself\u001b[39m\n",
      "File \u001b[0;32m~/.pyenv/versions/3.11.5/lib/python3.11/site-packages/sklearn/tree/_classes.py:443\u001b[0m, in \u001b[0;36mBaseDecisionTree._fit\u001b[0;34m(self, X, y, sample_weight, check_input, missing_values_in_feature_mask)\u001b[0m\n\u001b[1;32m    432\u001b[0m \u001b[39melse\u001b[39;00m:\n\u001b[1;32m    433\u001b[0m     builder \u001b[39m=\u001b[39m BestFirstTreeBuilder(\n\u001b[1;32m    434\u001b[0m         splitter,\n\u001b[1;32m    435\u001b[0m         min_samples_split,\n\u001b[0;32m   (...)\u001b[0m\n\u001b[1;32m    440\u001b[0m         \u001b[39mself\u001b[39m\u001b[39m.\u001b[39mmin_impurity_decrease,\n\u001b[1;32m    441\u001b[0m     )\n\u001b[0;32m--> 443\u001b[0m builder\u001b[39m.\u001b[39;49mbuild(\u001b[39mself\u001b[39;49m\u001b[39m.\u001b[39;49mtree_, X, y, sample_weight, missing_values_in_feature_mask)\n\u001b[1;32m    445\u001b[0m \u001b[39mif\u001b[39;00m \u001b[39mself\u001b[39m\u001b[39m.\u001b[39mn_outputs_ \u001b[39m==\u001b[39m \u001b[39m1\u001b[39m \u001b[39mand\u001b[39;00m is_classifier(\u001b[39mself\u001b[39m):\n\u001b[1;32m    446\u001b[0m     \u001b[39mself\u001b[39m\u001b[39m.\u001b[39mn_classes_ \u001b[39m=\u001b[39m \u001b[39mself\u001b[39m\u001b[39m.\u001b[39mn_classes_[\u001b[39m0\u001b[39m]\n",
      "\u001b[0;31mKeyboardInterrupt\u001b[0m: "
     ]
    }
   ],
   "source": [
    "\n",
    "weights = [.1, .15, .2, .25, .3]\n",
    "\n",
    "for weight in weights:\n",
    "    print(f\"\\nTraining for weight: {weight}...\")\n",
    "    model = DecisionTreeClassifier(\n",
    "        max_depth= 15,\n",
    "        min_samples_split=130,\n",
    "        class_weight={0: weight, 1:(1-weight)}\n",
    "    )\n",
    "    \n",
    "    model.fit(X_train, y_train)\n",
    "\n",
    "    yhat_test = model.predict(X_test)\n",
    "    yhat_train = model.predict(X_train)\n",
    "    yhat_total = model.predict(X_total)\n",
    "\n",
    "    score = pd.concat([\n",
    "        scoring_utils.get_metrics(y_train, yhat_train, \"Train\"),\n",
    "        scoring_utils.get_metrics(y_test, yhat_test, \"Test\"),\n",
    "        scoring_utils.get_metrics(y_total, yhat_total, \"Total\")\n",
    "    ])\n",
    "\n",
    "    print(score)\n",
    "\n",
    "    print(f\"We obtained a profit of ${scoring_utils.get_profit(X_total, y_total, yhat_total):,.2f}\")\n",
    "\n",
    "\n"
   ]
  },
  {
   "cell_type": "code",
   "execution_count": 47,
   "metadata": {},
   "outputs": [],
   "source": [
    "# Let's use the best estimator to obtain test and overall scores \n",
    "single_tree_model = single_tree_search.best_estimator_\n",
    "\n",
    "yhat_test = single_tree_model.predict(X_test)\n",
    "yhat_total = single_tree_model.predict(X_total)"
   ]
  },
  {
   "cell_type": "code",
   "execution_count": 48,
   "metadata": {},
   "outputs": [
    {
     "data": {
      "text/html": [
       "<div>\n",
       "<style scoped>\n",
       "    .dataframe tbody tr th:only-of-type {\n",
       "        vertical-align: middle;\n",
       "    }\n",
       "\n",
       "    .dataframe tbody tr th {\n",
       "        vertical-align: top;\n",
       "    }\n",
       "\n",
       "    .dataframe thead th {\n",
       "        text-align: right;\n",
       "    }\n",
       "</style>\n",
       "<table border=\"1\" class=\"dataframe\">\n",
       "  <thead>\n",
       "    <tr style=\"text-align: right;\">\n",
       "      <th></th>\n",
       "      <th>Recall</th>\n",
       "      <th>Precision</th>\n",
       "      <th>ROC</th>\n",
       "      <th>F1</th>\n",
       "    </tr>\n",
       "  </thead>\n",
       "  <tbody>\n",
       "    <tr>\n",
       "      <th>Single Tree Test</th>\n",
       "      <td>0.925316</td>\n",
       "      <td>0.684166</td>\n",
       "      <td>0.918399</td>\n",
       "      <td>0.786675</td>\n",
       "    </tr>\n",
       "    <tr>\n",
       "      <th>Single Tree Total</th>\n",
       "      <td>0.940500</td>\n",
       "      <td>0.694942</td>\n",
       "      <td>0.927531</td>\n",
       "      <td>0.799286</td>\n",
       "    </tr>\n",
       "  </tbody>\n",
       "</table>\n",
       "</div>"
      ],
      "text/plain": [
       "                     Recall  Precision       ROC        F1\n",
       "Single Tree Test   0.925316   0.684166  0.918399  0.786675\n",
       "Single Tree Total  0.940500   0.694942  0.927531  0.799286"
      ]
     },
     "execution_count": 48,
     "metadata": {},
     "output_type": "execute_result"
    }
   ],
   "source": [
    "single_tree_test_score = scoring_utils.get_metrics(y_test, yhat_test, \"Single Tree Test\")\n",
    "single_tree_total_score = scoring_utils.get_metrics(y_total, yhat_total, \"Single Tree Total\")\n",
    "\n",
    "single_tree_score = pd.concat((single_tree_test_score, single_tree_total_score))\n",
    "single_tree_score"
   ]
  },
  {
   "cell_type": "code",
   "execution_count": 49,
   "metadata": {},
   "outputs": [
    {
     "name": "stdout",
     "output_type": "stream",
     "text": [
      "We obtained a profit of $6,629,199,765.90\n"
     ]
    }
   ],
   "source": [
    "print(f\"We obtained a profit of ${scoring_utils.get_profit(X_total, y_total, yhat_total):,.2f}\")"
   ]
  },
  {
   "cell_type": "code",
   "execution_count": 12,
   "metadata": {},
   "outputs": [
    {
     "data": {
      "image/png": "[encoded data removed]",
      "text/plain": [
       "<Figure size 800x600 with 1 Axes>"
      ]
     },
     "metadata": {},
     "output_type": "display_data"
    }
   ],
   "source": [
    "scoring_utils.get_roc_plot(y_total, yhat_total, \"Single Tree Whole Data\")"
   ]
  },
  {
   "cell_type": "code",
   "execution_count": 50,
   "metadata": {},
   "outputs": [
    {
     "data": {
      "image/png": "[encoded data removed]",
      "text/plain": [
       "<Figure size 800x600 with 2 Axes>"
      ]
     },
     "metadata": {},
     "output_type": "display_data"
    }
   ],
   "source": [
    "scoring_utils.get_confusion_matrix(y_total, yhat_total, \"Single Tree Whole Data\")"
   ]
  },
  {
   "cell_type": "markdown",
   "metadata": {},
   "source": [
    "### Bagging classifier"
   ]
  },
  {
   "cell_type": "code",
   "execution_count": null,
   "metadata": {},
   "outputs": [],
   "source": [
    "# Default check to identify bias/variance\n",
    "from sklearn.ensemble import BaggingClassifier\n",
    "\n",
    "default_bagging = BaggingClassifier(DecisionTreeClassifier(), n_jobs=-1)\n",
    "default_bagging.fit(X_train, y_train)\n",
    "\n",
    "yhat_train = default_bagging.predict(X_train)\n",
    "yhat_test = default_bagging.predict(X_test)\n",
    "\n",
    "default_bagging_score = pd.concat((\n",
    "    scoring_utils.get_metrics(y_train, yhat_train, \"Default Bagging Train\"),\n",
    "    scoring_utils.get_metrics(y_test, yhat_test, \"Default Bagging Test\")\n",
    "    ))\n",
    "\n",
    "default_bagging_score"
   ]
  },
  {
   "cell_type": "code",
   "execution_count": null,
   "metadata": {},
   "outputs": [],
   "source": [
    "default_bagging.get_params()"
   ]
  },
  {
   "cell_type": "code",
   "execution_count": null,
   "metadata": {},
   "outputs": [],
   "source": [
    "\n",
    "# Grid of parameters for a bagging model\n",
    "param_grid = [\n",
    "    {\n",
    "        \"max_samples\": [.8, .9, 1.0]\n",
    "    }\n",
    "]\n",
    "\n",
    "# Cross validation in 3 folds for our grid search parameter selection.\n",
    "# It must be consistent across the folds, so the random state has to be fixed.\n",
    "cv = RepeatedStratifiedKFold(n_splits=3, n_repeats=3, random_state=9)\n",
    "\n",
    "bagging_search = HalvingGridSearchCV(\n",
    "    estimator=BaggingClassifier(n_estimators=10, estimator=single_tree_model),\n",
    "    param_grid=param_grid,\n",
    "    scoring='recall',\n",
    "    cv=cv,\n",
    "    n_jobs=-1,\n",
    "    verbose=1\n",
    ")\n",
    "\n",
    "bagging_search.fit(X_train, y_train)\n"
   ]
  },
  {
   "cell_type": "code",
   "execution_count": null,
   "metadata": {},
   "outputs": [],
   "source": [
    "scoring_utils.get_best_kernels(bagging_search.cv_results_)"
   ]
  },
  {
   "cell_type": "code",
   "execution_count": null,
   "metadata": {},
   "outputs": [],
   "source": [
    "bagging_model = bagging_search.best_estimator_\n",
    "\n",
    "yhat_test = bagging_model.predict(X_test)\n",
    "yhat_total = bagging_model.predict(X_total)"
   ]
  },
  {
   "cell_type": "code",
   "execution_count": null,
   "metadata": {},
   "outputs": [],
   "source": [
    "bagging_test_score = scoring_utils.get_metrics(y_test, yhat_test, \"Bagging Test\")\n",
    "bagging_total_score = scoring_utils.get_metrics(y_total, yhat_total, \"Bagging Total\")\n",
    "\n",
    "bagging_score = pd.concat((bagging_test_score, bagging_total_score, single_tree_score))\n",
    "bagging_score"
   ]
  },
  {
   "cell_type": "code",
   "execution_count": null,
   "metadata": {},
   "outputs": [],
   "source": [
    "print(f\"We obtained a profit of ${scoring_utils.get_profit(X_total, y_total, yhat_total):,.2f}\")"
   ]
  },
  {
   "cell_type": "code",
   "execution_count": null,
   "metadata": {},
   "outputs": [],
   "source": [
    "scoring_utils.get_roc_plot(y_total, yhat_total, \"Bagging Whole Data\")"
   ]
  },
  {
   "cell_type": "code",
   "execution_count": null,
   "metadata": {},
   "outputs": [],
   "source": [
    "scoring_utils.get_confusion_matrix(y_total, yhat_total, \"Bagging Whole Data\")"
   ]
  },
  {
   "cell_type": "markdown",
   "metadata": {},
   "source": [
    "### Random forest"
   ]
  },
  {
   "cell_type": "code",
   "execution_count": null,
   "metadata": {},
   "outputs": [],
   "source": [
    "# Default to check bias/variance\n",
    "from sklearn.ensemble import RandomForestClassifier\n",
    "\n",
    "default_forest = RandomForestClassifier(n_jobs=-1).fit(X_train, y_train)\n",
    "\n",
    "yhat_train = default_forest.predict(X_train)\n",
    "yhat_test = default_forest.predict(X_test)\n",
    "\n",
    "default_forest_score = pd.concat((\n",
    "    scoring_utils.get_metrics(y_train, yhat_train, 'Default Forest Train'),\n",
    "    scoring_utils.get_metrics(y_test, yhat_test, 'Default Forest Test')\n",
    "))\n",
    "\n",
    "default_forest_score\n"
   ]
  },
  {
   "cell_type": "code",
   "execution_count": null,
   "metadata": {},
   "outputs": [],
   "source": [
    "default_forest.get_params()"
   ]
  },
  {
   "cell_type": "code",
   "execution_count": null,
   "metadata": {},
   "outputs": [],
   "source": [
    "# {'max_depth': 14, 'min_samples_split': 109} # One of my best trees!!!!!\n",
    "\n",
    "param_grid = {\n",
    "    'max_depth': [50, 100, 150], # This has a smaller effect, but 100 seems to work out fine.\n",
    "    'min_samples_split': [10, 100, 1000] # This should be around 100\n",
    "}\n",
    "\n",
    "# Cross validation in 3 folds for our grid search parameter selection.\n",
    "# It must be consistent across the folds, so the random state has to be fixed.\n",
    "cv = RepeatedStratifiedKFold(n_splits=3, n_repeats=3, random_state=9)\n",
    "\n",
    "random_forest_search = HalvingGridSearchCV(\n",
    "    estimator=RandomForestClassifier(n_estimators=50, max_features=1.0, class_weight='balanced'),\n",
    "    param_grid=param_grid,\n",
    "    scoring='recall',\n",
    "    cv=cv,\n",
    "    n_jobs=-1,\n",
    "    verbose=1\n",
    ")\n",
    "\n",
    "random_forest_search.fit(X_train, y_train)\n"
   ]
  },
  {
   "cell_type": "code",
   "execution_count": null,
   "metadata": {},
   "outputs": [],
   "source": [
    "scoring_utils.get_best_kernels(random_forest_search.cv_results_)"
   ]
  },
  {
   "cell_type": "code",
   "execution_count": null,
   "metadata": {},
   "outputs": [],
   "source": [
    "random_forest = random_forest_search.best_estimator_\n",
    "\n",
    "yhat_test = random_forest.predict(X_test)\n",
    "yhat_total = random_forest.predict(X_total)"
   ]
  },
  {
   "cell_type": "code",
   "execution_count": null,
   "metadata": {},
   "outputs": [],
   "source": [
    "forest_test_score = scoring_utils.get_metrics(y_test, yhat_test, \"Random Forest Test\")\n",
    "forest_total_score = scoring_utils.get_metrics(y_total, yhat_total, \"Random Forest Total\")\n",
    "\n",
    "forest_score = pd.concat((forest_test_score, forest_total_score, bagging_score))\n",
    "forest_score"
   ]
  },
  {
   "cell_type": "code",
   "execution_count": null,
   "metadata": {},
   "outputs": [],
   "source": [
    "print(f\"We obtained a profit of ${scoring_utils.get_profit(X_total, y_total, yhat_total):,.2f}\")"
   ]
  },
  {
   "cell_type": "code",
   "execution_count": null,
   "metadata": {},
   "outputs": [],
   "source": [
    "scoring_utils.get_roc_plot(y_total, yhat_total, \"Forest Whole Data\")"
   ]
  },
  {
   "cell_type": "code",
   "execution_count": null,
   "metadata": {},
   "outputs": [],
   "source": [
    "scoring_utils.get_confusion_matrix(y_total, yhat_total, \"Random Forest Whole Data\")"
   ]
  },
  {
   "cell_type": "markdown",
   "metadata": {},
   "source": [
    "### Boosting"
   ]
  },
  {
   "cell_type": "code",
   "execution_count": null,
   "metadata": {},
   "outputs": [],
   "source": [
    "import xgboost as xgb"
   ]
  },
  {
   "cell_type": "code",
   "execution_count": null,
   "metadata": {},
   "outputs": [],
   "source": [
    "xgbmodel = xgb.XGBClassifier(\n",
    " learning_rate =0.1,\n",
    " n_estimators=100,\n",
    " verbosity=2,\n",
    " max_depth=11,\n",
    " min_child_weight=10,\n",
    " gamma=0.1,\n",
    " subsample=0.9,\n",
    " colsample_bytree=0.8,\n",
    " objective= 'binary:logistic',\n",
    " scale_pos_weight=3.3,\n",
    " seed=27)\n",
    "\n",
    "xgb_param = xgbmodel.get_xgb_params()\n",
    "xgtrain = xgb.DMatrix(X_train.values, label=y_train.values)\n",
    "cvresult = xgb.cv(xgb_param, xgtrain, num_boost_round=xgbmodel.get_params()['n_estimators'], nfold=5,\n",
    "metrics='auc', early_stopping_rounds=50)\n",
    "xgbmodel.set_params(n_estimators=cvresult.shape[0])\n",
    "\n",
    "xgbmodel.fit(X_train, y_train, eval_metric='auc')\n",
    "\n"
   ]
  },
  {
   "cell_type": "code",
   "execution_count": null,
   "metadata": {},
   "outputs": [],
   "source": [
    "yhat_train = xgbmodel.predict(X_train)\n",
    "yhat_test = xgbmodel.predict(X_test)\n",
    "\n",
    "cv_boost_score = pd.concat((\n",
    "    scoring_utils.get_metrics(y_train, yhat_train, 'CV Boosting Train'),\n",
    "    scoring_utils.get_metrics(y_test, yhat_test, 'CV Boosting Test')\n",
    "))\n",
    "\n",
    "cv_boost_score"
   ]
  },
  {
   "cell_type": "code",
   "execution_count": null,
   "metadata": {},
   "outputs": [],
   "source": [
    "yhat_total = xgbmodel.predict(X_total)\n",
    "scoring_utils.get_confusion_matrix(y_total, yhat_total, 'CV Boosting')"
   ]
  },
  {
   "cell_type": "code",
   "execution_count": null,
   "metadata": {},
   "outputs": [],
   "source": [
    "print(f\"We obtained a profit of ${scoring_utils.get_profit(X_total, y_total, yhat_total):,.2f}\")"
   ]
  },
  {
   "cell_type": "code",
   "execution_count": null,
   "metadata": {},
   "outputs": [],
   "source": [
    "print(f\"The maximum is ${scoring_utils.get_profit(X_total, y_total, y_total):,.2f}\")"
   ]
  },
  {
   "cell_type": "markdown",
   "metadata": {},
   "source": [
    "# This fuckers works worse. Check if there's time"
   ]
  },
  {
   "cell_type": "code",
   "execution_count": null,
   "metadata": {},
   "outputs": [],
   "source": [
    "from xgboost import XGBClassifier\n",
    "\n",
    "weights = [3.3, 3.5, 3.7, 3.9]\n",
    "\n",
    "for weight in weights:\n",
    "    print(f\"\\nTraining for weight: {weight}...\")\n",
    "    model = xgb.XGBClassifier(\n",
    "        learning_rate =0.1,\n",
    "        n_estimators=100,\n",
    "        verbosity=2,\n",
    "        max_depth=11,\n",
    "        min_child_weight=10,\n",
    "        gamma=0.1,\n",
    "        subsample=0.9,\n",
    "        colsample_bytree=0.8,\n",
    "        objective= 'binary:logistic',\n",
    "        seed=27,\n",
    "        scale_pos_weight=weight)\n",
    "    \n",
    "    model.fit(X_train, y_train)\n",
    "\n",
    "    yhat_test = model.predict(X_test)\n",
    "    yhat_train = model.predict(X_train)\n",
    "    yhat_total = model.predict(X_total)\n",
    "\n",
    "    score = pd.concat([\n",
    "        scoring_utils.get_metrics(y_train, yhat_train, \"Train\"),\n",
    "        scoring_utils.get_metrics(y_test, yhat_test, \"Test\"),\n",
    "        scoring_utils.get_metrics(y_total, yhat_total, \"Total\")\n",
    "    ])\n",
    "\n",
    "    print(score)\n",
    "\n",
    "    print(f\"We obtained a profit of ${scoring_utils.get_profit(X_total, y_total, yhat_total):,.2f}\")\n",
    "\n",
    "\n"
   ]
  },
  {
   "cell_type": "code",
   "execution_count": null,
   "metadata": {},
   "outputs": [],
   "source": [
    "from xgboost import XGBClassifier\n",
    "\n",
    "param_grid = [{\n",
    "    'scale_pos_weight': [3, 4, 4.5, 5, 5.5, 6]\n",
    "}]\n",
    "\n",
    "cv = RepeatedStratifiedKFold(n_splits=3, n_repeats=3, random_state=12)\n",
    "\n",
    "xgbsearch = HalvingGridSearchCV(\n",
    "    xgb.XGBClassifier(\n",
    "        learning_rate =0.1,\n",
    "        n_estimators=100,\n",
    "        verbosity=2,\n",
    "        max_depth=11,\n",
    "        min_child_weight=10,\n",
    "        gamma=0.1,\n",
    "        subsample=0.9,\n",
    "        colsample_bytree=0.8,\n",
    "        objective= 'binary:logistic',\n",
    "        seed=27),\n",
    "    param_grid=param_grid,\n",
    "    verbose=1,\n",
    "    cv=cv,\n",
    "    scoring='recall'\n",
    ")\n",
    "\n",
    "xgbsearch.fit(X_train, y_train)"
   ]
  },
  {
   "cell_type": "code",
   "execution_count": null,
   "metadata": {},
   "outputs": [],
   "source": [
    "submission.scoring_utils.get_best_kernels(xgbsearch.cv_results_)"
   ]
  },
  {
   "cell_type": "code",
   "execution_count": null,
   "metadata": {},
   "outputs": [],
   "source": [
    "xgbmodel = xgbsearch.best_estimator_\n",
    "\n",
    "yhat_test = xgbmodel.predict(X_test)\n",
    "yhat_total = xgbmodel.predict(X_total)"
   ]
  },
  {
   "cell_type": "code",
   "execution_count": null,
   "metadata": {},
   "outputs": [],
   "source": [
    "xgb_test_score = submission.scoring_utils.get_metrics(y_test, yhat_test, \"XGB Test\")\n",
    "xgb_total_score = submission.scoring_utils.get_metrics(y_total, yhat_total, \"XGB Total\")\n",
    "\n",
    "xgb_score = pd.concat((xgb_test_score, xgb_total_score))\n",
    "xgb_score"
   ]
  },
  {
   "cell_type": "code",
   "execution_count": null,
   "metadata": {},
   "outputs": [],
   "source": [
    "submission.scoring_utils.get_confusion_matrix(y_total, yhat_total, \"XGB\")"
   ]
  },
  {
   "cell_type": "code",
   "execution_count": null,
   "metadata": {},
   "outputs": [],
   "source": [
    "print(f\"We obtained a profit of ${submission.scoring_utils.get_profit(X_total, y_total, yhat_total):,.2f}\")"
   ]
  },
  {
   "cell_type": "markdown",
   "metadata": {},
   "source": [
    "# Hyperopt"
   ]
  },
  {
   "cell_type": "code",
   "execution_count": null,
   "metadata": {},
   "outputs": [],
   "source": [
    "from hyperopt import fmin, tpe, hp, STATUS_OK, Trials"
   ]
  },
  {
   "cell_type": "code",
   "execution_count": null,
   "metadata": {},
   "outputs": [],
   "source": [
    "\n",
    "xgb1 = xgb.XGBClassifier(\n",
    " learning_rate =0.1,\n",
    " n_estimators=100,\n",
    " verbosity=2,\n",
    " max_depth=11,\n",
    " min_child_weight=10,\n",
    " gamma=0.1,\n",
    " subsample=0.9,\n",
    " colsample_bytree=0.8,\n",
    " objective= 'binary:logistic',\n",
    " scale_pos_weight=5,\n",
    " seed=27)\n",
    "modelfit(xgb1, X_train, y_train)"
   ]
  },
  {
   "cell_type": "code",
   "execution_count": null,
   "metadata": {},
   "outputs": [],
   "source": [
    "from sklearn.metrics import recall_score"
   ]
  },
  {
   "cell_type": "code",
   "execution_count": null,
   "metadata": {},
   "outputs": [],
   "source": [
    "space={\n",
    "    'learning_rate': hp.uniform('learning_rate', 0.01, 0.2),\n",
    "    'max_depth': hp.quniform(\"max_depth\", 9, 12, 1),\n",
    "        'gamma': hp.uniform ('gamma', 0, 1.5),\n",
    "        'reg_alpha' : hp.quniform('reg_alpha', 40,180,1),\n",
    "        'reg_lambda' : hp.uniform('reg_lambda', 0,1),\n",
    "        'colsample_bytree' : hp.uniform('colsample_bytree', 0.5,1),\n",
    "        'min_child_weight' : hp.quniform('min_child_weight', 0, 20, 1),\n",
    "        'scale_pos_weight': 5,\n",
    "        'subsample': .9\n",
    "    }"
   ]
  },
  {
   "cell_type": "code",
   "execution_count": null,
   "metadata": {},
   "outputs": [],
   "source": [
    "from xgboost import XGBClassifier"
   ]
  },
  {
   "cell_type": "code",
   "execution_count": null,
   "metadata": {},
   "outputs": [],
   "source": [
    "\n",
    "xgb1 = xgb.XGBClassifier(\n",
    " learning_rate =0.1,\n",
    " n_estimators=100,\n",
    " verbosity=2,\n",
    " max_depth=11,\n",
    " min_child_weight=10,\n",
    " gamma=0.1,\n",
    " subsample=0.9,\n",
    " colsample_bytree=0.8,\n",
    " objective= 'binary:logistic',\n",
    " scale_pos_weight=5,\n",
    " seed=27)\n",
    "modelfit(xgb1, X_train, y_train)"
   ]
  },
  {
   "cell_type": "code",
   "execution_count": null,
   "metadata": {},
   "outputs": [],
   "source": [
    "model = XGBClassifier(\n",
    "        learning_rate= 0.1, \n",
    "        max_depth = 11,\n",
    "        gamma = 0.1,           \n",
    "        colsample_bytree= .8,\n",
    "        min_child_weight= 10,\n",
    "        scale_pos_weight= 5,\n",
    "        subsample= .9,\n",
    "        n_estimators = 100, \n",
    "        eval_metric='recall',\n",
    "        early_stopping_rounds=10 ,\n",
    "        verbosity=2,\n",
    "        objective= 'binary:logistic'\n",
    "    )"
   ]
  },
  {
   "cell_type": "code",
   "execution_count": null,
   "metadata": {},
   "outputs": [],
   "source": [
    "from sklearn.metrics import f1_score"
   ]
  },
  {
   "cell_type": "code",
   "execution_count": null,
   "metadata": {},
   "outputs": [],
   "source": [
    "def hyperparameter_tuning(space):\n",
    "    model = XGBClassifier(\n",
    "        learning_rate= space['learning_rate'], \n",
    "        max_depth = int(space['max_depth']),\n",
    "        gamma = space['gamma'],           \n",
    "        reg_alpha = int(space['reg_alpha']),\n",
    "        reg_lambda = space['reg_lambda'],\n",
    "        colsample_bytree=space['colsample_bytree'],\n",
    "        min_child_weight=space['min_child_weight'],\n",
    "        scale_pos_weight= 5,\n",
    "        subsample= .9,\n",
    "        n_estimators = 100, \n",
    "        eval_metric='auc',\n",
    "        early_stopping_rounds=10 \n",
    "    )\n",
    "\n",
    "    evaluation = [( X_train, y_train), ( X_test, y_test)]\n",
    "    \n",
    "    model.fit(X_train, y_train,\n",
    "            eval_set=evaluation,\n",
    "            verbose=True)\n",
    "\n",
    "    pred = model.predict(X_test)\n",
    "    recall = f1_score(y_test, pred)\n",
    "    print (\"SCORE:\", recall)\n",
    "    #change the metric if you like\n",
    "    return {'loss': -recall, 'status': STATUS_OK, 'model': model}"
   ]
  },
  {
   "cell_type": "code",
   "execution_count": null,
   "metadata": {},
   "outputs": [],
   "source": [
    "submission.scoring_utils.get_profit(X_total, y_total, y_total)"
   ]
  },
  {
   "cell_type": "code",
   "execution_count": null,
   "metadata": {},
   "outputs": [],
   "source": [
    "trials = Trials()\n",
    "best = fmin(fn=hyperparameter_tuning,\n",
    "            space=space,\n",
    "            algo=tpe.suggest,\n",
    "            max_evals=100,\n",
    "            trials=trials)\n",
    "\n",
    "print (best)"
   ]
  },
  {
   "cell_type": "code",
   "execution_count": null,
   "metadata": {},
   "outputs": [],
   "source": [
    "trial = XGBClassifier(\n",
    "    objective='binary:logistic',\n",
    "    colsample_bytree=best['colsample_bytree'],\n",
    "    gamma=best['gamma'],\n",
    "    learning_rate=best['learning_rate'],\n",
    "    max_depth=int(best['max_depth']),\n",
    "    min_child_weight=best['min_child_weight'],\n",
    "    reg_alpha=best['reg_alpha'],\n",
    "    reg_lambda=best['reg_lambda'],\n",
    "    scale_pos_weight= 5,\n",
    "    subsample= .9,\n",
    "    n_estimators = 100, \n",
    "    eval_metric='auc'\n",
    ")\n",
    "\n",
    "old_version = XGBClassifier(\n",
    " learning_rate =0.1,\n",
    " n_estimators=100,\n",
    " verbosity=2,\n",
    " max_depth=11,\n",
    " min_child_weight=10,\n",
    " gamma=0.1,\n",
    " subsample=0.9,\n",
    " colsample_bytree=0.8,\n",
    " objective= 'binary:logistic',\n",
    " scale_pos_weight=5,\n",
    " seed=27)"
   ]
  },
  {
   "cell_type": "code",
   "execution_count": null,
   "metadata": {},
   "outputs": [],
   "source": [
    "\n",
    "evaluation = [( X_train, y_train), ( X_test, y_test)]\n",
    "    \n",
    "trial.fit(X_train, y_train,\n",
    "            eval_set=evaluation,\n",
    "            verbose=True)"
   ]
  },
  {
   "cell_type": "code",
   "execution_count": null,
   "metadata": {},
   "outputs": [],
   "source": [
    "yhat_test = trial.predict(X_test)\n",
    "yhat_total = trial.predict(X_total)\n"
   ]
  },
  {
   "cell_type": "code",
   "execution_count": null,
   "metadata": {},
   "outputs": [],
   "source": [
    "submission.scoring_utils.get_metrics(y_test, yhat_test, \"Trial Test\")"
   ]
  },
  {
   "cell_type": "code",
   "execution_count": null,
   "metadata": {},
   "outputs": [],
   "source": [
    "submission.scoring_utils.get_metrics(y_total, yhat_total, \"Trial Test\")"
   ]
  },
  {
   "cell_type": "code",
   "execution_count": null,
   "metadata": {},
   "outputs": [],
   "source": [
    "submission.scoring_utils.get_confusion_matrix(y_total, yhat_total, \"Old model\")"
   ]
  },
  {
   "cell_type": "code",
   "execution_count": null,
   "metadata": {},
   "outputs": [],
   "source": [
    "submission.scoring_utils.get_profit(X_total, y_total, yhat_total)"
   ]
  },
  {
   "cell_type": "code",
   "execution_count": null,
   "metadata": {},
   "outputs": [],
   "source": []
  }
 ],
 "metadata": {
  "kernelspec": {
   "display_name": "Python 3",
   "language": "python",
   "name": "python3"
  },
  "language_info": {
   "codemirror_mode": {
    "name": "ipython",
    "version": 3
   },
   "file_extension": ".py",
   "mimetype": "text/x-python",
   "name": "python",
   "nbconvert_exporter": "python",
   "pygments_lexer": "ipython3",
   "version": "3.11.5"
  },
  "orig_nbformat": 4
 },
 "nbformat": 4,
 "nbformat_minor": 2
}
