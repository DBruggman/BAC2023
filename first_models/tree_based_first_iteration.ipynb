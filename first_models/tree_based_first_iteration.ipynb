{
 "cells": [
  {
   "cell_type": "markdown",
   "metadata": {},
   "source": [
    "# First iteration of tree-based models.\n",
    "\n",
    "The hyperparameter optization process will be the following:\n",
    "1. Train with default hyperaparameters.\n",
    "2. Identify bias and variance.\n",
    "3. Choose first range for hyperparameters based on results.\n",
    "4. Train n models using HalvingRandomSearchCV from scikit learn.\n",
    "5. Pick the regions of the hyperparameter space that yield the best results.\n",
    "6. Centre the hyperparameter search on those regions and iterate.\n",
    "\n",
    "The scoring will consist in:\n",
    "1. Numerical scores for the testing subset: recall, precision, roc_auc, f1.\n",
    "2. Numerical scores for the whole data: recall, precision, roc_auc, f1.\n",
    "2. Visualization of the ROC curve for the whole data.\n",
    "4. Confusion matrix for the whole data.\n",
    "\n",
    "In this way we can see if each model over/underfits, comparing the test and total scores. Also, the ROC curve and the confusion matrix will show how each model is performing in the whole dataset.\n"
   ]
  },
  {
   "cell_type": "code",
   "execution_count": 1,
   "metadata": {},
   "outputs": [],
   "source": [
    "import pandas as pd\n",
    "pd.set_option('display.max_colwidth', None)\n",
    "# For random number generation\n",
    "from scipy.stats import randint, uniform\n",
    "\n",
    "from sklearn.experimental import enable_halving_search_cv # Allow importing the experimental HalvingGridSearchCV\n",
    "\n",
    "# Metrics and auxiliar libraries from sklearn.\n",
    "from sklearn.model_selection import train_test_split, HalvingRandomSearchCV, RepeatedStratifiedKFold, HalvingGridSearchCV\n",
    "\n",
    "# Some auxiliary functions for scoring.\n",
    "import scoring_utils\n",
    "\n",
    "#DEV\n",
    "import importlib as imp\n"
   ]
  },
  {
   "cell_type": "code",
   "execution_count": 2,
   "metadata": {},
   "outputs": [],
   "source": [
    "# Import the dataframe cleaned and encoded during the feature importance process.\n",
    "df_encoded = pd.read_csv('../data/df_encoded.csv')"
   ]
  },
  {
   "cell_type": "code",
   "execution_count": 3,
   "metadata": {},
   "outputs": [
    {
     "name": "stdout",
     "output_type": "stream",
     "text": [
      "Target: Default\n",
      "Features: ['NAICS', 'Term', 'NewExist', 'FranchiseCode', 'RevLineCr', 'LowDoc', 'GrAppv', 'SBA_Appv', 'isNewBusiness', 'isFranchise', 'SBARatio', 'NAICS_i_0', 'NAICS_i_11', 'NAICS_i_21', 'NAICS_i_22', 'NAICS_i_23', 'NAICS_i_31', 'NAICS_i_32', 'NAICS_i_33', 'NAICS_i_42', 'NAICS_i_44', 'NAICS_i_45', 'NAICS_i_48', 'NAICS_i_49', 'NAICS_i_51', 'NAICS_i_52', 'NAICS_i_53', 'NAICS_i_54', 'NAICS_i_55', 'NAICS_i_56', 'NAICS_i_61', 'NAICS_i_62', 'NAICS_i_71', 'NAICS_i_72', 'NAICS_i_81', 'NAICS_i_92', 'UrbanRural_0', 'UrbanRural_1', 'UrbanRural_2']\n"
     ]
    }
   ],
   "source": [
    "target = 'Default'\n",
    "features_encoded = [feature for feature in df_encoded.columns if feature not in target]\n",
    "# Our target and features are the same that we employed during the importance analysis.\n",
    "print(f\"Target: {target}\")\n",
    "print(f\"Features: {features_encoded}\")"
   ]
  },
  {
   "cell_type": "code",
   "execution_count": 4,
   "metadata": {},
   "outputs": [],
   "source": [
    "# This split will be used in every model, so that they are scored against the same subset.\n",
    "X_train, X_test, y_train, y_test = train_test_split(df_encoded[features_encoded], df_encoded[target], train_size = .9)\n",
    "# Complete datasets\n",
    "X_total = df_encoded[features_encoded]\n",
    "y_total = df_encoded[target]"
   ]
  },
  {
   "cell_type": "markdown",
   "metadata": {},
   "source": [
    "### Single Decision Tree Classifier"
   ]
  },
  {
   "cell_type": "code",
   "execution_count": 5,
   "metadata": {},
   "outputs": [
    {
     "data": {
      "text/html": [
       "<div>\n",
       "<style scoped>\n",
       "    .dataframe tbody tr th:only-of-type {\n",
       "        vertical-align: middle;\n",
       "    }\n",
       "\n",
       "    .dataframe tbody tr th {\n",
       "        vertical-align: top;\n",
       "    }\n",
       "\n",
       "    .dataframe thead th {\n",
       "        text-align: right;\n",
       "    }\n",
       "</style>\n",
       "<table border=\"1\" class=\"dataframe\">\n",
       "  <thead>\n",
       "    <tr style=\"text-align: right;\">\n",
       "      <th></th>\n",
       "      <th>Recall</th>\n",
       "      <th>Precision</th>\n",
       "      <th>ROC</th>\n",
       "      <th>F1</th>\n",
       "    </tr>\n",
       "  </thead>\n",
       "  <tbody>\n",
       "    <tr>\n",
       "      <th>Default Tree Train</th>\n",
       "      <td>0.974344</td>\n",
       "      <td>0.997530</td>\n",
       "      <td>0.986922</td>\n",
       "      <td>0.985801</td>\n",
       "    </tr>\n",
       "    <tr>\n",
       "      <th>Default Tree Test</th>\n",
       "      <td>0.756122</td>\n",
       "      <td>0.764873</td>\n",
       "      <td>0.853971</td>\n",
       "      <td>0.760472</td>\n",
       "    </tr>\n",
       "  </tbody>\n",
       "</table>\n",
       "</div>"
      ],
      "text/plain": [
       "                      Recall  Precision       ROC        F1\n",
       "Default Tree Train  0.974344   0.997530  0.986922  0.985801\n",
       "Default Tree Test   0.756122   0.764873  0.853971  0.760472"
      ]
     },
     "execution_count": 5,
     "metadata": {},
     "output_type": "execute_result"
    }
   ],
   "source": [
    "# Default check to identify bias/variance\n",
    "from sklearn.tree import DecisionTreeClassifier\n",
    "\n",
    "default_tree = DecisionTreeClassifier()\n",
    "default_tree.fit(X_train, y_train)\n",
    "\n",
    "yhat_train = default_tree.predict(X_train)\n",
    "yhat_test = default_tree.predict(X_test)\n",
    "\n",
    "default_tree_score = pd.concat((\n",
    "    scoring_utils.get_metrics(y_train, yhat_train, \"Default Tree Train\"),\n",
    "    scoring_utils.get_metrics(y_test, yhat_test, \"Default Tree Test\")\n",
    "    ))\n",
    "\n",
    "default_tree_score"
   ]
  },
  {
   "cell_type": "code",
   "execution_count": 6,
   "metadata": {},
   "outputs": [
    {
     "data": {
      "text/plain": [
       "{'ccp_alpha': 0.0,\n",
       " 'class_weight': None,\n",
       " 'criterion': 'gini',\n",
       " 'max_depth': None,\n",
       " 'max_features': None,\n",
       " 'max_leaf_nodes': None,\n",
       " 'min_impurity_decrease': 0.0,\n",
       " 'min_samples_leaf': 1,\n",
       " 'min_samples_split': 2,\n",
       " 'min_weight_fraction_leaf': 0.0,\n",
       " 'random_state': None,\n",
       " 'splitter': 'best'}"
      ]
     },
     "execution_count": 6,
     "metadata": {},
     "output_type": "execute_result"
    }
   ],
   "source": [
    "default_tree.get_params()"
   ]
  },
  {
   "cell_type": "markdown",
   "metadata": {},
   "source": [
    "It does overfit! Let's decrease the variance by tuning the hyperparameters."
   ]
  },
  {
   "cell_type": "code",
   "execution_count": 7,
   "metadata": {},
   "outputs": [
    {
     "data": {
      "text/html": [
       "<style>#sk-container-id-1 {color: black;}#sk-container-id-1 pre{padding: 0;}#sk-container-id-1 div.sk-toggleable {background-color: white;}#sk-container-id-1 label.sk-toggleable__label {cursor: pointer;display: block;width: 100%;margin-bottom: 0;padding: 0.3em;box-sizing: border-box;text-align: center;}#sk-container-id-1 label.sk-toggleable__label-arrow:before {content: \"▸\";float: left;margin-right: 0.25em;color: #696969;}#sk-container-id-1 label.sk-toggleable__label-arrow:hover:before {color: black;}#sk-container-id-1 div.sk-estimator:hover label.sk-toggleable__label-arrow:before {color: black;}#sk-container-id-1 div.sk-toggleable__content {max-height: 0;max-width: 0;overflow: hidden;text-align: left;background-color: #f0f8ff;}#sk-container-id-1 div.sk-toggleable__content pre {margin: 0.2em;color: black;border-radius: 0.25em;background-color: #f0f8ff;}#sk-container-id-1 input.sk-toggleable__control:checked~div.sk-toggleable__content {max-height: 200px;max-width: 100%;overflow: auto;}#sk-container-id-1 input.sk-toggleable__control:checked~label.sk-toggleable__label-arrow:before {content: \"▾\";}#sk-container-id-1 div.sk-estimator input.sk-toggleable__control:checked~label.sk-toggleable__label {background-color: #d4ebff;}#sk-container-id-1 div.sk-label input.sk-toggleable__control:checked~label.sk-toggleable__label {background-color: #d4ebff;}#sk-container-id-1 input.sk-hidden--visually {border: 0;clip: rect(1px 1px 1px 1px);clip: rect(1px, 1px, 1px, 1px);height: 1px;margin: -1px;overflow: hidden;padding: 0;position: absolute;width: 1px;}#sk-container-id-1 div.sk-estimator {font-family: monospace;background-color: #f0f8ff;border: 1px dotted black;border-radius: 0.25em;box-sizing: border-box;margin-bottom: 0.5em;}#sk-container-id-1 div.sk-estimator:hover {background-color: #d4ebff;}#sk-container-id-1 div.sk-parallel-item::after {content: \"\";width: 100%;border-bottom: 1px solid gray;flex-grow: 1;}#sk-container-id-1 div.sk-label:hover label.sk-toggleable__label {background-color: #d4ebff;}#sk-container-id-1 div.sk-serial::before {content: \"\";position: absolute;border-left: 1px solid gray;box-sizing: border-box;top: 0;bottom: 0;left: 50%;z-index: 0;}#sk-container-id-1 div.sk-serial {display: flex;flex-direction: column;align-items: center;background-color: white;padding-right: 0.2em;padding-left: 0.2em;position: relative;}#sk-container-id-1 div.sk-item {position: relative;z-index: 1;}#sk-container-id-1 div.sk-parallel {display: flex;align-items: stretch;justify-content: center;background-color: white;position: relative;}#sk-container-id-1 div.sk-item::before, #sk-container-id-1 div.sk-parallel-item::before {content: \"\";position: absolute;border-left: 1px solid gray;box-sizing: border-box;top: 0;bottom: 0;left: 50%;z-index: -1;}#sk-container-id-1 div.sk-parallel-item {display: flex;flex-direction: column;z-index: 1;position: relative;background-color: white;}#sk-container-id-1 div.sk-parallel-item:first-child::after {align-self: flex-end;width: 50%;}#sk-container-id-1 div.sk-parallel-item:last-child::after {align-self: flex-start;width: 50%;}#sk-container-id-1 div.sk-parallel-item:only-child::after {width: 0;}#sk-container-id-1 div.sk-dashed-wrapped {border: 1px dashed gray;margin: 0 0.4em 0.5em 0.4em;box-sizing: border-box;padding-bottom: 0.4em;background-color: white;}#sk-container-id-1 div.sk-label label {font-family: monospace;font-weight: bold;display: inline-block;line-height: 1.2em;}#sk-container-id-1 div.sk-label-container {text-align: center;}#sk-container-id-1 div.sk-container {/* jupyter's `normalize.less` sets `[hidden] { display: none; }` but bootstrap.min.css set `[hidden] { display: none !important; }` so we also need the `!important` here to be able to override the default hidden behavior on the sphinx rendered scikit-learn.org. See: https://github.com/scikit-learn/scikit-learn/issues/21755 */display: inline-block !important;position: relative;}#sk-container-id-1 div.sk-text-repr-fallback {display: none;}</style><div id=\"sk-container-id-1\" class=\"sk-top-container\"><div class=\"sk-text-repr-fallback\"><pre>HalvingRandomSearchCV(cv=RepeatedStratifiedKFold(n_repeats=3, n_splits=3, random_state=9),\n",
       "                      estimator=DecisionTreeClassifier(class_weight=&#x27;balanced&#x27;),\n",
       "                      n_candidates=1000, n_jobs=-1,\n",
       "                      param_distributions=[{&#x27;max_depth&#x27;: &lt;scipy.stats._distn_infrastructure.rv_discrete_frozen object at 0x17ff0ffd0&gt;,\n",
       "                                            &#x27;min_samples_split&#x27;: &lt;scipy.stats._distn_infrastructure.rv_discrete_frozen object at 0x157e10810&gt;}],\n",
       "                      scoring=&#x27;recall&#x27;)</pre><b>In a Jupyter environment, please rerun this cell to show the HTML representation or trust the notebook. <br />On GitHub, the HTML representation is unable to render, please try loading this page with nbviewer.org.</b></div><div class=\"sk-container\" hidden><div class=\"sk-item sk-dashed-wrapped\"><div class=\"sk-label-container\"><div class=\"sk-label sk-toggleable\"><input class=\"sk-toggleable__control sk-hidden--visually\" id=\"sk-estimator-id-1\" type=\"checkbox\" ><label for=\"sk-estimator-id-1\" class=\"sk-toggleable__label sk-toggleable__label-arrow\">HalvingRandomSearchCV</label><div class=\"sk-toggleable__content\"><pre>HalvingRandomSearchCV(cv=RepeatedStratifiedKFold(n_repeats=3, n_splits=3, random_state=9),\n",
       "                      estimator=DecisionTreeClassifier(class_weight=&#x27;balanced&#x27;),\n",
       "                      n_candidates=1000, n_jobs=-1,\n",
       "                      param_distributions=[{&#x27;max_depth&#x27;: &lt;scipy.stats._distn_infrastructure.rv_discrete_frozen object at 0x17ff0ffd0&gt;,\n",
       "                                            &#x27;min_samples_split&#x27;: &lt;scipy.stats._distn_infrastructure.rv_discrete_frozen object at 0x157e10810&gt;}],\n",
       "                      scoring=&#x27;recall&#x27;)</pre></div></div></div><div class=\"sk-parallel\"><div class=\"sk-parallel-item\"><div class=\"sk-item\"><div class=\"sk-label-container\"><div class=\"sk-label sk-toggleable\"><input class=\"sk-toggleable__control sk-hidden--visually\" id=\"sk-estimator-id-2\" type=\"checkbox\" ><label for=\"sk-estimator-id-2\" class=\"sk-toggleable__label sk-toggleable__label-arrow\">estimator: DecisionTreeClassifier</label><div class=\"sk-toggleable__content\"><pre>DecisionTreeClassifier(class_weight=&#x27;balanced&#x27;)</pre></div></div></div><div class=\"sk-serial\"><div class=\"sk-item\"><div class=\"sk-estimator sk-toggleable\"><input class=\"sk-toggleable__control sk-hidden--visually\" id=\"sk-estimator-id-3\" type=\"checkbox\" ><label for=\"sk-estimator-id-3\" class=\"sk-toggleable__label sk-toggleable__label-arrow\">DecisionTreeClassifier</label><div class=\"sk-toggleable__content\"><pre>DecisionTreeClassifier(class_weight=&#x27;balanced&#x27;)</pre></div></div></div></div></div></div></div></div></div></div>"
      ],
      "text/plain": [
       "HalvingRandomSearchCV(cv=RepeatedStratifiedKFold(n_repeats=3, n_splits=3, random_state=9),\n",
       "                      estimator=DecisionTreeClassifier(class_weight='balanced'),\n",
       "                      n_candidates=1000, n_jobs=-1,\n",
       "                      param_distributions=[{'max_depth': <scipy.stats._distn_infrastructure.rv_discrete_frozen object at 0x17ff0ffd0>,\n",
       "                                            'min_samples_split': <scipy.stats._distn_infrastructure.rv_discrete_frozen object at 0x157e10810>}],\n",
       "                      scoring='recall')"
      ]
     },
     "execution_count": 7,
     "metadata": {},
     "output_type": "execute_result"
    }
   ],
   "source": [
    "\n",
    "# Grid of parameters for a single tree\n",
    "param_grid = [\n",
    "    {\n",
    "        \"min_samples_split\": randint(100, 200),\n",
    "        \"max_depth\": randint(14, 18)\n",
    "    }\n",
    "]\n",
    "\n",
    "# Cross validation in 3 folds for our grid search parameter selection.\n",
    "# It must be consistent across the folds, so the random state has to be fixed.\n",
    "cv = RepeatedStratifiedKFold(n_splits=3, n_repeats=3, random_state=9)\n",
    "\n",
    "single_tree_search = HalvingRandomSearchCV(\n",
    "    estimator=DecisionTreeClassifier(class_weight='balanced'),\n",
    "    param_distributions=param_grid,\n",
    "    scoring='recall',\n",
    "    cv=cv,\n",
    "    n_jobs=-1,\n",
    "    n_candidates=1000\n",
    ")\n",
    "\n",
    "single_tree_search.fit(X_train, y_train)\n"
   ]
  },
  {
   "cell_type": "code",
   "execution_count": 8,
   "metadata": {},
   "outputs": [
    {
     "data": {
      "text/html": [
       "<div>\n",
       "<style scoped>\n",
       "    .dataframe tbody tr th:only-of-type {\n",
       "        vertical-align: middle;\n",
       "    }\n",
       "\n",
       "    .dataframe tbody tr th {\n",
       "        vertical-align: top;\n",
       "    }\n",
       "\n",
       "    .dataframe thead th {\n",
       "        text-align: right;\n",
       "    }\n",
       "</style>\n",
       "<table border=\"1\" class=\"dataframe\">\n",
       "  <thead>\n",
       "    <tr style=\"text-align: right;\">\n",
       "      <th></th>\n",
       "      <th>params</th>\n",
       "      <th>rank_test_score</th>\n",
       "      <th>mean_test_score</th>\n",
       "    </tr>\n",
       "    <tr>\n",
       "      <th>kernel</th>\n",
       "      <th></th>\n",
       "      <th></th>\n",
       "      <th></th>\n",
       "    </tr>\n",
       "  </thead>\n",
       "  <tbody>\n",
       "    <tr>\n",
       "      <th>16_165</th>\n",
       "      <td>{'max_depth': 16, 'min_samples_split': 165}</td>\n",
       "      <td>1</td>\n",
       "      <td>0.890727</td>\n",
       "    </tr>\n",
       "    <tr>\n",
       "      <th>16_166</th>\n",
       "      <td>{'max_depth': 16, 'min_samples_split': 166}</td>\n",
       "      <td>2</td>\n",
       "      <td>0.890288</td>\n",
       "    </tr>\n",
       "    <tr>\n",
       "      <th>16_165</th>\n",
       "      <td>{'max_depth': 16, 'min_samples_split': 165}</td>\n",
       "      <td>3</td>\n",
       "      <td>0.887195</td>\n",
       "    </tr>\n",
       "    <tr>\n",
       "      <th>16_160</th>\n",
       "      <td>{'max_depth': 16, 'min_samples_split': 160}</td>\n",
       "      <td>3</td>\n",
       "      <td>0.887195</td>\n",
       "    </tr>\n",
       "    <tr>\n",
       "      <th>16_166</th>\n",
       "      <td>{'max_depth': 16, 'min_samples_split': 166}</td>\n",
       "      <td>3</td>\n",
       "      <td>0.887195</td>\n",
       "    </tr>\n",
       "    <tr>\n",
       "      <th>...</th>\n",
       "      <td>...</td>\n",
       "      <td>...</td>\n",
       "      <td>...</td>\n",
       "    </tr>\n",
       "    <tr>\n",
       "      <th>16_175</th>\n",
       "      <td>{'max_depth': 16, 'min_samples_split': 175}</td>\n",
       "      <td>1171</td>\n",
       "      <td>0.222222</td>\n",
       "    </tr>\n",
       "    <tr>\n",
       "      <th>15_184</th>\n",
       "      <td>{'max_depth': 15, 'min_samples_split': 184}</td>\n",
       "      <td>1171</td>\n",
       "      <td>0.222222</td>\n",
       "    </tr>\n",
       "    <tr>\n",
       "      <th>15_184</th>\n",
       "      <td>{'max_depth': 15, 'min_samples_split': 184}</td>\n",
       "      <td>1171</td>\n",
       "      <td>0.222222</td>\n",
       "    </tr>\n",
       "    <tr>\n",
       "      <th>14_172</th>\n",
       "      <td>{'max_depth': 14, 'min_samples_split': 172}</td>\n",
       "      <td>1171</td>\n",
       "      <td>0.222222</td>\n",
       "    </tr>\n",
       "    <tr>\n",
       "      <th>17_147</th>\n",
       "      <td>{'max_depth': 17, 'min_samples_split': 147}</td>\n",
       "      <td>1171</td>\n",
       "      <td>0.222222</td>\n",
       "    </tr>\n",
       "  </tbody>\n",
       "</table>\n",
       "<p>1504 rows × 3 columns</p>\n",
       "</div>"
      ],
      "text/plain": [
       "                                             params  rank_test_score  \\\n",
       "kernel                                                                 \n",
       "16_165  {'max_depth': 16, 'min_samples_split': 165}                1   \n",
       "16_166  {'max_depth': 16, 'min_samples_split': 166}                2   \n",
       "16_165  {'max_depth': 16, 'min_samples_split': 165}                3   \n",
       "16_160  {'max_depth': 16, 'min_samples_split': 160}                3   \n",
       "16_166  {'max_depth': 16, 'min_samples_split': 166}                3   \n",
       "...                                             ...              ...   \n",
       "16_175  {'max_depth': 16, 'min_samples_split': 175}             1171   \n",
       "15_184  {'max_depth': 15, 'min_samples_split': 184}             1171   \n",
       "15_184  {'max_depth': 15, 'min_samples_split': 184}             1171   \n",
       "14_172  {'max_depth': 14, 'min_samples_split': 172}             1171   \n",
       "17_147  {'max_depth': 17, 'min_samples_split': 147}             1171   \n",
       "\n",
       "        mean_test_score  \n",
       "kernel                   \n",
       "16_165         0.890727  \n",
       "16_166         0.890288  \n",
       "16_165         0.887195  \n",
       "16_160         0.887195  \n",
       "16_166         0.887195  \n",
       "...                 ...  \n",
       "16_175         0.222222  \n",
       "15_184         0.222222  \n",
       "15_184         0.222222  \n",
       "14_172         0.222222  \n",
       "17_147         0.222222  \n",
       "\n",
       "[1504 rows x 3 columns]"
      ]
     },
     "execution_count": 8,
     "metadata": {},
     "output_type": "execute_result"
    }
   ],
   "source": [
    "scoring_utils.get_best_kernels(single_tree_search.cv_results_)"
   ]
  },
  {
   "cell_type": "code",
   "execution_count": 9,
   "metadata": {},
   "outputs": [],
   "source": [
    "# Let's use the best estimator to obtain test and overall scores \n",
    "single_tree_model = single_tree_search.best_estimator_\n",
    "\n",
    "yhat_test = single_tree_model.predict(X_test)\n",
    "yhat_total = single_tree_model.predict(X_total)"
   ]
  },
  {
   "cell_type": "code",
   "execution_count": 10,
   "metadata": {},
   "outputs": [
    {
     "data": {
      "text/html": [
       "<div>\n",
       "<style scoped>\n",
       "    .dataframe tbody tr th:only-of-type {\n",
       "        vertical-align: middle;\n",
       "    }\n",
       "\n",
       "    .dataframe tbody tr th {\n",
       "        vertical-align: top;\n",
       "    }\n",
       "\n",
       "    .dataframe thead th {\n",
       "        text-align: right;\n",
       "    }\n",
       "</style>\n",
       "<table border=\"1\" class=\"dataframe\">\n",
       "  <thead>\n",
       "    <tr style=\"text-align: right;\">\n",
       "      <th></th>\n",
       "      <th>Recall</th>\n",
       "      <th>Precision</th>\n",
       "      <th>ROC</th>\n",
       "      <th>F1</th>\n",
       "    </tr>\n",
       "  </thead>\n",
       "  <tbody>\n",
       "    <tr>\n",
       "      <th>Single Tree Test</th>\n",
       "      <td>0.919577</td>\n",
       "      <td>0.676311</td>\n",
       "      <td>0.914175</td>\n",
       "      <td>0.779403</td>\n",
       "    </tr>\n",
       "    <tr>\n",
       "      <th>Single Tree Total</th>\n",
       "      <td>0.934664</td>\n",
       "      <td>0.691592</td>\n",
       "      <td>0.924205</td>\n",
       "      <td>0.794963</td>\n",
       "    </tr>\n",
       "  </tbody>\n",
       "</table>\n",
       "</div>"
      ],
      "text/plain": [
       "                     Recall  Precision       ROC        F1\n",
       "Single Tree Test   0.919577   0.676311  0.914175  0.779403\n",
       "Single Tree Total  0.934664   0.691592  0.924205  0.794963"
      ]
     },
     "execution_count": 10,
     "metadata": {},
     "output_type": "execute_result"
    }
   ],
   "source": [
    "single_tree_test_score = scoring_utils.get_metrics(y_test, yhat_test, \"Single Tree Test\")\n",
    "single_tree_total_score = scoring_utils.get_metrics(y_total, yhat_total, \"Single Tree Total\")\n",
    "\n",
    "single_tree_score = pd.concat((single_tree_test_score, single_tree_total_score))\n",
    "single_tree_score"
   ]
  },
  {
   "cell_type": "code",
   "execution_count": 11,
   "metadata": {},
   "outputs": [
    {
     "name": "stdout",
     "output_type": "stream",
     "text": [
      "We obtained a profit of $6,637,183,694.35\n"
     ]
    }
   ],
   "source": [
    "print(f\"We obtained a profit of ${scoring_utils.get_profit(X_total, y_total, yhat_total):,.2f}\")"
   ]
  },
  {
   "cell_type": "code",
   "execution_count": 12,
   "metadata": {},
   "outputs": [
    {
     "data": {
      "image/png": "[encoded data removed]",
      "text/plain": [
       "<Figure size 800x600 with 1 Axes>"
      ]
     },
     "metadata": {},
     "output_type": "display_data"
    }
   ],
   "source": [
    "scoring_utils.get_roc_plot(y_total, yhat_total, \"Single Tree Whole Data\")"
   ]
  },
  {
   "cell_type": "code",
   "execution_count": 13,
   "metadata": {},
   "outputs": [
    {
     "data": {
      "image/png": "[encoded data removed]",
      "text/plain": [
       "<Figure size 800x600 with 2 Axes>"
      ]
     },
     "metadata": {},
     "output_type": "display_data"
    }
   ],
   "source": [
    "scoring_utils.get_confusion_matrix(y_total, yhat_total, \"Single Tree Whole Data\")"
   ]
  },
  {
   "cell_type": "markdown",
   "metadata": {},
   "source": [
    "### Bagging classifier"
   ]
  },
  {
   "cell_type": "code",
   "execution_count": 14,
   "metadata": {},
   "outputs": [
    {
     "data": {
      "text/html": [
       "<div>\n",
       "<style scoped>\n",
       "    .dataframe tbody tr th:only-of-type {\n",
       "        vertical-align: middle;\n",
       "    }\n",
       "\n",
       "    .dataframe tbody tr th {\n",
       "        vertical-align: top;\n",
       "    }\n",
       "\n",
       "    .dataframe thead th {\n",
       "        text-align: right;\n",
       "    }\n",
       "</style>\n",
       "<table border=\"1\" class=\"dataframe\">\n",
       "  <thead>\n",
       "    <tr style=\"text-align: right;\">\n",
       "      <th></th>\n",
       "      <th>Recall</th>\n",
       "      <th>Precision</th>\n",
       "      <th>ROC</th>\n",
       "      <th>F1</th>\n",
       "    </tr>\n",
       "  </thead>\n",
       "  <tbody>\n",
       "    <tr>\n",
       "      <th>Default Bagging Train</th>\n",
       "      <td>0.956728</td>\n",
       "      <td>0.983288</td>\n",
       "      <td>0.976682</td>\n",
       "      <td>0.969826</td>\n",
       "    </tr>\n",
       "    <tr>\n",
       "      <th>Default Bagging Test</th>\n",
       "      <td>0.779607</td>\n",
       "      <td>0.814142</td>\n",
       "      <td>0.871358</td>\n",
       "      <td>0.796500</td>\n",
       "    </tr>\n",
       "  </tbody>\n",
       "</table>\n",
       "</div>"
      ],
      "text/plain": [
       "                         Recall  Precision       ROC        F1\n",
       "Default Bagging Train  0.956728   0.983288  0.976682  0.969826\n",
       "Default Bagging Test   0.779607   0.814142  0.871358  0.796500"
      ]
     },
     "execution_count": 14,
     "metadata": {},
     "output_type": "execute_result"
    }
   ],
   "source": [
    "# Default check to identify bias/variance\n",
    "from sklearn.ensemble import BaggingClassifier\n",
    "\n",
    "default_bagging = BaggingClassifier(DecisionTreeClassifier(), n_jobs=-1)\n",
    "default_bagging.fit(X_train, y_train)\n",
    "\n",
    "yhat_train = default_bagging.predict(X_train)\n",
    "yhat_test = default_bagging.predict(X_test)\n",
    "\n",
    "default_bagging_score = pd.concat((\n",
    "    scoring_utils.get_metrics(y_train, yhat_train, \"Default Bagging Train\"),\n",
    "    scoring_utils.get_metrics(y_test, yhat_test, \"Default Bagging Test\")\n",
    "    ))\n",
    "\n",
    "default_bagging_score"
   ]
  },
  {
   "cell_type": "code",
   "execution_count": 15,
   "metadata": {},
   "outputs": [
    {
     "data": {
      "text/plain": [
       "{'base_estimator': 'deprecated',\n",
       " 'bootstrap': True,\n",
       " 'bootstrap_features': False,\n",
       " 'estimator__ccp_alpha': 0.0,\n",
       " 'estimator__class_weight': None,\n",
       " 'estimator__criterion': 'gini',\n",
       " 'estimator__max_depth': None,\n",
       " 'estimator__max_features': None,\n",
       " 'estimator__max_leaf_nodes': None,\n",
       " 'estimator__min_impurity_decrease': 0.0,\n",
       " 'estimator__min_samples_leaf': 1,\n",
       " 'estimator__min_samples_split': 2,\n",
       " 'estimator__min_weight_fraction_leaf': 0.0,\n",
       " 'estimator__random_state': None,\n",
       " 'estimator__splitter': 'best',\n",
       " 'estimator': DecisionTreeClassifier(),\n",
       " 'max_features': 1.0,\n",
       " 'max_samples': 1.0,\n",
       " 'n_estimators': 10,\n",
       " 'n_jobs': -1,\n",
       " 'oob_score': False,\n",
       " 'random_state': None,\n",
       " 'verbose': 0,\n",
       " 'warm_start': False}"
      ]
     },
     "execution_count": 15,
     "metadata": {},
     "output_type": "execute_result"
    }
   ],
   "source": [
    "default_bagging.get_params()"
   ]
  },
  {
   "cell_type": "code",
   "execution_count": 16,
   "metadata": {},
   "outputs": [
    {
     "name": "stdout",
     "output_type": "stream",
     "text": [
      "n_iterations: 2\n",
      "n_required_iterations: 2\n",
      "n_possible_iterations: 2\n",
      "min_resources_: 261154\n",
      "max_resources_: 783462\n",
      "aggressive_elimination: False\n",
      "factor: 3\n",
      "----------\n",
      "iter: 0\n",
      "n_candidates: 3\n",
      "n_resources: 261154\n",
      "Fitting 9 folds for each of 3 candidates, totalling 27 fits\n",
      "----------\n",
      "iter: 1\n",
      "n_candidates: 1\n",
      "n_resources: 783462\n",
      "Fitting 9 folds for each of 1 candidates, totalling 9 fits\n"
     ]
    },
    {
     "data": {
      "text/html": [
       "<style>#sk-container-id-2 {color: black;}#sk-container-id-2 pre{padding: 0;}#sk-container-id-2 div.sk-toggleable {background-color: white;}#sk-container-id-2 label.sk-toggleable__label {cursor: pointer;display: block;width: 100%;margin-bottom: 0;padding: 0.3em;box-sizing: border-box;text-align: center;}#sk-container-id-2 label.sk-toggleable__label-arrow:before {content: \"▸\";float: left;margin-right: 0.25em;color: #696969;}#sk-container-id-2 label.sk-toggleable__label-arrow:hover:before {color: black;}#sk-container-id-2 div.sk-estimator:hover label.sk-toggleable__label-arrow:before {color: black;}#sk-container-id-2 div.sk-toggleable__content {max-height: 0;max-width: 0;overflow: hidden;text-align: left;background-color: #f0f8ff;}#sk-container-id-2 div.sk-toggleable__content pre {margin: 0.2em;color: black;border-radius: 0.25em;background-color: #f0f8ff;}#sk-container-id-2 input.sk-toggleable__control:checked~div.sk-toggleable__content {max-height: 200px;max-width: 100%;overflow: auto;}#sk-container-id-2 input.sk-toggleable__control:checked~label.sk-toggleable__label-arrow:before {content: \"▾\";}#sk-container-id-2 div.sk-estimator input.sk-toggleable__control:checked~label.sk-toggleable__label {background-color: #d4ebff;}#sk-container-id-2 div.sk-label input.sk-toggleable__control:checked~label.sk-toggleable__label {background-color: #d4ebff;}#sk-container-id-2 input.sk-hidden--visually {border: 0;clip: rect(1px 1px 1px 1px);clip: rect(1px, 1px, 1px, 1px);height: 1px;margin: -1px;overflow: hidden;padding: 0;position: absolute;width: 1px;}#sk-container-id-2 div.sk-estimator {font-family: monospace;background-color: #f0f8ff;border: 1px dotted black;border-radius: 0.25em;box-sizing: border-box;margin-bottom: 0.5em;}#sk-container-id-2 div.sk-estimator:hover {background-color: #d4ebff;}#sk-container-id-2 div.sk-parallel-item::after {content: \"\";width: 100%;border-bottom: 1px solid gray;flex-grow: 1;}#sk-container-id-2 div.sk-label:hover label.sk-toggleable__label {background-color: #d4ebff;}#sk-container-id-2 div.sk-serial::before {content: \"\";position: absolute;border-left: 1px solid gray;box-sizing: border-box;top: 0;bottom: 0;left: 50%;z-index: 0;}#sk-container-id-2 div.sk-serial {display: flex;flex-direction: column;align-items: center;background-color: white;padding-right: 0.2em;padding-left: 0.2em;position: relative;}#sk-container-id-2 div.sk-item {position: relative;z-index: 1;}#sk-container-id-2 div.sk-parallel {display: flex;align-items: stretch;justify-content: center;background-color: white;position: relative;}#sk-container-id-2 div.sk-item::before, #sk-container-id-2 div.sk-parallel-item::before {content: \"\";position: absolute;border-left: 1px solid gray;box-sizing: border-box;top: 0;bottom: 0;left: 50%;z-index: -1;}#sk-container-id-2 div.sk-parallel-item {display: flex;flex-direction: column;z-index: 1;position: relative;background-color: white;}#sk-container-id-2 div.sk-parallel-item:first-child::after {align-self: flex-end;width: 50%;}#sk-container-id-2 div.sk-parallel-item:last-child::after {align-self: flex-start;width: 50%;}#sk-container-id-2 div.sk-parallel-item:only-child::after {width: 0;}#sk-container-id-2 div.sk-dashed-wrapped {border: 1px dashed gray;margin: 0 0.4em 0.5em 0.4em;box-sizing: border-box;padding-bottom: 0.4em;background-color: white;}#sk-container-id-2 div.sk-label label {font-family: monospace;font-weight: bold;display: inline-block;line-height: 1.2em;}#sk-container-id-2 div.sk-label-container {text-align: center;}#sk-container-id-2 div.sk-container {/* jupyter's `normalize.less` sets `[hidden] { display: none; }` but bootstrap.min.css set `[hidden] { display: none !important; }` so we also need the `!important` here to be able to override the default hidden behavior on the sphinx rendered scikit-learn.org. See: https://github.com/scikit-learn/scikit-learn/issues/21755 */display: inline-block !important;position: relative;}#sk-container-id-2 div.sk-text-repr-fallback {display: none;}</style><div id=\"sk-container-id-2\" class=\"sk-top-container\"><div class=\"sk-text-repr-fallback\"><pre>HalvingGridSearchCV(cv=RepeatedStratifiedKFold(n_repeats=3, n_splits=3, random_state=9),\n",
       "                    estimator=BaggingClassifier(estimator=DecisionTreeClassifier(class_weight=&#x27;balanced&#x27;,\n",
       "                                                                                 max_depth=16,\n",
       "                                                                                 min_samples_split=165)),\n",
       "                    n_jobs=-1, param_grid=[{&#x27;max_samples&#x27;: [0.8, 0.9, 1.0]}],\n",
       "                    scoring=&#x27;recall&#x27;, verbose=1)</pre><b>In a Jupyter environment, please rerun this cell to show the HTML representation or trust the notebook. <br />On GitHub, the HTML representation is unable to render, please try loading this page with nbviewer.org.</b></div><div class=\"sk-container\" hidden><div class=\"sk-item sk-dashed-wrapped\"><div class=\"sk-label-container\"><div class=\"sk-label sk-toggleable\"><input class=\"sk-toggleable__control sk-hidden--visually\" id=\"sk-estimator-id-4\" type=\"checkbox\" ><label for=\"sk-estimator-id-4\" class=\"sk-toggleable__label sk-toggleable__label-arrow\">HalvingGridSearchCV</label><div class=\"sk-toggleable__content\"><pre>HalvingGridSearchCV(cv=RepeatedStratifiedKFold(n_repeats=3, n_splits=3, random_state=9),\n",
       "                    estimator=BaggingClassifier(estimator=DecisionTreeClassifier(class_weight=&#x27;balanced&#x27;,\n",
       "                                                                                 max_depth=16,\n",
       "                                                                                 min_samples_split=165)),\n",
       "                    n_jobs=-1, param_grid=[{&#x27;max_samples&#x27;: [0.8, 0.9, 1.0]}],\n",
       "                    scoring=&#x27;recall&#x27;, verbose=1)</pre></div></div></div><div class=\"sk-parallel\"><div class=\"sk-parallel-item\"><div class=\"sk-item\"><div class=\"sk-label-container\"><div class=\"sk-label sk-toggleable\"><input class=\"sk-toggleable__control sk-hidden--visually\" id=\"sk-estimator-id-5\" type=\"checkbox\" ><label for=\"sk-estimator-id-5\" class=\"sk-toggleable__label sk-toggleable__label-arrow\">estimator: BaggingClassifier</label><div class=\"sk-toggleable__content\"><pre>BaggingClassifier(estimator=DecisionTreeClassifier(class_weight=&#x27;balanced&#x27;,\n",
       "                                                   max_depth=16,\n",
       "                                                   min_samples_split=165))</pre></div></div></div><div class=\"sk-serial\"><div class=\"sk-item sk-dashed-wrapped\"><div class=\"sk-parallel\"><div class=\"sk-parallel-item\"><div class=\"sk-item\"><div class=\"sk-label-container\"><div class=\"sk-label sk-toggleable\"><input class=\"sk-toggleable__control sk-hidden--visually\" id=\"sk-estimator-id-6\" type=\"checkbox\" ><label for=\"sk-estimator-id-6\" class=\"sk-toggleable__label sk-toggleable__label-arrow\">estimator: DecisionTreeClassifier</label><div class=\"sk-toggleable__content\"><pre>DecisionTreeClassifier(class_weight=&#x27;balanced&#x27;, max_depth=16,\n",
       "                       min_samples_split=165)</pre></div></div></div><div class=\"sk-serial\"><div class=\"sk-item\"><div class=\"sk-estimator sk-toggleable\"><input class=\"sk-toggleable__control sk-hidden--visually\" id=\"sk-estimator-id-7\" type=\"checkbox\" ><label for=\"sk-estimator-id-7\" class=\"sk-toggleable__label sk-toggleable__label-arrow\">DecisionTreeClassifier</label><div class=\"sk-toggleable__content\"><pre>DecisionTreeClassifier(class_weight=&#x27;balanced&#x27;, max_depth=16,\n",
       "                       min_samples_split=165)</pre></div></div></div></div></div></div></div></div></div></div></div></div></div></div></div>"
      ],
      "text/plain": [
       "HalvingGridSearchCV(cv=RepeatedStratifiedKFold(n_repeats=3, n_splits=3, random_state=9),\n",
       "                    estimator=BaggingClassifier(estimator=DecisionTreeClassifier(class_weight='balanced',\n",
       "                                                                                 max_depth=16,\n",
       "                                                                                 min_samples_split=165)),\n",
       "                    n_jobs=-1, param_grid=[{'max_samples': [0.8, 0.9, 1.0]}],\n",
       "                    scoring='recall', verbose=1)"
      ]
     },
     "execution_count": 16,
     "metadata": {},
     "output_type": "execute_result"
    }
   ],
   "source": [
    "\n",
    "# Grid of parameters for a bagging model\n",
    "param_grid = [\n",
    "    {\n",
    "        \"max_samples\": [.8, .9, 1.0]\n",
    "    }\n",
    "]\n",
    "\n",
    "# Cross validation in 3 folds for our grid search parameter selection.\n",
    "# It must be consistent across the folds, so the random state has to be fixed.\n",
    "cv = RepeatedStratifiedKFold(n_splits=3, n_repeats=3, random_state=9)\n",
    "\n",
    "bagging_search = HalvingGridSearchCV(\n",
    "    estimator=BaggingClassifier(n_estimators=10, estimator=single_tree_model),\n",
    "    param_grid=param_grid,\n",
    "    scoring='recall',\n",
    "    cv=cv,\n",
    "    n_jobs=-1,\n",
    "    verbose=1\n",
    ")\n",
    "\n",
    "bagging_search.fit(X_train, y_train)\n"
   ]
  },
  {
   "cell_type": "code",
   "execution_count": 17,
   "metadata": {},
   "outputs": [
    {
     "data": {
      "text/html": [
       "<div>\n",
       "<style scoped>\n",
       "    .dataframe tbody tr th:only-of-type {\n",
       "        vertical-align: middle;\n",
       "    }\n",
       "\n",
       "    .dataframe tbody tr th {\n",
       "        vertical-align: top;\n",
       "    }\n",
       "\n",
       "    .dataframe thead th {\n",
       "        text-align: right;\n",
       "    }\n",
       "</style>\n",
       "<table border=\"1\" class=\"dataframe\">\n",
       "  <thead>\n",
       "    <tr style=\"text-align: right;\">\n",
       "      <th></th>\n",
       "      <th>params</th>\n",
       "      <th>rank_test_score</th>\n",
       "      <th>mean_test_score</th>\n",
       "    </tr>\n",
       "    <tr>\n",
       "      <th>kernel</th>\n",
       "      <th></th>\n",
       "      <th></th>\n",
       "      <th></th>\n",
       "    </tr>\n",
       "  </thead>\n",
       "  <tbody>\n",
       "    <tr>\n",
       "      <th>1.0</th>\n",
       "      <td>{'max_samples': 1.0}</td>\n",
       "      <td>1</td>\n",
       "      <td>0.923550</td>\n",
       "    </tr>\n",
       "    <tr>\n",
       "      <th>1.0</th>\n",
       "      <td>{'max_samples': 1.0}</td>\n",
       "      <td>2</td>\n",
       "      <td>0.922421</td>\n",
       "    </tr>\n",
       "    <tr>\n",
       "      <th>0.8</th>\n",
       "      <td>{'max_samples': 0.8}</td>\n",
       "      <td>3</td>\n",
       "      <td>0.920675</td>\n",
       "    </tr>\n",
       "    <tr>\n",
       "      <th>0.9</th>\n",
       "      <td>{'max_samples': 0.9}</td>\n",
       "      <td>4</td>\n",
       "      <td>0.920195</td>\n",
       "    </tr>\n",
       "  </tbody>\n",
       "</table>\n",
       "</div>"
      ],
      "text/plain": [
       "                      params  rank_test_score  mean_test_score\n",
       "kernel                                                        \n",
       "1.0     {'max_samples': 1.0}                1         0.923550\n",
       "1.0     {'max_samples': 1.0}                2         0.922421\n",
       "0.8     {'max_samples': 0.8}                3         0.920675\n",
       "0.9     {'max_samples': 0.9}                4         0.920195"
      ]
     },
     "execution_count": 17,
     "metadata": {},
     "output_type": "execute_result"
    }
   ],
   "source": [
    "scoring_utils.get_best_kernels(bagging_search.cv_results_)"
   ]
  },
  {
   "cell_type": "code",
   "execution_count": 18,
   "metadata": {},
   "outputs": [],
   "source": [
    "bagging_model = bagging_search.best_estimator_\n",
    "\n",
    "yhat_test = bagging_model.predict(X_test)\n",
    "yhat_total = bagging_model.predict(X_total)"
   ]
  },
  {
   "cell_type": "code",
   "execution_count": 19,
   "metadata": {},
   "outputs": [
    {
     "data": {
      "text/html": [
       "<div>\n",
       "<style scoped>\n",
       "    .dataframe tbody tr th:only-of-type {\n",
       "        vertical-align: middle;\n",
       "    }\n",
       "\n",
       "    .dataframe tbody tr th {\n",
       "        vertical-align: top;\n",
       "    }\n",
       "\n",
       "    .dataframe thead th {\n",
       "        text-align: right;\n",
       "    }\n",
       "</style>\n",
       "<table border=\"1\" class=\"dataframe\">\n",
       "  <thead>\n",
       "    <tr style=\"text-align: right;\">\n",
       "      <th></th>\n",
       "      <th>Recall</th>\n",
       "      <th>Precision</th>\n",
       "      <th>ROC</th>\n",
       "      <th>F1</th>\n",
       "    </tr>\n",
       "  </thead>\n",
       "  <tbody>\n",
       "    <tr>\n",
       "      <th>Bagging Test</th>\n",
       "      <td>0.923792</td>\n",
       "      <td>0.690972</td>\n",
       "      <td>0.919077</td>\n",
       "      <td>0.790598</td>\n",
       "    </tr>\n",
       "    <tr>\n",
       "      <th>Bagging Total</th>\n",
       "      <td>0.933184</td>\n",
       "      <td>0.703879</td>\n",
       "      <td>0.925970</td>\n",
       "      <td>0.802472</td>\n",
       "    </tr>\n",
       "    <tr>\n",
       "      <th>Single Tree Test</th>\n",
       "      <td>0.919577</td>\n",
       "      <td>0.676311</td>\n",
       "      <td>0.914175</td>\n",
       "      <td>0.779403</td>\n",
       "    </tr>\n",
       "    <tr>\n",
       "      <th>Single Tree Total</th>\n",
       "      <td>0.934664</td>\n",
       "      <td>0.691592</td>\n",
       "      <td>0.924205</td>\n",
       "      <td>0.794963</td>\n",
       "    </tr>\n",
       "  </tbody>\n",
       "</table>\n",
       "</div>"
      ],
      "text/plain": [
       "                     Recall  Precision       ROC        F1\n",
       "Bagging Test       0.923792   0.690972  0.919077  0.790598\n",
       "Bagging Total      0.933184   0.703879  0.925970  0.802472\n",
       "Single Tree Test   0.919577   0.676311  0.914175  0.779403\n",
       "Single Tree Total  0.934664   0.691592  0.924205  0.794963"
      ]
     },
     "execution_count": 19,
     "metadata": {},
     "output_type": "execute_result"
    }
   ],
   "source": [
    "bagging_test_score = scoring_utils.get_metrics(y_test, yhat_test, \"Bagging Test\")\n",
    "bagging_total_score = scoring_utils.get_metrics(y_total, yhat_total, \"Bagging Total\")\n",
    "\n",
    "bagging_score = pd.concat((bagging_test_score, bagging_total_score, single_tree_score))\n",
    "bagging_score"
   ]
  },
  {
   "cell_type": "code",
   "execution_count": 20,
   "metadata": {},
   "outputs": [
    {
     "name": "stdout",
     "output_type": "stream",
     "text": [
      "We obtained a profit of $6,697,070,575.55\n"
     ]
    }
   ],
   "source": [
    "print(f\"We obtained a profit of ${scoring_utils.get_profit(X_total, y_total, yhat_total):,.2f}\")"
   ]
  },
  {
   "cell_type": "code",
   "execution_count": 21,
   "metadata": {},
   "outputs": [
    {
     "data": {
      "image/png": "[encoded data removed]",
      "text/plain": [
       "<Figure size 800x600 with 1 Axes>"
      ]
     },
     "metadata": {},
     "output_type": "display_data"
    }
   ],
   "source": [
    "scoring_utils.get_roc_plot(y_total, yhat_total, \"Bagging Whole Data\")"
   ]
  },
  {
   "cell_type": "code",
   "execution_count": 22,
   "metadata": {},
   "outputs": [
    {
     "data": {
      "image/png": "[encoded data removed]",
      "text/plain": [
       "<Figure size 800x600 with 2 Axes>"
      ]
     },
     "metadata": {},
     "output_type": "display_data"
    }
   ],
   "source": [
    "scoring_utils.get_confusion_matrix(y_total, yhat_total, \"Bagging Whole Data\")"
   ]
  },
  {
   "cell_type": "markdown",
   "metadata": {},
   "source": [
    "### Random forest"
   ]
  },
  {
   "cell_type": "code",
   "execution_count": 23,
   "metadata": {},
   "outputs": [
    {
     "data": {
      "text/html": [
       "<div>\n",
       "<style scoped>\n",
       "    .dataframe tbody tr th:only-of-type {\n",
       "        vertical-align: middle;\n",
       "    }\n",
       "\n",
       "    .dataframe tbody tr th {\n",
       "        vertical-align: top;\n",
       "    }\n",
       "\n",
       "    .dataframe thead th {\n",
       "        text-align: right;\n",
       "    }\n",
       "</style>\n",
       "<table border=\"1\" class=\"dataframe\">\n",
       "  <thead>\n",
       "    <tr style=\"text-align: right;\">\n",
       "      <th></th>\n",
       "      <th>Recall</th>\n",
       "      <th>Precision</th>\n",
       "      <th>ROC</th>\n",
       "      <th>F1</th>\n",
       "    </tr>\n",
       "  </thead>\n",
       "  <tbody>\n",
       "    <tr>\n",
       "      <th>Default Forest Train</th>\n",
       "      <td>0.980508</td>\n",
       "      <td>0.991224</td>\n",
       "      <td>0.989356</td>\n",
       "      <td>0.985837</td>\n",
       "    </tr>\n",
       "    <tr>\n",
       "      <th>Default Forest Test</th>\n",
       "      <td>0.742205</td>\n",
       "      <td>0.819095</td>\n",
       "      <td>0.854114</td>\n",
       "      <td>0.778757</td>\n",
       "    </tr>\n",
       "  </tbody>\n",
       "</table>\n",
       "</div>"
      ],
      "text/plain": [
       "                        Recall  Precision       ROC        F1\n",
       "Default Forest Train  0.980508   0.991224  0.989356  0.985837\n",
       "Default Forest Test   0.742205   0.819095  0.854114  0.778757"
      ]
     },
     "execution_count": 23,
     "metadata": {},
     "output_type": "execute_result"
    }
   ],
   "source": [
    "# Default to check bias/variance\n",
    "from sklearn.ensemble import RandomForestClassifier\n",
    "\n",
    "default_forest = RandomForestClassifier().fit(X_train, y_train)\n",
    "\n",
    "yhat_train = default_forest.predict(X_train)\n",
    "yhat_test = default_forest.predict(X_test)\n",
    "\n",
    "default_forest_score = pd.concat((\n",
    "    scoring_utils.get_metrics(y_train, yhat_train, 'Default Forest Train'),\n",
    "    scoring_utils.get_metrics(y_test, yhat_test, 'Default Forest Test')\n",
    "))\n",
    "\n",
    "default_forest_score\n"
   ]
  },
  {
   "cell_type": "code",
   "execution_count": 24,
   "metadata": {},
   "outputs": [
    {
     "data": {
      "text/plain": [
       "{'bootstrap': True,\n",
       " 'ccp_alpha': 0.0,\n",
       " 'class_weight': None,\n",
       " 'criterion': 'gini',\n",
       " 'max_depth': None,\n",
       " 'max_features': 'sqrt',\n",
       " 'max_leaf_nodes': None,\n",
       " 'max_samples': None,\n",
       " 'min_impurity_decrease': 0.0,\n",
       " 'min_samples_leaf': 1,\n",
       " 'min_samples_split': 2,\n",
       " 'min_weight_fraction_leaf': 0.0,\n",
       " 'n_estimators': 100,\n",
       " 'n_jobs': None,\n",
       " 'oob_score': False,\n",
       " 'random_state': None,\n",
       " 'verbose': 0,\n",
       " 'warm_start': False}"
      ]
     },
     "execution_count": 24,
     "metadata": {},
     "output_type": "execute_result"
    }
   ],
   "source": [
    "default_forest.get_params()"
   ]
  },
  {
   "cell_type": "code",
   "execution_count": 25,
   "metadata": {},
   "outputs": [
    {
     "name": "stdout",
     "output_type": "stream",
     "text": [
      "n_iterations: 3\n",
      "n_required_iterations: 3\n",
      "n_possible_iterations: 3\n",
      "min_resources_: 87051\n",
      "max_resources_: 783462\n",
      "aggressive_elimination: False\n",
      "factor: 3\n",
      "----------\n",
      "iter: 0\n",
      "n_candidates: 9\n",
      "n_resources: 87051\n",
      "Fitting 9 folds for each of 9 candidates, totalling 81 fits\n",
      "----------\n",
      "iter: 1\n",
      "n_candidates: 3\n",
      "n_resources: 261153\n",
      "Fitting 9 folds for each of 3 candidates, totalling 27 fits\n",
      "----------\n",
      "iter: 2\n",
      "n_candidates: 1\n",
      "n_resources: 783459\n",
      "Fitting 9 folds for each of 1 candidates, totalling 9 fits\n"
     ]
    },
    {
     "data": {
      "text/html": [
       "<style>#sk-container-id-3 {color: black;}#sk-container-id-3 pre{padding: 0;}#sk-container-id-3 div.sk-toggleable {background-color: white;}#sk-container-id-3 label.sk-toggleable__label {cursor: pointer;display: block;width: 100%;margin-bottom: 0;padding: 0.3em;box-sizing: border-box;text-align: center;}#sk-container-id-3 label.sk-toggleable__label-arrow:before {content: \"▸\";float: left;margin-right: 0.25em;color: #696969;}#sk-container-id-3 label.sk-toggleable__label-arrow:hover:before {color: black;}#sk-container-id-3 div.sk-estimator:hover label.sk-toggleable__label-arrow:before {color: black;}#sk-container-id-3 div.sk-toggleable__content {max-height: 0;max-width: 0;overflow: hidden;text-align: left;background-color: #f0f8ff;}#sk-container-id-3 div.sk-toggleable__content pre {margin: 0.2em;color: black;border-radius: 0.25em;background-color: #f0f8ff;}#sk-container-id-3 input.sk-toggleable__control:checked~div.sk-toggleable__content {max-height: 200px;max-width: 100%;overflow: auto;}#sk-container-id-3 input.sk-toggleable__control:checked~label.sk-toggleable__label-arrow:before {content: \"▾\";}#sk-container-id-3 div.sk-estimator input.sk-toggleable__control:checked~label.sk-toggleable__label {background-color: #d4ebff;}#sk-container-id-3 div.sk-label input.sk-toggleable__control:checked~label.sk-toggleable__label {background-color: #d4ebff;}#sk-container-id-3 input.sk-hidden--visually {border: 0;clip: rect(1px 1px 1px 1px);clip: rect(1px, 1px, 1px, 1px);height: 1px;margin: -1px;overflow: hidden;padding: 0;position: absolute;width: 1px;}#sk-container-id-3 div.sk-estimator {font-family: monospace;background-color: #f0f8ff;border: 1px dotted black;border-radius: 0.25em;box-sizing: border-box;margin-bottom: 0.5em;}#sk-container-id-3 div.sk-estimator:hover {background-color: #d4ebff;}#sk-container-id-3 div.sk-parallel-item::after {content: \"\";width: 100%;border-bottom: 1px solid gray;flex-grow: 1;}#sk-container-id-3 div.sk-label:hover label.sk-toggleable__label {background-color: #d4ebff;}#sk-container-id-3 div.sk-serial::before {content: \"\";position: absolute;border-left: 1px solid gray;box-sizing: border-box;top: 0;bottom: 0;left: 50%;z-index: 0;}#sk-container-id-3 div.sk-serial {display: flex;flex-direction: column;align-items: center;background-color: white;padding-right: 0.2em;padding-left: 0.2em;position: relative;}#sk-container-id-3 div.sk-item {position: relative;z-index: 1;}#sk-container-id-3 div.sk-parallel {display: flex;align-items: stretch;justify-content: center;background-color: white;position: relative;}#sk-container-id-3 div.sk-item::before, #sk-container-id-3 div.sk-parallel-item::before {content: \"\";position: absolute;border-left: 1px solid gray;box-sizing: border-box;top: 0;bottom: 0;left: 50%;z-index: -1;}#sk-container-id-3 div.sk-parallel-item {display: flex;flex-direction: column;z-index: 1;position: relative;background-color: white;}#sk-container-id-3 div.sk-parallel-item:first-child::after {align-self: flex-end;width: 50%;}#sk-container-id-3 div.sk-parallel-item:last-child::after {align-self: flex-start;width: 50%;}#sk-container-id-3 div.sk-parallel-item:only-child::after {width: 0;}#sk-container-id-3 div.sk-dashed-wrapped {border: 1px dashed gray;margin: 0 0.4em 0.5em 0.4em;box-sizing: border-box;padding-bottom: 0.4em;background-color: white;}#sk-container-id-3 div.sk-label label {font-family: monospace;font-weight: bold;display: inline-block;line-height: 1.2em;}#sk-container-id-3 div.sk-label-container {text-align: center;}#sk-container-id-3 div.sk-container {/* jupyter's `normalize.less` sets `[hidden] { display: none; }` but bootstrap.min.css set `[hidden] { display: none !important; }` so we also need the `!important` here to be able to override the default hidden behavior on the sphinx rendered scikit-learn.org. See: https://github.com/scikit-learn/scikit-learn/issues/21755 */display: inline-block !important;position: relative;}#sk-container-id-3 div.sk-text-repr-fallback {display: none;}</style><div id=\"sk-container-id-3\" class=\"sk-top-container\"><div class=\"sk-text-repr-fallback\"><pre>HalvingGridSearchCV(cv=RepeatedStratifiedKFold(n_repeats=3, n_splits=3, random_state=9),\n",
       "                    estimator=RandomForestClassifier(class_weight=&#x27;balanced&#x27;,\n",
       "                                                     max_features=1.0,\n",
       "                                                     n_estimators=50),\n",
       "                    n_jobs=-1,\n",
       "                    param_grid={&#x27;max_depth&#x27;: [10, 100, None],\n",
       "                                &#x27;min_samples_split&#x27;: [10, 100, 1000]},\n",
       "                    scoring=&#x27;recall&#x27;, verbose=1)</pre><b>In a Jupyter environment, please rerun this cell to show the HTML representation or trust the notebook. <br />On GitHub, the HTML representation is unable to render, please try loading this page with nbviewer.org.</b></div><div class=\"sk-container\" hidden><div class=\"sk-item sk-dashed-wrapped\"><div class=\"sk-label-container\"><div class=\"sk-label sk-toggleable\"><input class=\"sk-toggleable__control sk-hidden--visually\" id=\"sk-estimator-id-8\" type=\"checkbox\" ><label for=\"sk-estimator-id-8\" class=\"sk-toggleable__label sk-toggleable__label-arrow\">HalvingGridSearchCV</label><div class=\"sk-toggleable__content\"><pre>HalvingGridSearchCV(cv=RepeatedStratifiedKFold(n_repeats=3, n_splits=3, random_state=9),\n",
       "                    estimator=RandomForestClassifier(class_weight=&#x27;balanced&#x27;,\n",
       "                                                     max_features=1.0,\n",
       "                                                     n_estimators=50),\n",
       "                    n_jobs=-1,\n",
       "                    param_grid={&#x27;max_depth&#x27;: [10, 100, None],\n",
       "                                &#x27;min_samples_split&#x27;: [10, 100, 1000]},\n",
       "                    scoring=&#x27;recall&#x27;, verbose=1)</pre></div></div></div><div class=\"sk-parallel\"><div class=\"sk-parallel-item\"><div class=\"sk-item\"><div class=\"sk-label-container\"><div class=\"sk-label sk-toggleable\"><input class=\"sk-toggleable__control sk-hidden--visually\" id=\"sk-estimator-id-9\" type=\"checkbox\" ><label for=\"sk-estimator-id-9\" class=\"sk-toggleable__label sk-toggleable__label-arrow\">estimator: RandomForestClassifier</label><div class=\"sk-toggleable__content\"><pre>RandomForestClassifier(class_weight=&#x27;balanced&#x27;, max_features=1.0,\n",
       "                       n_estimators=50)</pre></div></div></div><div class=\"sk-serial\"><div class=\"sk-item\"><div class=\"sk-estimator sk-toggleable\"><input class=\"sk-toggleable__control sk-hidden--visually\" id=\"sk-estimator-id-10\" type=\"checkbox\" ><label for=\"sk-estimator-id-10\" class=\"sk-toggleable__label sk-toggleable__label-arrow\">RandomForestClassifier</label><div class=\"sk-toggleable__content\"><pre>RandomForestClassifier(class_weight=&#x27;balanced&#x27;, max_features=1.0,\n",
       "                       n_estimators=50)</pre></div></div></div></div></div></div></div></div></div></div>"
      ],
      "text/plain": [
       "HalvingGridSearchCV(cv=RepeatedStratifiedKFold(n_repeats=3, n_splits=3, random_state=9),\n",
       "                    estimator=RandomForestClassifier(class_weight='balanced',\n",
       "                                                     max_features=1.0,\n",
       "                                                     n_estimators=50),\n",
       "                    n_jobs=-1,\n",
       "                    param_grid={'max_depth': [10, 100, None],\n",
       "                                'min_samples_split': [10, 100, 1000]},\n",
       "                    scoring='recall', verbose=1)"
      ]
     },
     "execution_count": 25,
     "metadata": {},
     "output_type": "execute_result"
    }
   ],
   "source": [
    "# {'max_depth': 14, 'min_samples_split': 109} # One of my best trees!!!!!\n",
    "\n",
    "param_grid = {\n",
    "    'max_depth': [10, 100, None], # This has a smaller effect, but 100 seems to work out fine.\n",
    "    'min_samples_split': [10, 100, 1000] # This should be around 100\n",
    "}\n",
    "\n",
    "# Cross validation in 3 folds for our grid search parameter selection.\n",
    "# It must be consistent across the folds, so the random state has to be fixed.\n",
    "cv = RepeatedStratifiedKFold(n_splits=3, n_repeats=3, random_state=9)\n",
    "\n",
    "random_forest_search = HalvingGridSearchCV(\n",
    "    estimator=RandomForestClassifier(n_estimators=50, max_features=1.0, class_weight='balanced'),\n",
    "    param_grid=param_grid,\n",
    "    scoring='recall',\n",
    "    cv=cv,\n",
    "    n_jobs=-1,\n",
    "    verbose=1\n",
    ")\n",
    "\n",
    "random_forest_search.fit(X_train, y_train)\n"
   ]
  },
  {
   "cell_type": "code",
   "execution_count": 26,
   "metadata": {},
   "outputs": [
    {
     "data": {
      "text/html": [
       "<div>\n",
       "<style scoped>\n",
       "    .dataframe tbody tr th:only-of-type {\n",
       "        vertical-align: middle;\n",
       "    }\n",
       "\n",
       "    .dataframe tbody tr th {\n",
       "        vertical-align: top;\n",
       "    }\n",
       "\n",
       "    .dataframe thead th {\n",
       "        text-align: right;\n",
       "    }\n",
       "</style>\n",
       "<table border=\"1\" class=\"dataframe\">\n",
       "  <thead>\n",
       "    <tr style=\"text-align: right;\">\n",
       "      <th></th>\n",
       "      <th>params</th>\n",
       "      <th>rank_test_score</th>\n",
       "      <th>mean_test_score</th>\n",
       "    </tr>\n",
       "    <tr>\n",
       "      <th>kernel</th>\n",
       "      <th></th>\n",
       "      <th></th>\n",
       "      <th></th>\n",
       "    </tr>\n",
       "  </thead>\n",
       "  <tbody>\n",
       "    <tr>\n",
       "      <th>100_100</th>\n",
       "      <td>{'max_depth': 100, 'min_samples_split': 100}</td>\n",
       "      <td>1</td>\n",
       "      <td>0.920445</td>\n",
       "    </tr>\n",
       "    <tr>\n",
       "      <th>100_100</th>\n",
       "      <td>{'max_depth': 100, 'min_samples_split': 100}</td>\n",
       "      <td>2</td>\n",
       "      <td>0.916297</td>\n",
       "    </tr>\n",
       "    <tr>\n",
       "      <th>None_100</th>\n",
       "      <td>{'max_depth': None, 'min_samples_split': 100}</td>\n",
       "      <td>3</td>\n",
       "      <td>0.915885</td>\n",
       "    </tr>\n",
       "    <tr>\n",
       "      <th>10_100</th>\n",
       "      <td>{'max_depth': 10, 'min_samples_split': 100}</td>\n",
       "      <td>4</td>\n",
       "      <td>0.914734</td>\n",
       "    </tr>\n",
       "    <tr>\n",
       "      <th>10_100</th>\n",
       "      <td>{'max_depth': 10, 'min_samples_split': 100}</td>\n",
       "      <td>5</td>\n",
       "      <td>0.907676</td>\n",
       "    </tr>\n",
       "    <tr>\n",
       "      <th>None_100</th>\n",
       "      <td>{'max_depth': None, 'min_samples_split': 100}</td>\n",
       "      <td>6</td>\n",
       "      <td>0.906288</td>\n",
       "    </tr>\n",
       "    <tr>\n",
       "      <th>100_100</th>\n",
       "      <td>{'max_depth': 100, 'min_samples_split': 100}</td>\n",
       "      <td>7</td>\n",
       "      <td>0.905210</td>\n",
       "    </tr>\n",
       "    <tr>\n",
       "      <th>100_1000</th>\n",
       "      <td>{'max_depth': 100, 'min_samples_split': 1000}</td>\n",
       "      <td>8</td>\n",
       "      <td>0.898693</td>\n",
       "    </tr>\n",
       "    <tr>\n",
       "      <th>10_10</th>\n",
       "      <td>{'max_depth': 10, 'min_samples_split': 10}</td>\n",
       "      <td>9</td>\n",
       "      <td>0.896858</td>\n",
       "    </tr>\n",
       "    <tr>\n",
       "      <th>None_1000</th>\n",
       "      <td>{'max_depth': None, 'min_samples_split': 1000}</td>\n",
       "      <td>10</td>\n",
       "      <td>0.896556</td>\n",
       "    </tr>\n",
       "    <tr>\n",
       "      <th>10_1000</th>\n",
       "      <td>{'max_depth': 10, 'min_samples_split': 1000}</td>\n",
       "      <td>11</td>\n",
       "      <td>0.896467</td>\n",
       "    </tr>\n",
       "    <tr>\n",
       "      <th>None_10</th>\n",
       "      <td>{'max_depth': None, 'min_samples_split': 10}</td>\n",
       "      <td>12</td>\n",
       "      <td>0.838939</td>\n",
       "    </tr>\n",
       "    <tr>\n",
       "      <th>100_10</th>\n",
       "      <td>{'max_depth': 100, 'min_samples_split': 10}</td>\n",
       "      <td>13</td>\n",
       "      <td>0.838858</td>\n",
       "    </tr>\n",
       "  </tbody>\n",
       "</table>\n",
       "</div>"
      ],
      "text/plain": [
       "                                                   params  rank_test_score  \\\n",
       "kernel                                                                       \n",
       "100_100      {'max_depth': 100, 'min_samples_split': 100}                1   \n",
       "100_100      {'max_depth': 100, 'min_samples_split': 100}                2   \n",
       "None_100    {'max_depth': None, 'min_samples_split': 100}                3   \n",
       "10_100        {'max_depth': 10, 'min_samples_split': 100}                4   \n",
       "10_100        {'max_depth': 10, 'min_samples_split': 100}                5   \n",
       "None_100    {'max_depth': None, 'min_samples_split': 100}                6   \n",
       "100_100      {'max_depth': 100, 'min_samples_split': 100}                7   \n",
       "100_1000    {'max_depth': 100, 'min_samples_split': 1000}                8   \n",
       "10_10          {'max_depth': 10, 'min_samples_split': 10}                9   \n",
       "None_1000  {'max_depth': None, 'min_samples_split': 1000}               10   \n",
       "10_1000      {'max_depth': 10, 'min_samples_split': 1000}               11   \n",
       "None_10      {'max_depth': None, 'min_samples_split': 10}               12   \n",
       "100_10        {'max_depth': 100, 'min_samples_split': 10}               13   \n",
       "\n",
       "           mean_test_score  \n",
       "kernel                      \n",
       "100_100           0.920445  \n",
       "100_100           0.916297  \n",
       "None_100          0.915885  \n",
       "10_100            0.914734  \n",
       "10_100            0.907676  \n",
       "None_100          0.906288  \n",
       "100_100           0.905210  \n",
       "100_1000          0.898693  \n",
       "10_10             0.896858  \n",
       "None_1000         0.896556  \n",
       "10_1000           0.896467  \n",
       "None_10           0.838939  \n",
       "100_10            0.838858  "
      ]
     },
     "execution_count": 26,
     "metadata": {},
     "output_type": "execute_result"
    }
   ],
   "source": [
    "scoring_utils.get_best_kernels(random_forest_search.cv_results_)"
   ]
  },
  {
   "cell_type": "code",
   "execution_count": 28,
   "metadata": {},
   "outputs": [],
   "source": [
    "random_forest = random_forest_search.best_estimator_\n",
    "\n",
    "yhat_test = random_forest.predict(X_test)\n",
    "yhat_total = random_forest.predict(X_total)"
   ]
  },
  {
   "cell_type": "code",
   "execution_count": 29,
   "metadata": {},
   "outputs": [
    {
     "data": {
      "text/html": [
       "<div>\n",
       "<style scoped>\n",
       "    .dataframe tbody tr th:only-of-type {\n",
       "        vertical-align: middle;\n",
       "    }\n",
       "\n",
       "    .dataframe tbody tr th {\n",
       "        vertical-align: top;\n",
       "    }\n",
       "\n",
       "    .dataframe thead th {\n",
       "        text-align: right;\n",
       "    }\n",
       "</style>\n",
       "<table border=\"1\" class=\"dataframe\">\n",
       "  <thead>\n",
       "    <tr style=\"text-align: right;\">\n",
       "      <th></th>\n",
       "      <th>Recall</th>\n",
       "      <th>Precision</th>\n",
       "      <th>ROC</th>\n",
       "      <th>F1</th>\n",
       "    </tr>\n",
       "  </thead>\n",
       "  <tbody>\n",
       "    <tr>\n",
       "      <th>Random Forest Test</th>\n",
       "      <td>0.919979</td>\n",
       "      <td>0.708873</td>\n",
       "      <td>0.920832</td>\n",
       "      <td>0.800745</td>\n",
       "    </tr>\n",
       "    <tr>\n",
       "      <th>Random Forest Total</th>\n",
       "      <td>0.938430</td>\n",
       "      <td>0.726885</td>\n",
       "      <td>0.932730</td>\n",
       "      <td>0.819221</td>\n",
       "    </tr>\n",
       "    <tr>\n",
       "      <th>Bagging Test</th>\n",
       "      <td>0.923792</td>\n",
       "      <td>0.690972</td>\n",
       "      <td>0.919077</td>\n",
       "      <td>0.790598</td>\n",
       "    </tr>\n",
       "    <tr>\n",
       "      <th>Bagging Total</th>\n",
       "      <td>0.933184</td>\n",
       "      <td>0.703879</td>\n",
       "      <td>0.925970</td>\n",
       "      <td>0.802472</td>\n",
       "    </tr>\n",
       "    <tr>\n",
       "      <th>Single Tree Test</th>\n",
       "      <td>0.919577</td>\n",
       "      <td>0.676311</td>\n",
       "      <td>0.914175</td>\n",
       "      <td>0.779403</td>\n",
       "    </tr>\n",
       "    <tr>\n",
       "      <th>Single Tree Total</th>\n",
       "      <td>0.934664</td>\n",
       "      <td>0.691592</td>\n",
       "      <td>0.924205</td>\n",
       "      <td>0.794963</td>\n",
       "    </tr>\n",
       "  </tbody>\n",
       "</table>\n",
       "</div>"
      ],
      "text/plain": [
       "                       Recall  Precision       ROC        F1\n",
       "Random Forest Test   0.919979   0.708873  0.920832  0.800745\n",
       "Random Forest Total  0.938430   0.726885  0.932730  0.819221\n",
       "Bagging Test         0.923792   0.690972  0.919077  0.790598\n",
       "Bagging Total        0.933184   0.703879  0.925970  0.802472\n",
       "Single Tree Test     0.919577   0.676311  0.914175  0.779403\n",
       "Single Tree Total    0.934664   0.691592  0.924205  0.794963"
      ]
     },
     "execution_count": 29,
     "metadata": {},
     "output_type": "execute_result"
    }
   ],
   "source": [
    "forest_test_score = scoring_utils.get_metrics(y_test, yhat_test, \"Random Forest Test\")\n",
    "forest_total_score = scoring_utils.get_metrics(y_total, yhat_total, \"Random Forest Total\")\n",
    "\n",
    "forest_score = pd.concat((forest_test_score, forest_total_score, bagging_score))\n",
    "forest_score"
   ]
  },
  {
   "cell_type": "code",
   "execution_count": 30,
   "metadata": {},
   "outputs": [
    {
     "name": "stdout",
     "output_type": "stream",
     "text": [
      "We obtained a profit of $6,806,807,280.05\n"
     ]
    }
   ],
   "source": [
    "print(f\"We obtained a profit of ${scoring_utils.get_profit(X_total, y_total, yhat_total):,.2f}\")"
   ]
  },
  {
   "cell_type": "code",
   "execution_count": 31,
   "metadata": {},
   "outputs": [
    {
     "data": {
      "image/png": "[encoded data removed]",
      "text/plain": [
       "<Figure size 800x600 with 1 Axes>"
      ]
     },
     "metadata": {},
     "output_type": "display_data"
    }
   ],
   "source": [
    "scoring_utils.get_roc_plot(y_total, yhat_total, \"Forest Whole Data\")"
   ]
  },
  {
   "cell_type": "code",
   "execution_count": 32,
   "metadata": {},
   "outputs": [
    {
     "data": {
      "image/png": "[encoded data removed]",
      "text/plain": [
       "<Figure size 800x600 with 2 Axes>"
      ]
     },
     "metadata": {},
     "output_type": "display_data"
    }
   ],
   "source": [
    "scoring_utils.get_confusion_matrix(y_total, yhat_total, \"Random Forest Whole Data\")"
   ]
  },
  {
   "cell_type": "markdown",
   "metadata": {},
   "source": [
    "### Boosting"
   ]
  },
  {
   "cell_type": "code",
   "execution_count": 33,
   "metadata": {},
   "outputs": [],
   "source": [
    "import xgboost as xgb\n",
    "import matplotlib.pyplot as plt\n",
    "import sklearn.metrics as metrics\n",
    "\n",
    "def modelfit(alg, X, y,useTrainCV=True, cv_folds=5, early_stopping_rounds=50):\n",
    "    \n",
    "    if useTrainCV:\n",
    "        xgb_param = alg.get_xgb_params()\n",
    "        xgtrain = xgb.DMatrix(X.values, label=y.values)\n",
    "        cvresult = xgb.cv(xgb_param, xgtrain, num_boost_round=alg.get_params()['n_estimators'], nfold=cv_folds,\n",
    "            metrics='auc', early_stopping_rounds=early_stopping_rounds)\n",
    "        alg.set_params(n_estimators=cvresult.shape[0])\n",
    "    \n",
    "    #Fit the algorithm on the data\n",
    "    alg.fit(X, y,eval_metric='auc')\n",
    "        \n",
    "    #Predict training set:\n",
    "    dtrain_predictions = alg.predict(X)\n",
    "    dtrain_predprob = alg.predict_proba(X)[:,1]\n",
    "        \n",
    "    #Print model report:\n",
    "    print (\"\\nModel Report\")\n",
    "    print (\"Accuracy : %.4g\" % metrics.accuracy_score(y.values, dtrain_predictions))\n",
    "    print (\"AUC Score (Train): %f\" % metrics.roc_auc_score(y, dtrain_predprob))\n",
    "                    \n",
    "    feat_imp = pd.Series(alg.booster().get_fscore()).sort_values(ascending=False)\n",
    "    feat_imp.plot(kind='bar', title='Feature Importances')\n",
    "    plt.ylabel('Feature Importance Score')"
   ]
  },
  {
   "cell_type": "code",
   "execution_count": 34,
   "metadata": {},
   "outputs": [
    {
     "name": "stderr",
     "output_type": "stream",
     "text": [
      "/Users/alemalvarez/.pyenv/versions/3.11.5/lib/python3.11/site-packages/xgboost/sklearn.py:885: UserWarning: `eval_metric` in `fit` method is deprecated for better compatibility with scikit-learn, use `eval_metric` in constructor or`set_params` instead.\n",
      "  warnings.warn(\n"
     ]
    },
    {
     "name": "stdout",
     "output_type": "stream",
     "text": [
      "\n",
      "Model Report\n",
      "Accuracy : 0.9232\n",
      "AUC Score (Train): 0.979227\n"
     ]
    },
    {
     "ename": "TypeError",
     "evalue": "'NoneType' object is not callable",
     "output_type": "error",
     "traceback": [
      "\u001b[0;31m---------------------------------------------------------------------------\u001b[0m",
      "\u001b[0;31mTypeError\u001b[0m                                 Traceback (most recent call last)",
      "\u001b[1;32m/Users/alemalvarez/code-workspace/BAC2023/first_models/tree_based_first_iteration.ipynb Cell 39\u001b[0m line \u001b[0;36m1\n\u001b[1;32m      <a href='vscode-notebook-cell:/Users/alemalvarez/code-workspace/BAC2023/first_models/tree_based_first_iteration.ipynb#X52sZmlsZQ%3D%3D?line=0'>1</a>\u001b[0m xgb1 \u001b[39m=\u001b[39m xgb\u001b[39m.\u001b[39mXGBClassifier(\n\u001b[1;32m      <a href='vscode-notebook-cell:/Users/alemalvarez/code-workspace/BAC2023/first_models/tree_based_first_iteration.ipynb#X52sZmlsZQ%3D%3D?line=1'>2</a>\u001b[0m  learning_rate \u001b[39m=\u001b[39m\u001b[39m0.1\u001b[39m,\n\u001b[1;32m      <a href='vscode-notebook-cell:/Users/alemalvarez/code-workspace/BAC2023/first_models/tree_based_first_iteration.ipynb#X52sZmlsZQ%3D%3D?line=2'>3</a>\u001b[0m  n_estimators\u001b[39m=\u001b[39m\u001b[39m100\u001b[39m,\n\u001b[0;32m   (...)\u001b[0m\n\u001b[1;32m     <a href='vscode-notebook-cell:/Users/alemalvarez/code-workspace/BAC2023/first_models/tree_based_first_iteration.ipynb#X52sZmlsZQ%3D%3D?line=10'>11</a>\u001b[0m  scale_pos_weight\u001b[39m=\u001b[39m\u001b[39m5\u001b[39m,\n\u001b[1;32m     <a href='vscode-notebook-cell:/Users/alemalvarez/code-workspace/BAC2023/first_models/tree_based_first_iteration.ipynb#X52sZmlsZQ%3D%3D?line=11'>12</a>\u001b[0m  seed\u001b[39m=\u001b[39m\u001b[39m27\u001b[39m)\n\u001b[0;32m---> <a href='vscode-notebook-cell:/Users/alemalvarez/code-workspace/BAC2023/first_models/tree_based_first_iteration.ipynb#X52sZmlsZQ%3D%3D?line=12'>13</a>\u001b[0m modelfit(xgb1, X_train, y_train)\n",
      "\u001b[1;32m/Users/alemalvarez/code-workspace/BAC2023/first_models/tree_based_first_iteration.ipynb Cell 39\u001b[0m line \u001b[0;36m2\n\u001b[1;32m     <a href='vscode-notebook-cell:/Users/alemalvarez/code-workspace/BAC2023/first_models/tree_based_first_iteration.ipynb#X52sZmlsZQ%3D%3D?line=22'>23</a>\u001b[0m \u001b[39mprint\u001b[39m (\u001b[39m\"\u001b[39m\u001b[39mAccuracy : \u001b[39m\u001b[39m%.4g\u001b[39;00m\u001b[39m\"\u001b[39m \u001b[39m%\u001b[39m metrics\u001b[39m.\u001b[39maccuracy_score(y\u001b[39m.\u001b[39mvalues, dtrain_predictions))\n\u001b[1;32m     <a href='vscode-notebook-cell:/Users/alemalvarez/code-workspace/BAC2023/first_models/tree_based_first_iteration.ipynb#X52sZmlsZQ%3D%3D?line=23'>24</a>\u001b[0m \u001b[39mprint\u001b[39m (\u001b[39m\"\u001b[39m\u001b[39mAUC Score (Train): \u001b[39m\u001b[39m%f\u001b[39;00m\u001b[39m\"\u001b[39m \u001b[39m%\u001b[39m metrics\u001b[39m.\u001b[39mroc_auc_score(y, dtrain_predprob))\n\u001b[0;32m---> <a href='vscode-notebook-cell:/Users/alemalvarez/code-workspace/BAC2023/first_models/tree_based_first_iteration.ipynb#X52sZmlsZQ%3D%3D?line=25'>26</a>\u001b[0m feat_imp \u001b[39m=\u001b[39m pd\u001b[39m.\u001b[39mSeries(alg\u001b[39m.\u001b[39;49mbooster()\u001b[39m.\u001b[39mget_fscore())\u001b[39m.\u001b[39msort_values(ascending\u001b[39m=\u001b[39m\u001b[39mFalse\u001b[39;00m)\n\u001b[1;32m     <a href='vscode-notebook-cell:/Users/alemalvarez/code-workspace/BAC2023/first_models/tree_based_first_iteration.ipynb#X52sZmlsZQ%3D%3D?line=26'>27</a>\u001b[0m feat_imp\u001b[39m.\u001b[39mplot(kind\u001b[39m=\u001b[39m\u001b[39m'\u001b[39m\u001b[39mbar\u001b[39m\u001b[39m'\u001b[39m, title\u001b[39m=\u001b[39m\u001b[39m'\u001b[39m\u001b[39mFeature Importances\u001b[39m\u001b[39m'\u001b[39m)\n\u001b[1;32m     <a href='vscode-notebook-cell:/Users/alemalvarez/code-workspace/BAC2023/first_models/tree_based_first_iteration.ipynb#X52sZmlsZQ%3D%3D?line=27'>28</a>\u001b[0m plt\u001b[39m.\u001b[39mylabel(\u001b[39m'\u001b[39m\u001b[39mFeature Importance Score\u001b[39m\u001b[39m'\u001b[39m)\n",
      "\u001b[0;31mTypeError\u001b[0m: 'NoneType' object is not callable"
     ]
    }
   ],
   "source": [
    "\n",
    "xgb1 = xgb.XGBClassifier(\n",
    " learning_rate =0.1,\n",
    " n_estimators=100,\n",
    " verbosity=2,\n",
    " max_depth=11,\n",
    " min_child_weight=10,\n",
    " gamma=0.1,\n",
    " subsample=0.9,\n",
    " colsample_bytree=0.8,\n",
    " objective= 'binary:logistic',\n",
    " scale_pos_weight=5,\n",
    " seed=27)\n",
    "modelfit(xgb1, X_train, y_train)"
   ]
  },
  {
   "cell_type": "code",
   "execution_count": 35,
   "metadata": {},
   "outputs": [
    {
     "data": {
      "text/plain": [
       "{'objective': 'binary:logistic',\n",
       " 'base_score': None,\n",
       " 'booster': None,\n",
       " 'callbacks': None,\n",
       " 'colsample_bylevel': None,\n",
       " 'colsample_bynode': None,\n",
       " 'colsample_bytree': 0.8,\n",
       " 'device': None,\n",
       " 'early_stopping_rounds': None,\n",
       " 'enable_categorical': False,\n",
       " 'eval_metric': None,\n",
       " 'feature_types': None,\n",
       " 'gamma': 0.1,\n",
       " 'grow_policy': None,\n",
       " 'importance_type': None,\n",
       " 'interaction_constraints': None,\n",
       " 'learning_rate': 0.1,\n",
       " 'max_bin': None,\n",
       " 'max_cat_threshold': None,\n",
       " 'max_cat_to_onehot': None,\n",
       " 'max_delta_step': None,\n",
       " 'max_depth': 11,\n",
       " 'max_leaves': None,\n",
       " 'min_child_weight': 10,\n",
       " 'missing': nan,\n",
       " 'monotone_constraints': None,\n",
       " 'multi_strategy': None,\n",
       " 'n_estimators': 100,\n",
       " 'n_jobs': None,\n",
       " 'num_parallel_tree': None,\n",
       " 'random_state': None,\n",
       " 'reg_alpha': None,\n",
       " 'reg_lambda': None,\n",
       " 'sampling_method': None,\n",
       " 'scale_pos_weight': 5,\n",
       " 'subsample': 0.9,\n",
       " 'tree_method': None,\n",
       " 'validate_parameters': None,\n",
       " 'verbosity': 2,\n",
       " 'seed': 27}"
      ]
     },
     "execution_count": 35,
     "metadata": {},
     "output_type": "execute_result"
    }
   ],
   "source": [
    "xgb1.get_params()\n"
   ]
  },
  {
   "cell_type": "code",
   "execution_count": 36,
   "metadata": {},
   "outputs": [
    {
     "data": {
      "text/html": [
       "<div>\n",
       "<style scoped>\n",
       "    .dataframe tbody tr th:only-of-type {\n",
       "        vertical-align: middle;\n",
       "    }\n",
       "\n",
       "    .dataframe tbody tr th {\n",
       "        vertical-align: top;\n",
       "    }\n",
       "\n",
       "    .dataframe thead th {\n",
       "        text-align: right;\n",
       "    }\n",
       "</style>\n",
       "<table border=\"1\" class=\"dataframe\">\n",
       "  <thead>\n",
       "    <tr style=\"text-align: right;\">\n",
       "      <th></th>\n",
       "      <th>Recall</th>\n",
       "      <th>Precision</th>\n",
       "      <th>ROC</th>\n",
       "      <th>F1</th>\n",
       "    </tr>\n",
       "  </thead>\n",
       "  <tbody>\n",
       "    <tr>\n",
       "      <th>CV Boosting Train</th>\n",
       "      <td>0.939426</td>\n",
       "      <td>0.708121</td>\n",
       "      <td>0.929653</td>\n",
       "      <td>0.807537</td>\n",
       "    </tr>\n",
       "    <tr>\n",
       "      <th>CV Boosting Test</th>\n",
       "      <td>0.923458</td>\n",
       "      <td>0.691102</td>\n",
       "      <td>0.918952</td>\n",
       "      <td>0.790560</td>\n",
       "    </tr>\n",
       "  </tbody>\n",
       "</table>\n",
       "</div>"
      ],
      "text/plain": [
       "                     Recall  Precision       ROC        F1\n",
       "CV Boosting Train  0.939426   0.708121  0.929653  0.807537\n",
       "CV Boosting Test   0.923458   0.691102  0.918952  0.790560"
      ]
     },
     "execution_count": 36,
     "metadata": {},
     "output_type": "execute_result"
    }
   ],
   "source": [
    "yhat_train = xgb1.predict(X_train)\n",
    "yhat_test = xgb1.predict(X_test)\n",
    "\n",
    "cv_boost_score = pd.concat((\n",
    "    scoring_utils.get_metrics(y_train, yhat_train, 'CV Boosting Train'),\n",
    "    scoring_utils.get_metrics(y_test, yhat_test, 'CV Boosting Test')\n",
    "))\n",
    "\n",
    "cv_boost_score"
   ]
  },
  {
   "cell_type": "code",
   "execution_count": 37,
   "metadata": {},
   "outputs": [
    {
     "data": {
      "image/png": "[encoded data removed]",
      "text/plain": [
       "<Figure size 800x600 with 2 Axes>"
      ]
     },
     "metadata": {},
     "output_type": "display_data"
    }
   ],
   "source": [
    "yhat_total = xgb1.predict(X_total)\n",
    "scoring_utils.get_confusion_matrix(y_total, yhat_total, 'CV Boosting')"
   ]
  },
  {
   "cell_type": "code",
   "execution_count": 38,
   "metadata": {},
   "outputs": [
    {
     "name": "stdout",
     "output_type": "stream",
     "text": [
      "We obtained a profit of $6,654,258,698.60\n"
     ]
    }
   ],
   "source": [
    "print(f\"We obtained a profit of ${scoring_utils.get_profit(X_total, y_total, yhat_total):,.2f}\")"
   ]
  },
  {
   "cell_type": "code",
   "execution_count": null,
   "metadata": {},
   "outputs": [],
   "source": []
  }
 ],
 "metadata": {
  "kernelspec": {
   "display_name": "Python 3",
   "language": "python",
   "name": "python3"
  },
  "language_info": {
   "codemirror_mode": {
    "name": "ipython",
    "version": 3
   },
   "file_extension": ".py",
   "mimetype": "text/x-python",
   "name": "python",
   "nbconvert_exporter": "python",
   "pygments_lexer": "ipython3",
   "version": "3.11.5"
  },
  "orig_nbformat": 4
 },
 "nbformat": 4,
 "nbformat_minor": 2
}
