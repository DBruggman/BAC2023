{
 "cells": [
  {
   "cell_type": "markdown",
   "metadata": {},
   "source": [
    "# Selected features"
   ]
  },
  {
   "cell_type": "code",
   "execution_count": 151,
   "metadata": {},
   "outputs": [],
   "source": [
    "import pandas as pd\n",
    "import matplotlib.pyplot as plt"
   ]
  },
  {
   "cell_type": "code",
   "execution_count": 152,
   "metadata": {},
   "outputs": [
    {
     "name": "stderr",
     "output_type": "stream",
     "text": [
      "/var/folders/41/hgg8f6_j1dj4y4mt0w22d8ym0000gn/T/ipykernel_14388/3878241928.py:1: DtypeWarning: Columns (9) have mixed types. Specify dtype option on import or set low_memory=False.\n",
      "  df = pd.read_csv('SBAnational.csv')\n"
     ]
    },
    {
     "data": {
      "text/plain": [
       "Index(['LoanNr_ChkDgt', 'Name', 'City', 'State', 'Zip', 'Bank', 'BankState',\n",
       "       'NAICS', 'ApprovalDate', 'ApprovalFY', 'Term', 'NoEmp', 'NewExist',\n",
       "       'CreateJob', 'RetainedJob', 'FranchiseCode', 'UrbanRural', 'RevLineCr',\n",
       "       'LowDoc', 'ChgOffDate', 'DisbursementDate', 'DisbursementGross',\n",
       "       'BalanceGross', 'MIS_Status', 'ChgOffPrinGr', 'GrAppv', 'SBA_Appv'],\n",
       "      dtype='object')"
      ]
     },
     "execution_count": 152,
     "metadata": {},
     "output_type": "execute_result"
    }
   ],
   "source": [
    "df = pd.read_csv('SBAnational.csv')\n",
    "df.columns"
   ]
  },
  {
   "cell_type": "code",
   "execution_count": 153,
   "metadata": {},
   "outputs": [],
   "source": [
    "# I'm gonna drop a bumch of columns that I don't care about for now. I will leave the name for traceability.\n",
    "drop_columns = ['LoanNr_ChkDgt', 'City', 'State', 'Zip', 'BankState', 'ApprovalDate', 'ApprovalFY',\n",
    "                'CreateJob', 'RetainedJob', 'ChgOffDate', 'DisbursementDate', 'DisbursementGross',\n",
    "                'BalanceGross', 'ChgOffPrinGr']\n",
    "df.drop(drop_columns, inplace=True, axis=1)"
   ]
  },
  {
   "cell_type": "code",
   "execution_count": 154,
   "metadata": {},
   "outputs": [
    {
     "data": {
      "text/html": [
       "<div>\n",
       "<style scoped>\n",
       "    .dataframe tbody tr th:only-of-type {\n",
       "        vertical-align: middle;\n",
       "    }\n",
       "\n",
       "    .dataframe tbody tr th {\n",
       "        vertical-align: top;\n",
       "    }\n",
       "\n",
       "    .dataframe thead th {\n",
       "        text-align: right;\n",
       "    }\n",
       "</style>\n",
       "<table border=\"1\" class=\"dataframe\">\n",
       "  <thead>\n",
       "    <tr style=\"text-align: right;\">\n",
       "      <th></th>\n",
       "      <th>Name</th>\n",
       "      <th>Bank</th>\n",
       "      <th>NAICS</th>\n",
       "      <th>Term</th>\n",
       "      <th>NoEmp</th>\n",
       "      <th>NewExist</th>\n",
       "      <th>FranchiseCode</th>\n",
       "      <th>UrbanRural</th>\n",
       "      <th>RevLineCr</th>\n",
       "      <th>LowDoc</th>\n",
       "      <th>MIS_Status</th>\n",
       "      <th>GrAppv</th>\n",
       "      <th>SBA_Appv</th>\n",
       "    </tr>\n",
       "  </thead>\n",
       "  <tbody>\n",
       "    <tr>\n",
       "      <th>0</th>\n",
       "      <td>ABC HOBBYCRAFT</td>\n",
       "      <td>FIFTH THIRD BANK</td>\n",
       "      <td>451120</td>\n",
       "      <td>84</td>\n",
       "      <td>4</td>\n",
       "      <td>2.000</td>\n",
       "      <td>1</td>\n",
       "      <td>0</td>\n",
       "      <td>N</td>\n",
       "      <td>Y</td>\n",
       "      <td>P I F</td>\n",
       "      <td>$60,000.00</td>\n",
       "      <td>$48,000.00</td>\n",
       "    </tr>\n",
       "    <tr>\n",
       "      <th>1</th>\n",
       "      <td>LANDMARK BAR &amp; GRILLE (THE)</td>\n",
       "      <td>1ST SOURCE BANK</td>\n",
       "      <td>722410</td>\n",
       "      <td>60</td>\n",
       "      <td>2</td>\n",
       "      <td>2.000</td>\n",
       "      <td>1</td>\n",
       "      <td>0</td>\n",
       "      <td>N</td>\n",
       "      <td>Y</td>\n",
       "      <td>P I F</td>\n",
       "      <td>$40,000.00</td>\n",
       "      <td>$32,000.00</td>\n",
       "    </tr>\n",
       "    <tr>\n",
       "      <th>2</th>\n",
       "      <td>WHITLOCK DDS, TODD M.</td>\n",
       "      <td>GRANT COUNTY STATE BANK</td>\n",
       "      <td>621210</td>\n",
       "      <td>180</td>\n",
       "      <td>7</td>\n",
       "      <td>1.000</td>\n",
       "      <td>1</td>\n",
       "      <td>0</td>\n",
       "      <td>N</td>\n",
       "      <td>N</td>\n",
       "      <td>P I F</td>\n",
       "      <td>$287,000.00</td>\n",
       "      <td>$215,250.00</td>\n",
       "    </tr>\n",
       "  </tbody>\n",
       "</table>\n",
       "</div>"
      ],
      "text/plain": [
       "                          Name                     Bank   NAICS  Term  NoEmp  \\\n",
       "0               ABC HOBBYCRAFT         FIFTH THIRD BANK  451120    84      4   \n",
       "1  LANDMARK BAR & GRILLE (THE)          1ST SOURCE BANK  722410    60      2   \n",
       "2        WHITLOCK DDS, TODD M.  GRANT COUNTY STATE BANK  621210   180      7   \n",
       "\n",
       "   NewExist  FranchiseCode  UrbanRural RevLineCr LowDoc MIS_Status  \\\n",
       "0     2.000              1           0         N      Y      P I F   \n",
       "1     2.000              1           0         N      Y      P I F   \n",
       "2     1.000              1           0         N      N      P I F   \n",
       "\n",
       "         GrAppv      SBA_Appv  \n",
       "0   $60,000.00    $48,000.00   \n",
       "1   $40,000.00    $32,000.00   \n",
       "2  $287,000.00   $215,250.00   "
      ]
     },
     "execution_count": 154,
     "metadata": {},
     "output_type": "execute_result"
    }
   ],
   "source": [
    "df.head(3)"
   ]
  },
  {
   "cell_type": "markdown",
   "metadata": {},
   "source": [
    "## Direct Inclusion\n",
    "\n",
    "Can be directly included or with minimum manipulation."
   ]
  },
  {
   "cell_type": "markdown",
   "metadata": {},
   "source": [
    "### Bank\n",
    "Bank Name\\\n",
    "**Encoding:**\\\n",
    "One-Hot for tree-based models. An idea is to create a few columns like Bank A, Bank B, Bank C with the major banks.\\\n",
    "<mark>TODO: Identify most common banks.</mark> \\\n",
    "For regression models we could encode each bank with the percentage of default of its previous loans.\\\n",
    "**Cleaning:**\\\n",
    "1559 nulls.\\\n",
    "One-Hot should be able to fix nulls, as a null bank would just be 0 in each column."
   ]
  },
  {
   "cell_type": "code",
   "execution_count": 155,
   "metadata": {},
   "outputs": [
    {
     "data": {
      "text/plain": [
       "count                         897605\n",
       "unique                          5802\n",
       "top       BANK OF AMERICA NATL ASSOC\n",
       "freq                           86853\n",
       "Name: Bank, dtype: object"
      ]
     },
     "execution_count": 155,
     "metadata": {},
     "output_type": "execute_result"
    }
   ],
   "source": [
    "df['Bank'].describe()\n"
   ]
  },
  {
   "cell_type": "code",
   "execution_count": 156,
   "metadata": {},
   "outputs": [
    {
     "name": "stdout",
     "output_type": "stream",
     "text": [
      "\n",
      "The top 5 most common banks:\n"
     ]
    },
    {
     "data": {
      "text/plain": [
       "Bank\n",
       "BANK OF AMERICA NATL ASSOC        86853\n",
       "WELLS FARGO BANK NATL ASSOC       63503\n",
       "JPMORGAN CHASE BANK NATL ASSOC    48167\n",
       "U.S. BANK NATIONAL ASSOCIATION    35143\n",
       "CITIZENS BANK NATL ASSOC          35054\n",
       "Name: count, dtype: int64"
      ]
     },
     "execution_count": 156,
     "metadata": {},
     "output_type": "execute_result"
    }
   ],
   "source": [
    "top_5_banks = df['Bank'].value_counts().head(5)\n",
    "print(f\"\\nThe top 5 most common banks:\")\n",
    "top_5_banks"
   ]
  },
  {
   "cell_type": "code",
   "execution_count": 157,
   "metadata": {},
   "outputs": [
    {
     "name": "stdout",
     "output_type": "stream",
     "text": [
      "1559 nulls\n"
     ]
    }
   ],
   "source": [
    "print(f\"{len(df[df['Bank'].isnull()])} nulls\")"
   ]
  },
  {
   "cell_type": "markdown",
   "metadata": {},
   "source": [
    "### NAICS\n",
    "North American Industry Classification System code\\\n",
    "**Encoding:**\\\n",
    "It does not make sense as a float number. Needs to be changed to a string.\\\n",
    "One-Hot for tree-based models. We can do a similar encoding as in the *Bank* feature. See [census](https://www.census.gov/naics/?58967?yearbck=2012) for identifying the industries. Note: It's the 1997 naming for some reason, not the 2012 one. Probably they are even mixed.\n",
    "<mark>TODO: Identify most common industries.</mark> \\\n",
    "For regression-based models we could do the same as for *bank* and just substitute it for its default ratio.\\\n",
    "**Cleaning:**\\\n",
    "A bunch of them have 0 value.\n",
    "<mark>TODO: Decide what to do with the zeros.</mark> \\"
   ]
  },
  {
   "cell_type": "code",
   "execution_count": 158,
   "metadata": {},
   "outputs": [
    {
     "data": {
      "text/plain": [
       "count     899164\n",
       "unique      1312\n",
       "top            0\n",
       "freq      201948\n",
       "Name: NAICS, dtype: object"
      ]
     },
     "execution_count": 158,
     "metadata": {},
     "output_type": "execute_result"
    }
   ],
   "source": [
    "# Change to a string to get categorical descriptions.\n",
    "df['NAICS'] = df['NAICS'].astype(str)\n",
    "df['NAICS'].describe()"
   ]
  },
  {
   "cell_type": "code",
   "execution_count": 159,
   "metadata": {},
   "outputs": [
    {
     "name": "stdout",
     "output_type": "stream",
     "text": [
      "\n",
      "The top 5 most common NAICS:\n"
     ]
    },
    {
     "data": {
      "text/plain": [
       "NAICS\n",
       "0         201948\n",
       "722110     27989\n",
       "722211     19448\n",
       "811111     14585\n",
       "621210     14048\n",
       "Name: count, dtype: int64"
      ]
     },
     "execution_count": 159,
     "metadata": {},
     "output_type": "execute_result"
    }
   ],
   "source": [
    "top_naics = df['NAICS'].value_counts().head()\n",
    "print(f\"\\nThe top 5 most common NAICS:\")\n",
    "top_naics"
   ]
  },
  {
   "cell_type": "markdown",
   "metadata": {},
   "source": [
    "### Term\n",
    "Loan term in months\\\n",
    "**Encoding:**\\\n",
    "For regression models it is inmediate, being a numeric feature.\\\n",
    "For tree-based models we may have to build bins. An idea would be to divide it into short, medium and long terms.\n",
    "<mark>TODO: Design bins to divide the terms.</mark>"
   ]
  },
  {
   "cell_type": "code",
   "execution_count": 160,
   "metadata": {},
   "outputs": [
    {
     "data": {
      "text/plain": [
       "count   899164.000\n",
       "mean       110.773\n",
       "std         78.857\n",
       "min          0.000\n",
       "25%         60.000\n",
       "50%         84.000\n",
       "75%        120.000\n",
       "max        569.000\n",
       "Name: Term, dtype: float64"
      ]
     },
     "execution_count": 160,
     "metadata": {},
     "output_type": "execute_result"
    }
   ],
   "source": [
    "df['Term'].describe()"
   ]
  },
  {
   "cell_type": "code",
   "execution_count": 161,
   "metadata": {},
   "outputs": [],
   "source": [
    "# Helper function to draw histograms\n",
    "def draw_histogram(column: pd.DataFrame, name: str, nbins: int = 10):\n",
    "    plt.figure(figsize=(8, 6))\n",
    "    plt.hist(column, bins=nbins, alpha=0.7, color='skyblue', edgecolor='black')\n",
    "    plt.title(f'Histogram of {name}')\n",
    "    plt.xlabel('Values')\n",
    "    plt.ylabel('Frequency')\n",
    "    plt.grid(True)\n",
    "    plt.show()"
   ]
  },
  {
   "cell_type": "code",
   "execution_count": 162,
   "metadata": {},
   "outputs": [
    {
     "data": {
      "image/png": "[encoded data removed]",
      "text/plain": [
       "<Figure size 800x600 with 1 Axes>"
      ]
     },
     "metadata": {},
     "output_type": "display_data"
    }
   ],
   "source": [
    "draw_histogram(df['Term'], 'Term')"
   ]
  },
  {
   "cell_type": "markdown",
   "metadata": {},
   "source": [
    "### NoEmp\n",
    "Number of Business Employees\\\n",
    "**Encoding:**\\\n",
    "For linear models it makes sense to use directly as a feature.\\\n",
    "For tree based models we might want to make bins for different business sizes.\n",
    "<mark>TODO: Design bins to divide the business sizes.</mark>"
   ]
  },
  {
   "cell_type": "code",
   "execution_count": 163,
   "metadata": {},
   "outputs": [
    {
     "data": {
      "text/plain": [
       "count   899164.000\n",
       "mean        11.411\n",
       "std         74.108\n",
       "min          0.000\n",
       "25%          2.000\n",
       "50%          4.000\n",
       "75%         10.000\n",
       "max       9999.000\n",
       "Name: NoEmp, dtype: float64"
      ]
     },
     "execution_count": 163,
     "metadata": {},
     "output_type": "execute_result"
    }
   ],
   "source": [
    "df['NoEmp'].describe()"
   ]
  },
  {
   "cell_type": "code",
   "execution_count": 164,
   "metadata": {},
   "outputs": [
    {
     "data": {
      "text/html": [
       "<div>\n",
       "<style scoped>\n",
       "    .dataframe tbody tr th:only-of-type {\n",
       "        vertical-align: middle;\n",
       "    }\n",
       "\n",
       "    .dataframe tbody tr th {\n",
       "        vertical-align: top;\n",
       "    }\n",
       "\n",
       "    .dataframe thead th {\n",
       "        text-align: right;\n",
       "    }\n",
       "</style>\n",
       "<table border=\"1\" class=\"dataframe\">\n",
       "  <thead>\n",
       "    <tr style=\"text-align: right;\">\n",
       "      <th></th>\n",
       "      <th>Name</th>\n",
       "      <th>Bank</th>\n",
       "      <th>NAICS</th>\n",
       "      <th>Term</th>\n",
       "      <th>NoEmp</th>\n",
       "      <th>NewExist</th>\n",
       "      <th>FranchiseCode</th>\n",
       "      <th>UrbanRural</th>\n",
       "      <th>RevLineCr</th>\n",
       "      <th>LowDoc</th>\n",
       "      <th>MIS_Status</th>\n",
       "      <th>GrAppv</th>\n",
       "      <th>SBA_Appv</th>\n",
       "    </tr>\n",
       "  </thead>\n",
       "  <tbody>\n",
       "    <tr>\n",
       "      <th>7816</th>\n",
       "      <td>OAKS PHARMACY, INC.</td>\n",
       "      <td>CITIZENS BANK OF PENNSYLVANIA</td>\n",
       "      <td>446110</td>\n",
       "      <td>36</td>\n",
       "      <td>9992</td>\n",
       "      <td>2.000</td>\n",
       "      <td>1</td>\n",
       "      <td>0</td>\n",
       "      <td>N</td>\n",
       "      <td>Y</td>\n",
       "      <td>P I F</td>\n",
       "      <td>$55,000.00</td>\n",
       "      <td>$44,000.00</td>\n",
       "    </tr>\n",
       "    <tr>\n",
       "      <th>44584</th>\n",
       "      <td>R &amp; R SALES</td>\n",
       "      <td>ALERUS FINANCIAL NATL ASSOC</td>\n",
       "      <td>0</td>\n",
       "      <td>84</td>\n",
       "      <td>9999</td>\n",
       "      <td>2.000</td>\n",
       "      <td>0</td>\n",
       "      <td>0</td>\n",
       "      <td>N</td>\n",
       "      <td>N</td>\n",
       "      <td>CHGOFF</td>\n",
       "      <td>$50,000.00</td>\n",
       "      <td>$45,000.00</td>\n",
       "    </tr>\n",
       "    <tr>\n",
       "      <th>164076</th>\n",
       "      <td>BRADLEY I. &amp; LINDA M. AULIN</td>\n",
       "      <td>FIVE STAR BANK</td>\n",
       "      <td>0</td>\n",
       "      <td>63</td>\n",
       "      <td>9999</td>\n",
       "      <td>1.000</td>\n",
       "      <td>1</td>\n",
       "      <td>0</td>\n",
       "      <td>N</td>\n",
       "      <td>N</td>\n",
       "      <td>CHGOFF</td>\n",
       "      <td>$200,000.00</td>\n",
       "      <td>$150,000.00</td>\n",
       "    </tr>\n",
       "    <tr>\n",
       "      <th>505737</th>\n",
       "      <td>TOTEM PRESS, INC.</td>\n",
       "      <td>U.S. BANK NATIONAL ASSOCIATION</td>\n",
       "      <td>0</td>\n",
       "      <td>120</td>\n",
       "      <td>9999</td>\n",
       "      <td>1.000</td>\n",
       "      <td>1</td>\n",
       "      <td>0</td>\n",
       "      <td>N</td>\n",
       "      <td>N</td>\n",
       "      <td>P I F</td>\n",
       "      <td>$143,000.00</td>\n",
       "      <td>$114,400.00</td>\n",
       "    </tr>\n",
       "    <tr>\n",
       "      <th>613940</th>\n",
       "      <td>GRAPHIC COMMUNICATION A HAWAII</td>\n",
       "      <td>FIRST HAWAIIAN BANK</td>\n",
       "      <td>541430</td>\n",
       "      <td>84</td>\n",
       "      <td>9999</td>\n",
       "      <td>1.000</td>\n",
       "      <td>1</td>\n",
       "      <td>0</td>\n",
       "      <td>N</td>\n",
       "      <td>N</td>\n",
       "      <td>P I F</td>\n",
       "      <td>$21,000.00</td>\n",
       "      <td>$18,900.00</td>\n",
       "    </tr>\n",
       "    <tr>\n",
       "      <th>873293</th>\n",
       "      <td>WILL'S FAMILY FAVORITES</td>\n",
       "      <td>CALIFORNIA BANK &amp; TRUST</td>\n",
       "      <td>0</td>\n",
       "      <td>70</td>\n",
       "      <td>9945</td>\n",
       "      <td>1.000</td>\n",
       "      <td>1</td>\n",
       "      <td>0</td>\n",
       "      <td>0</td>\n",
       "      <td>N</td>\n",
       "      <td>P I F</td>\n",
       "      <td>$145,000.00</td>\n",
       "      <td>$108,750.00</td>\n",
       "    </tr>\n",
       "  </tbody>\n",
       "</table>\n",
       "</div>"
      ],
      "text/plain": [
       "                                  Name                            Bank  \\\n",
       "7816               OAKS PHARMACY, INC.   CITIZENS BANK OF PENNSYLVANIA   \n",
       "44584                      R & R SALES     ALERUS FINANCIAL NATL ASSOC   \n",
       "164076     BRADLEY I. & LINDA M. AULIN                  FIVE STAR BANK   \n",
       "505737               TOTEM PRESS, INC.  U.S. BANK NATIONAL ASSOCIATION   \n",
       "613940  GRAPHIC COMMUNICATION A HAWAII             FIRST HAWAIIAN BANK   \n",
       "873293         WILL'S FAMILY FAVORITES         CALIFORNIA BANK & TRUST   \n",
       "\n",
       "         NAICS  Term  NoEmp  NewExist  FranchiseCode  UrbanRural RevLineCr  \\\n",
       "7816    446110    36   9992     2.000              1           0         N   \n",
       "44584        0    84   9999     2.000              0           0         N   \n",
       "164076       0    63   9999     1.000              1           0         N   \n",
       "505737       0   120   9999     1.000              1           0         N   \n",
       "613940  541430    84   9999     1.000              1           0         N   \n",
       "873293       0    70   9945     1.000              1           0         0   \n",
       "\n",
       "       LowDoc MIS_Status        GrAppv      SBA_Appv  \n",
       "7816        Y      P I F   $55,000.00    $44,000.00   \n",
       "44584       N     CHGOFF   $50,000.00    $45,000.00   \n",
       "164076      N     CHGOFF  $200,000.00   $150,000.00   \n",
       "505737      N      P I F  $143,000.00   $114,400.00   \n",
       "613940      N      P I F   $21,000.00    $18,900.00   \n",
       "873293      N      P I F  $145,000.00   $108,750.00   "
      ]
     },
     "execution_count": 164,
     "metadata": {},
     "output_type": "execute_result"
    }
   ],
   "source": [
    "# These are some of the biggest ones. They could maybe be considered as outliers.\n",
    "df[df['NoEmp'] >= 9800]"
   ]
  },
  {
   "cell_type": "code",
   "execution_count": 165,
   "metadata": {},
   "outputs": [
    {
     "name": "stdout",
     "output_type": "stream",
     "text": [
      "6631 have 0 employees\n"
     ]
    }
   ],
   "source": [
    "# What should we do with the fellas with 0 employees?\n",
    "print(f\"{len(df[df['NoEmp'] < 1])} have 0 employees\")"
   ]
  },
  {
   "cell_type": "code",
   "execution_count": 166,
   "metadata": {},
   "outputs": [
    {
     "data": {
      "image/png": "[encoded data removed]",
      "text/plain": [
       "<Figure size 800x600 with 1 Axes>"
      ]
     },
     "metadata": {},
     "output_type": "display_data"
    }
   ],
   "source": [
    "# I'll only pull the ones under 50 to see with bigger detail.\n",
    "draw_histogram(df[df['NoEmp']<=50]['NoEmp'], \"Number of employees\", 50)"
   ]
  },
  {
   "cell_type": "markdown",
   "metadata": {},
   "source": [
    "### NewExist\n",
    "1 = Existing Business, 2 = New Business\\\n",
    "**Encoding:**\\\n",
    "For both trees and regressions, the encoding is straightforward binary, 1 = existing, 0 = new.\\\n",
    "**Cleaning:**\\\n",
    "1034 values with 0.0.\\\n",
    "We can fill them with the mode (Existing) or toss the samples.\n",
    "<mark>TODO: Decide what to do with the nulls.</mark>"
   ]
  },
  {
   "cell_type": "code",
   "execution_count": 167,
   "metadata": {},
   "outputs": [
    {
     "data": {
      "text/plain": [
       "count     899164\n",
       "unique         4\n",
       "top          1.0\n",
       "freq      644869\n",
       "Name: NewExist, dtype: object"
      ]
     },
     "execution_count": 167,
     "metadata": {},
     "output_type": "execute_result"
    }
   ],
   "source": [
    "df['NewExist'] = df['NewExist'].astype(str)\n",
    "df['NewExist'].describe()"
   ]
  },
  {
   "cell_type": "code",
   "execution_count": 168,
   "metadata": {},
   "outputs": [
    {
     "data": {
      "text/plain": [
       "NewExist\n",
       "1.0    644869\n",
       "2.0    253125\n",
       "0.0      1034\n",
       "nan       136\n",
       "Name: count, dtype: int64"
      ]
     },
     "execution_count": 168,
     "metadata": {},
     "output_type": "execute_result"
    }
   ],
   "source": [
    "# 136 nulls.\n",
    "df['NewExist'].value_counts()"
   ]
  },
  {
   "cell_type": "markdown",
   "metadata": {},
   "source": [
    "### FranchiseCode\n",
    "Franchise Code 00000 or 00001 = No Franchise\\\n",
    "**Encoding:**\\\n",
    "Has to be changed to strings.\n",
    "For both tree and regression models it would be good to feature engineer it into a division between *no-franchise, major-franchise and other-franchise*. We could have one bin for Subway, Quiznos, etc; one for other franchises and one for no franchise.\\\n",
    "Some values included are:\\\n",
    "78760: Subway\\\n",
    "68020: Quiznos\\\n",
    "50564: Mail Boxes Etc\\\n",
    "21780: Dairy Queen\\\n",
    "25650: Dunkin\\\n",
    "79140: Super 8\\\n",
    "<mark>TODO: Design bins to divide the franchises.</mark>"
   ]
  },
  {
   "cell_type": "code",
   "execution_count": 169,
   "metadata": {},
   "outputs": [
    {
     "data": {
      "text/plain": [
       "count     899164\n",
       "unique      2768\n",
       "top            1\n",
       "freq      638554\n",
       "Name: FranchiseCode, dtype: object"
      ]
     },
     "execution_count": 169,
     "metadata": {},
     "output_type": "execute_result"
    }
   ],
   "source": [
    "df['FranchiseCode'] = df['FranchiseCode'].astype(str)\n",
    "df['FranchiseCode'].describe()"
   ]
  },
  {
   "cell_type": "code",
   "execution_count": 170,
   "metadata": {},
   "outputs": [
    {
     "name": "stdout",
     "output_type": "stream",
     "text": [
      "\n",
      "The top 10 most common franchises:\n"
     ]
    },
    {
     "data": {
      "text/plain": [
       "FranchiseCode\n",
       "1        638554\n",
       "0        208835\n",
       "78760      3373\n",
       "68020      1921\n",
       "50564      1034\n",
       "21780      1003\n",
       "25650       715\n",
       "79140       659\n",
       "22470       615\n",
       "17998       606\n",
       "Name: count, dtype: int64"
      ]
     },
     "execution_count": 170,
     "metadata": {},
     "output_type": "execute_result"
    }
   ],
   "source": [
    "top_franchises = df['FranchiseCode'].value_counts().head(10)\n",
    "print(f\"\\nThe top 10 most common franchises:\")\n",
    "top_franchises"
   ]
  },
  {
   "cell_type": "markdown",
   "metadata": {},
   "source": [
    "### UrbanRural\n",
    "1= Urban, 2= Rural, 0 = Undefined\\\n",
    "**Encoding:**\\\n",
    "Changed to string. It has to be one-hot encoding for both trees and regression. 105343 are undefined, so it should be its own cathegory."
   ]
  },
  {
   "cell_type": "code",
   "execution_count": 171,
   "metadata": {},
   "outputs": [
    {
     "data": {
      "text/plain": [
       "count     899164\n",
       "unique         3\n",
       "top            1\n",
       "freq      470654\n",
       "Name: UrbanRural, dtype: object"
      ]
     },
     "execution_count": 171,
     "metadata": {},
     "output_type": "execute_result"
    }
   ],
   "source": [
    "df['UrbanRural'] = df['UrbanRural'].astype(str)\n",
    "df['UrbanRural'].describe()"
   ]
  },
  {
   "cell_type": "code",
   "execution_count": 172,
   "metadata": {},
   "outputs": [
    {
     "data": {
      "text/plain": [
       "UrbanRural\n",
       "1    470654\n",
       "0    323167\n",
       "2    105343\n",
       "Name: count, dtype: int64"
      ]
     },
     "execution_count": 172,
     "metadata": {},
     "output_type": "execute_result"
    }
   ],
   "source": [
    "df['UrbanRural'].value_counts()"
   ]
  },
  {
   "cell_type": "markdown",
   "metadata": {},
   "source": [
    "### RevLineCr\n",
    "Revolving Line of Credit: Y = Yes\\\n",
    "**Encoding:**\\\n",
    "Makes sense to binary-encode it for both trees and regression. \\\n",
    "**Cleaning:**\\\n",
    "There is a significative amount of possible values which don't have a clear meaning (i.e. 0, T, 1, R, 2, C). There are also nulls.\n",
    "<mark>TODO: Clean this data. </mark>"
   ]
  },
  {
   "cell_type": "code",
   "execution_count": 173,
   "metadata": {},
   "outputs": [
    {
     "data": {
      "text/plain": [
       "count     894636\n",
       "unique        18\n",
       "top            N\n",
       "freq      420288\n",
       "Name: RevLineCr, dtype: object"
      ]
     },
     "execution_count": 173,
     "metadata": {},
     "output_type": "execute_result"
    }
   ],
   "source": [
    "df['RevLineCr'].describe()"
   ]
  },
  {
   "cell_type": "code",
   "execution_count": 174,
   "metadata": {},
   "outputs": [
    {
     "data": {
      "text/plain": [
       "RevLineCr\n",
       "N    420288\n",
       "0    257602\n",
       "Y    201397\n",
       "T     15284\n",
       "1        23\n",
       "R        14\n",
       "`        11\n",
       "2         6\n",
       "C         2\n",
       "3         1\n",
       ",         1\n",
       "7         1\n",
       "A         1\n",
       "5         1\n",
       ".         1\n",
       "4         1\n",
       "-         1\n",
       "Q         1\n",
       "Name: count, dtype: int64"
      ]
     },
     "execution_count": 174,
     "metadata": {},
     "output_type": "execute_result"
    }
   ],
   "source": [
    "df['RevLineCr'].value_counts()"
   ]
  },
  {
   "cell_type": "code",
   "execution_count": 175,
   "metadata": {},
   "outputs": [
    {
     "name": "stdout",
     "output_type": "stream",
     "text": [
      "4528 nulls\n"
     ]
    }
   ],
   "source": [
    "print(f\"{len(df[df['RevLineCr'].isnull()])} nulls\")"
   ]
  },
  {
   "cell_type": "markdown",
   "metadata": {},
   "source": [
    "### LowDoc\n",
    "LowDoc Loan Program: Y = Yes, N = No\\\n",
    "**Encoding:**\\\n",
    "Makes sense to binary-encode it for both trees and regression. \\\n",
    "**Cleaning:**\\\n",
    "There is a significative amount of possible values which don't have a clear meaning (i.e. 0, C, S, A, 1). There are also nulls.\n",
    "<mark>TODO: Clean this data. </mark>"
   ]
  },
  {
   "cell_type": "code",
   "execution_count": 176,
   "metadata": {},
   "outputs": [
    {
     "data": {
      "text/plain": [
       "count     896582\n",
       "unique         8\n",
       "top            N\n",
       "freq      782822\n",
       "Name: LowDoc, dtype: object"
      ]
     },
     "execution_count": 176,
     "metadata": {},
     "output_type": "execute_result"
    }
   ],
   "source": [
    "df['LowDoc'].describe()"
   ]
  },
  {
   "cell_type": "code",
   "execution_count": 177,
   "metadata": {},
   "outputs": [
    {
     "data": {
      "text/plain": [
       "LowDoc\n",
       "N    782822\n",
       "Y    110335\n",
       "0      1491\n",
       "C       758\n",
       "S       603\n",
       "A       497\n",
       "R        75\n",
       "1         1\n",
       "Name: count, dtype: int64"
      ]
     },
     "execution_count": 177,
     "metadata": {},
     "output_type": "execute_result"
    }
   ],
   "source": [
    "df['LowDoc'].value_counts()"
   ]
  },
  {
   "cell_type": "code",
   "execution_count": 178,
   "metadata": {},
   "outputs": [
    {
     "name": "stdout",
     "output_type": "stream",
     "text": [
      "2582 nulls\n"
     ]
    }
   ],
   "source": [
    "print(f\"{len(df[df['LowDoc'].isnull()])} nulls\")"
   ]
  },
  {
   "cell_type": "code",
   "execution_count": 179,
   "metadata": {},
   "outputs": [],
   "source": [
    "#Convert dollar values to float value\n",
    "def dollar_to_float(dollar_string: str):\n",
    "    return float(dollar_string.replace('$','').replace(',',''))"
   ]
  },
  {
   "cell_type": "markdown",
   "metadata": {},
   "source": [
    "### GRAppv\n",
    "Gross Amount of Loan Approved by Bank\\\n",
    "**Encoding:**\\\n",
    "Has to be translated into floats."
   ]
  },
  {
   "cell_type": "code",
   "execution_count": 180,
   "metadata": {},
   "outputs": [
    {
     "data": {
      "text/plain": [
       "count    899164.000\n",
       "mean     192686.976\n",
       "std      283263.391\n",
       "min         200.000\n",
       "25%       35000.000\n",
       "50%       90000.000\n",
       "75%      225000.000\n",
       "max     5472000.000\n",
       "Name: GrAppv, dtype: float64"
      ]
     },
     "execution_count": 180,
     "metadata": {},
     "output_type": "execute_result"
    }
   ],
   "source": [
    "df['GrAppv'] = df['GrAppv'].apply(dollar_to_float)\n",
    "\n",
    "# Scientific notation is useless for now\n",
    "pd.set_option('display.float_format', lambda x: '%.3f' % x)\n",
    "\n",
    "df['GrAppv'].describe()\n"
   ]
  },
  {
   "cell_type": "code",
   "execution_count": 181,
   "metadata": {},
   "outputs": [
    {
     "data": {
      "image/png": "[encoded data removed]",
      "text/plain": [
       "<Figure size 800x600 with 1 Axes>"
      ]
     },
     "metadata": {},
     "output_type": "display_data"
    }
   ],
   "source": [
    "# I will go over the loans under $1 million.\n",
    "\n",
    "draw_histogram(df[df['GrAppv'] < 1000000]['GrAppv'], 'Gross Amount Approved, $', 50)"
   ]
  },
  {
   "cell_type": "markdown",
   "metadata": {},
   "source": [
    "### SBA_Appv\n",
    "SBA’s Guaranteed Amount of Approved Loan\\\n",
    "**Encoding:**\\\n",
    "Has to be translated into floats."
   ]
  },
  {
   "cell_type": "code",
   "execution_count": 182,
   "metadata": {},
   "outputs": [
    {
     "data": {
      "text/plain": [
       "count    899164.000\n",
       "mean     149488.788\n",
       "std      228414.562\n",
       "min         100.000\n",
       "25%       21250.000\n",
       "50%       61250.000\n",
       "75%      175000.000\n",
       "max     5472000.000\n",
       "Name: SBA_Appv, dtype: float64"
      ]
     },
     "execution_count": 182,
     "metadata": {},
     "output_type": "execute_result"
    }
   ],
   "source": [
    "df['SBA_Appv'] = df['SBA_Appv'].apply(dollar_to_float)\n",
    "df['SBA_Appv'].describe()"
   ]
  },
  {
   "cell_type": "code",
   "execution_count": 183,
   "metadata": {},
   "outputs": [
    {
     "data": {
      "image/png": "[encoded data removed]",
      "text/plain": [
       "<Figure size 800x600 with 1 Axes>"
      ]
     },
     "metadata": {},
     "output_type": "display_data"
    }
   ],
   "source": [
    "# I will go over the loans under $200k.\n",
    "\n",
    "draw_histogram(df[df['SBA_Appv'] < 200000]['SBA_Appv'], 'Gross Amount Approved, $', 50)"
   ]
  },
  {
   "cell_type": "markdown",
   "metadata": {},
   "source": [
    "## Engineered Features"
   ]
  },
  {
   "cell_type": "code",
   "execution_count": null,
   "metadata": {},
   "outputs": [],
   "source": [
    "df['SBARatio'] = df['GrSBA_Appv'] / df['GrAppvFloat']"
   ]
  }
 ],
 "metadata": {
  "kernelspec": {
   "display_name": "Python 3",
   "language": "python",
   "name": "python3"
  },
  "language_info": {
   "codemirror_mode": {
    "name": "ipython",
    "version": 3
   },
   "file_extension": ".py",
   "mimetype": "text/x-python",
   "name": "python",
   "nbconvert_exporter": "python",
   "pygments_lexer": "ipython3",
   "version": "3.11.5"
  },
  "orig_nbformat": 4
 },
 "nbformat": 4,
 "nbformat_minor": 2
}
