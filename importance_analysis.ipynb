{
 "cells": [
  {
   "cell_type": "markdown",
   "metadata": {},
   "source": [
    "## Importance analysis and first perforance baselines"
   ]
  },
  {
   "cell_type": "markdown",
   "metadata": {},
   "source": [
    "## Encoding of all features\n",
    "\n",
    "In this first iteration of design, we chose to simplify the model as much as possible. That includes dropping samples in case of doubt and not performing advanced feature engineering."
   ]
  },
  {
   "cell_type": "code",
   "execution_count": 1,
   "metadata": {},
   "outputs": [],
   "source": [
    "import pandas as pd\n",
    "import numpy as np\n",
    "import matplotlib.pyplot as plt\n",
    "import seaborn as sns"
   ]
  },
  {
   "cell_type": "code",
   "execution_count": 2,
   "metadata": {},
   "outputs": [
    {
     "name": "stderr",
     "output_type": "stream",
     "text": [
      "/var/folders/41/hgg8f6_j1dj4y4mt0w22d8ym0000gn/T/ipykernel_54233/2675700227.py:1: DtypeWarning: Columns (9) have mixed types. Specify dtype option on import or set low_memory=False.\n",
      "  df = pd.read_csv('SBAnational.csv')\n"
     ]
    },
    {
     "data": {
      "text/html": [
       "<div>\n",
       "<style scoped>\n",
       "    .dataframe tbody tr th:only-of-type {\n",
       "        vertical-align: middle;\n",
       "    }\n",
       "\n",
       "    .dataframe tbody tr th {\n",
       "        vertical-align: top;\n",
       "    }\n",
       "\n",
       "    .dataframe thead th {\n",
       "        text-align: right;\n",
       "    }\n",
       "</style>\n",
       "<table border=\"1\" class=\"dataframe\">\n",
       "  <thead>\n",
       "    <tr style=\"text-align: right;\">\n",
       "      <th></th>\n",
       "      <th>LoanNr_ChkDgt</th>\n",
       "      <th>Name</th>\n",
       "      <th>City</th>\n",
       "      <th>State</th>\n",
       "      <th>Zip</th>\n",
       "      <th>Bank</th>\n",
       "      <th>BankState</th>\n",
       "      <th>NAICS</th>\n",
       "      <th>ApprovalDate</th>\n",
       "      <th>ApprovalFY</th>\n",
       "      <th>...</th>\n",
       "      <th>RevLineCr</th>\n",
       "      <th>LowDoc</th>\n",
       "      <th>ChgOffDate</th>\n",
       "      <th>DisbursementDate</th>\n",
       "      <th>DisbursementGross</th>\n",
       "      <th>BalanceGross</th>\n",
       "      <th>MIS_Status</th>\n",
       "      <th>ChgOffPrinGr</th>\n",
       "      <th>GrAppv</th>\n",
       "      <th>SBA_Appv</th>\n",
       "    </tr>\n",
       "  </thead>\n",
       "  <tbody>\n",
       "    <tr>\n",
       "      <th>0</th>\n",
       "      <td>1000014003</td>\n",
       "      <td>ABC HOBBYCRAFT</td>\n",
       "      <td>EVANSVILLE</td>\n",
       "      <td>IN</td>\n",
       "      <td>47711</td>\n",
       "      <td>FIFTH THIRD BANK</td>\n",
       "      <td>OH</td>\n",
       "      <td>451120</td>\n",
       "      <td>28-Feb-97</td>\n",
       "      <td>1997</td>\n",
       "      <td>...</td>\n",
       "      <td>N</td>\n",
       "      <td>Y</td>\n",
       "      <td>NaN</td>\n",
       "      <td>28-Feb-99</td>\n",
       "      <td>$60,000.00</td>\n",
       "      <td>$0.00</td>\n",
       "      <td>P I F</td>\n",
       "      <td>$0.00</td>\n",
       "      <td>$60,000.00</td>\n",
       "      <td>$48,000.00</td>\n",
       "    </tr>\n",
       "  </tbody>\n",
       "</table>\n",
       "<p>1 rows × 27 columns</p>\n",
       "</div>"
      ],
      "text/plain": [
       "   LoanNr_ChkDgt            Name        City State    Zip              Bank  \\\n",
       "0     1000014003  ABC HOBBYCRAFT  EVANSVILLE    IN  47711  FIFTH THIRD BANK   \n",
       "\n",
       "  BankState   NAICS ApprovalDate ApprovalFY  ...  RevLineCr  LowDoc  \\\n",
       "0        OH  451120    28-Feb-97       1997  ...          N       Y   \n",
       "\n",
       "   ChgOffDate  DisbursementDate  DisbursementGross  BalanceGross  MIS_Status  \\\n",
       "0         NaN         28-Feb-99        $60,000.00         $0.00        P I F   \n",
       "\n",
       "  ChgOffPrinGr       GrAppv     SBA_Appv  \n",
       "0       $0.00   $60,000.00   $48,000.00   \n",
       "\n",
       "[1 rows x 27 columns]"
      ]
     },
     "execution_count": 2,
     "metadata": {},
     "output_type": "execute_result"
    }
   ],
   "source": [
    "df = pd.read_csv('SBAnational.csv')\n",
    "df.head(1)"
   ]
  },
  {
   "cell_type": "code",
   "execution_count": 3,
   "metadata": {},
   "outputs": [
    {
     "data": {
      "text/html": [
       "<div>\n",
       "<style scoped>\n",
       "    .dataframe tbody tr th:only-of-type {\n",
       "        vertical-align: middle;\n",
       "    }\n",
       "\n",
       "    .dataframe tbody tr th {\n",
       "        vertical-align: top;\n",
       "    }\n",
       "\n",
       "    .dataframe thead th {\n",
       "        text-align: right;\n",
       "    }\n",
       "</style>\n",
       "<table border=\"1\" class=\"dataframe\">\n",
       "  <thead>\n",
       "    <tr style=\"text-align: right;\">\n",
       "      <th></th>\n",
       "      <th>NAICS</th>\n",
       "      <th>Term</th>\n",
       "      <th>NewExist</th>\n",
       "      <th>FranchiseCode</th>\n",
       "      <th>UrbanRural</th>\n",
       "      <th>RevLineCr</th>\n",
       "      <th>LowDoc</th>\n",
       "      <th>MIS_Status</th>\n",
       "      <th>GrAppv</th>\n",
       "      <th>SBA_Appv</th>\n",
       "    </tr>\n",
       "  </thead>\n",
       "  <tbody>\n",
       "    <tr>\n",
       "      <th>0</th>\n",
       "      <td>451120</td>\n",
       "      <td>84</td>\n",
       "      <td>2.0</td>\n",
       "      <td>1</td>\n",
       "      <td>0</td>\n",
       "      <td>N</td>\n",
       "      <td>Y</td>\n",
       "      <td>P I F</td>\n",
       "      <td>$60,000.00</td>\n",
       "      <td>$48,000.00</td>\n",
       "    </tr>\n",
       "  </tbody>\n",
       "</table>\n",
       "</div>"
      ],
      "text/plain": [
       "    NAICS  Term  NewExist  FranchiseCode  UrbanRural RevLineCr LowDoc  \\\n",
       "0  451120    84       2.0              1           0         N      Y   \n",
       "\n",
       "  MIS_Status       GrAppv     SBA_Appv  \n",
       "0      P I F  $60,000.00   $48,000.00   "
      ]
     },
     "execution_count": 3,
     "metadata": {},
     "output_type": "execute_result"
    }
   ],
   "source": [
    "drop_columns = ['LoanNr_ChkDgt', 'Name', 'City', 'State', 'Zip', 'Bank' ,'BankState', 'ApprovalDate', 'ApprovalFY',\n",
    "                'CreateJob', 'RetainedJob','NoEmp', 'ChgOffDate', 'DisbursementDate', 'DisbursementGross',\n",
    "                'BalanceGross', 'ChgOffPrinGr']\n",
    "df.drop(drop_columns, inplace=True, axis=1)\n",
    "df.head(1)"
   ]
  },
  {
   "cell_type": "markdown",
   "metadata": {},
   "source": [
    "### Target\n",
    "The target will be binary encoded, 1 representing a defaulted loand and 0 the case of full payment."
   ]
  },
  {
   "cell_type": "code",
   "execution_count": 4,
   "metadata": {},
   "outputs": [
    {
     "data": {
      "text/plain": [
       "count     897167\n",
       "unique         2\n",
       "top        P I F\n",
       "freq      739609\n",
       "Name: MIS_Status, dtype: object"
      ]
     },
     "execution_count": 4,
     "metadata": {},
     "output_type": "execute_result"
    }
   ],
   "source": [
    "# Drop data with null MIS_Status, as it is useless\n",
    "df.dropna(subset=['MIS_Status'], inplace=True)\n",
    "df['MIS_Status'].describe()"
   ]
  },
  {
   "cell_type": "code",
   "execution_count": 5,
   "metadata": {},
   "outputs": [
    {
     "data": {
      "text/plain": [
       "count    897167.000000\n",
       "mean          0.175617\n",
       "std           0.380494\n",
       "min           0.000000\n",
       "25%           0.000000\n",
       "50%           0.000000\n",
       "75%           0.000000\n",
       "max           1.000000\n",
       "Name: Default, dtype: float64"
      ]
     },
     "execution_count": 5,
     "metadata": {},
     "output_type": "execute_result"
    }
   ],
   "source": [
    "target = 'Default'\n",
    "# Encode the target variable to binary values. This will encode Default as 1, which in my opinion makes everything more intuitive.\n",
    "df[target] = np.where(df['MIS_Status'] == 'CHGOFF', 1, 0)\n",
    "df[target].describe()\n",
    "\n",
    "# from sklearn.preprocessing import LabelEncoder\n",
    "# label_encoder = LabelEncoder()\n",
    "# df[target] = label_encoder.fit_transform(df['MIS_Status'])\n",
    "# df.drop(['MIS_Status'], inplace=True, axis=1)\n",
    "# print(df[target].describe())\n",
    "# # Paid in Full is encoded as 1"
   ]
  },
  {
   "cell_type": "code",
   "execution_count": 6,
   "metadata": {},
   "outputs": [
    {
     "data": {
      "text/plain": [
       "Index(['NAICS', 'Term', 'NewExist', 'FranchiseCode', 'UrbanRural', 'RevLineCr',\n",
       "       'LowDoc', 'MIS_Status', 'GrAppv', 'SBA_Appv', 'Default'],\n",
       "      dtype='object')"
      ]
     },
     "execution_count": 6,
     "metadata": {},
     "output_type": "execute_result"
    }
   ],
   "source": [
    "# Now let's go over all of these columns\n",
    "df.columns"
   ]
  },
  {
   "cell_type": "markdown",
   "metadata": {},
   "source": [
    "### NAICS\n",
    "\n",
    "As we're keeping things simple in this first iteration, we will only take a look at the first two digits of NAICS, which encode the broad industry."
   ]
  },
  {
   "cell_type": "code",
   "execution_count": 7,
   "metadata": {},
   "outputs": [],
   "source": [
    "## Convert NAICS to a string to make easier getting two digits.\n",
    "df['NAICS'] = df['NAICS'].astype(str)\n",
    "\n",
    "## Get only first two digits of NAICS, an convert it back to integer.\n",
    "def NAICS_conversion(naics_string):\n",
    "    return int(naics_string[:2])\n",
    "\n",
    "df['NAICS_i'] = df['NAICS'].apply(NAICS_conversion).astype(int)"
   ]
  },
  {
   "cell_type": "code",
   "execution_count": 8,
   "metadata": {},
   "outputs": [
    {
     "data": {
      "text/plain": [
       "NAICS_i\n",
       "0     201667\n",
       "44     84567\n",
       "81     72395\n",
       "54     67922\n",
       "72     67511\n",
       "Name: count, dtype: int64"
      ]
     },
     "execution_count": 8,
     "metadata": {},
     "output_type": "execute_result"
    }
   ],
   "source": [
    "df['NAICS_i'].value_counts().head(5)"
   ]
  },
  {
   "cell_type": "code",
   "execution_count": 9,
   "metadata": {},
   "outputs": [],
   "source": [
    "# We are going to create an array of features to be considered in the model.\n",
    "features = ['NAICS_i']"
   ]
  },
  {
   "cell_type": "markdown",
   "metadata": {},
   "source": [
    "### Term\n",
    "We will use term in months as a numerical feature"
   ]
  },
  {
   "cell_type": "code",
   "execution_count": 10,
   "metadata": {},
   "outputs": [],
   "source": [
    "# Term gets directly used as a numerical feature.\n",
    "features.append('Term')"
   ]
  },
  {
   "cell_type": "markdown",
   "metadata": {},
   "source": [
    "### NewExist\n",
    "We will change it to isNewBusiness, which is 1 when the company is of new creation."
   ]
  },
  {
   "cell_type": "code",
   "execution_count": 11,
   "metadata": {},
   "outputs": [
    {
     "data": {
      "text/plain": [
       "NewExist\n",
       "1.0    643446\n",
       "2.0    252559\n",
       "Name: count, dtype: int64"
      ]
     },
     "execution_count": 11,
     "metadata": {},
     "output_type": "execute_result"
    }
   ],
   "source": [
    "# NewExist has samples with value 0.0 and nulls. Let's drop these.\n",
    "df = df[(df['NewExist'] != 0) & (df['NewExist'].notnull())]\n",
    "\n",
    "df['NewExist'].value_counts()"
   ]
  },
  {
   "cell_type": "code",
   "execution_count": 12,
   "metadata": {},
   "outputs": [
    {
     "data": {
      "text/plain": [
       "count    896005.000000\n",
       "mean          0.281872\n",
       "std           0.449912\n",
       "min           0.000000\n",
       "25%           0.000000\n",
       "50%           0.000000\n",
       "75%           1.000000\n",
       "max           1.000000\n",
       "Name: isNewBusiness, dtype: float64"
      ]
     },
     "execution_count": 12,
     "metadata": {},
     "output_type": "execute_result"
    }
   ],
   "source": [
    "# Make a column called NewBusiness, which is 0 when NewExist is 1 and 1 when it's 2.\n",
    "\n",
    "df['isNewBusiness'] = df['NewExist'] - 1\n",
    "df['isNewBusiness'].describe()"
   ]
  },
  {
   "cell_type": "code",
   "execution_count": 13,
   "metadata": {},
   "outputs": [],
   "source": [
    "# Gets added as a feature\n",
    "features.append('isNewBusiness')"
   ]
  },
  {
   "cell_type": "markdown",
   "metadata": {},
   "source": [
    "### FranchiseCode\n",
    "For now, we will use it as isFranchise, being 1 when a business is a franchise and 0 otherwise."
   ]
  },
  {
   "cell_type": "code",
   "execution_count": 14,
   "metadata": {},
   "outputs": [],
   "source": [
    "# Function to create the 'isFranchise' column\n",
    "def is_franchise(code):\n",
    "    return 0 if code in [0, 1] else 1\n",
    "\n",
    "df['isFranchise'] = df['FranchiseCode'].apply(is_franchise)"
   ]
  },
  {
   "cell_type": "code",
   "execution_count": 15,
   "metadata": {},
   "outputs": [
    {
     "data": {
      "text/plain": [
       "count    896005.000000\n",
       "mean          0.057647\n",
       "std           0.233075\n",
       "min           0.000000\n",
       "25%           0.000000\n",
       "50%           0.000000\n",
       "75%           0.000000\n",
       "max           1.000000\n",
       "Name: isFranchise, dtype: float64"
      ]
     },
     "execution_count": 15,
     "metadata": {},
     "output_type": "execute_result"
    }
   ],
   "source": [
    "df['isFranchise'].describe()"
   ]
  },
  {
   "cell_type": "code",
   "execution_count": 16,
   "metadata": {},
   "outputs": [],
   "source": [
    "# Gets added to our features\n",
    "features.append('isFranchise')"
   ]
  },
  {
   "cell_type": "markdown",
   "metadata": {},
   "source": [
    "### UrbanRural\n",
    "Each of the three options of UrbanRural (0, 1 and 2) are considered as valid inputs."
   ]
  },
  {
   "cell_type": "code",
   "execution_count": 17,
   "metadata": {},
   "outputs": [
    {
     "data": {
      "text/plain": [
       "count     896005\n",
       "unique         3\n",
       "top            1\n",
       "freq      468811\n",
       "Name: UrbanRural, dtype: object"
      ]
     },
     "execution_count": 17,
     "metadata": {},
     "output_type": "execute_result"
    }
   ],
   "source": [
    "df['UrbanRural'] = df['UrbanRural'].astype(str)\n",
    "df['UrbanRural'].describe()"
   ]
  },
  {
   "cell_type": "code",
   "execution_count": 18,
   "metadata": {},
   "outputs": [],
   "source": [
    "# Gets added to our features\n",
    "features.append('UrbanRural')"
   ]
  },
  {
   "cell_type": "markdown",
   "metadata": {},
   "source": [
    "### RevLineCr\n",
    "We will reduce it to 1, if it is a Revolving Line of Credit, or 0 otherwise."
   ]
  },
  {
   "cell_type": "code",
   "execution_count": 19,
   "metadata": {},
   "outputs": [
    {
     "data": {
      "text/plain": [
       "RevLineCr\n",
       "N    418229\n",
       "0    257375\n",
       "Y    200588\n",
       "T     15232\n",
       "1        22\n",
       "R        14\n",
       "`        11\n",
       "2         6\n",
       "C         2\n",
       "3         1\n",
       ",         1\n",
       "7         1\n",
       "A         1\n",
       "5         1\n",
       ".         1\n",
       "4         1\n",
       "-         1\n",
       "Q         1\n",
       "Name: count, dtype: int64"
      ]
     },
     "execution_count": 19,
     "metadata": {},
     "output_type": "execute_result"
    }
   ],
   "source": [
    "df['RevLineCr'].value_counts()"
   ]
  },
  {
   "cell_type": "code",
   "execution_count": 20,
   "metadata": {},
   "outputs": [],
   "source": [
    "# A lot of the possible values are junk. We assume that 0 and N are equivalent and drop the rest of outliers.\n",
    "df['RevLineCr'] = df['RevLineCr'].replace('N', '0')\n",
    "df['RevLineCr'] = df['RevLineCr'].replace('0', 0)\n",
    "df['RevLineCr'] = df['RevLineCr'].replace('Y', 1)"
   ]
  },
  {
   "cell_type": "code",
   "execution_count": 21,
   "metadata": {},
   "outputs": [],
   "source": [
    "df = df[df['RevLineCr'].isin([0, 1])]\n",
    "df['RevLineCr'] = df['RevLineCr'].astype(int)"
   ]
  },
  {
   "cell_type": "code",
   "execution_count": 22,
   "metadata": {},
   "outputs": [
    {
     "data": {
      "text/plain": [
       "count    876192.000000\n",
       "mean          0.228932\n",
       "std           0.420145\n",
       "min           0.000000\n",
       "25%           0.000000\n",
       "50%           0.000000\n",
       "75%           0.000000\n",
       "max           1.000000\n",
       "Name: RevLineCr, dtype: float64"
      ]
     },
     "execution_count": 22,
     "metadata": {},
     "output_type": "execute_result"
    }
   ],
   "source": [
    "df['RevLineCr'].describe()"
   ]
  },
  {
   "cell_type": "code",
   "execution_count": 23,
   "metadata": {},
   "outputs": [],
   "source": [
    "# Gets added to our features\n",
    "features.append('RevLineCr')"
   ]
  },
  {
   "cell_type": "markdown",
   "metadata": {},
   "source": [
    "### LowDoc\n",
    "Similarly, will be 1 if the loan is part of the LowDoc program and 0 otherwise."
   ]
  },
  {
   "cell_type": "code",
   "execution_count": 24,
   "metadata": {},
   "outputs": [
    {
     "data": {
      "text/plain": [
       "LowDoc\n",
       "N    762649\n",
       "Y    107865\n",
       "0      1238\n",
       "C       752\n",
       "S       599\n",
       "A       491\n",
       "R        73\n",
       "1         1\n",
       "Name: count, dtype: int64"
      ]
     },
     "execution_count": 24,
     "metadata": {},
     "output_type": "execute_result"
    }
   ],
   "source": [
    "df['LowDoc'].value_counts()"
   ]
  },
  {
   "cell_type": "code",
   "execution_count": 25,
   "metadata": {},
   "outputs": [],
   "source": [
    "# All values which are not N or Y get dropped.\n",
    "df['LowDoc'] = df['LowDoc'].replace('N', 0)\n",
    "df['LowDoc'] = df['LowDoc'].replace('Y', 1)"
   ]
  },
  {
   "cell_type": "code",
   "execution_count": 26,
   "metadata": {},
   "outputs": [],
   "source": [
    "df = df[df['LowDoc'].isin([0, 1])]\n",
    "df['LowDoc'] = df['LowDoc'].astype(int)"
   ]
  },
  {
   "cell_type": "code",
   "execution_count": 27,
   "metadata": {},
   "outputs": [
    {
     "data": {
      "text/plain": [
       "count    870514.000000\n",
       "mean          0.123910\n",
       "std           0.329479\n",
       "min           0.000000\n",
       "25%           0.000000\n",
       "50%           0.000000\n",
       "75%           0.000000\n",
       "max           1.000000\n",
       "Name: LowDoc, dtype: float64"
      ]
     },
     "execution_count": 27,
     "metadata": {},
     "output_type": "execute_result"
    }
   ],
   "source": [
    "df['LowDoc'].describe()"
   ]
  },
  {
   "cell_type": "code",
   "execution_count": 28,
   "metadata": {},
   "outputs": [],
   "source": [
    "features.append('LowDoc')"
   ]
  },
  {
   "cell_type": "markdown",
   "metadata": {},
   "source": [
    "### GrAppv\n",
    "The size of the loan will be used as a feature after being converted to float numbers."
   ]
  },
  {
   "cell_type": "code",
   "execution_count": 29,
   "metadata": {},
   "outputs": [],
   "source": [
    "#Parse dollar values to float value\n",
    "def dollar_to_float(dollar_string: str):\n",
    "    return float(dollar_string.replace('$','').replace(',',''))"
   ]
  },
  {
   "cell_type": "code",
   "execution_count": 30,
   "metadata": {},
   "outputs": [],
   "source": [
    "df['GrAppv'] = df['GrAppv'].apply(dollar_to_float)"
   ]
  },
  {
   "cell_type": "code",
   "execution_count": 31,
   "metadata": {},
   "outputs": [
    {
     "data": {
      "text/plain": [
       "count    8.705140e+05\n",
       "mean     1.951101e+05\n",
       "std      2.843112e+05\n",
       "min      1.000000e+03\n",
       "25%      3.500000e+04\n",
       "50%      9.400000e+04\n",
       "75%      2.300000e+05\n",
       "max      5.000000e+06\n",
       "Name: GrAppv, dtype: float64"
      ]
     },
     "execution_count": 31,
     "metadata": {},
     "output_type": "execute_result"
    }
   ],
   "source": [
    "df['GrAppv'].describe()"
   ]
  },
  {
   "cell_type": "code",
   "execution_count": 32,
   "metadata": {},
   "outputs": [],
   "source": [
    "# Gets added to our features\n",
    "features.append('GrAppv')"
   ]
  },
  {
   "cell_type": "markdown",
   "metadata": {},
   "source": [
    "### SBA_Appv (SBARatio)\n",
    "As SBARatio is a product of GrAppv and SBA_Appv, there is no need in keeping all three. We will stick to SBARatio and GrAppv."
   ]
  },
  {
   "cell_type": "code",
   "execution_count": 33,
   "metadata": {},
   "outputs": [],
   "source": [
    "# Convert SBA_Appv to float numbers\n",
    "df['SBA_Appv'] = df['SBA_Appv'].apply(dollar_to_float)"
   ]
  },
  {
   "cell_type": "code",
   "execution_count": 34,
   "metadata": {},
   "outputs": [],
   "source": [
    "# Compute the ratio as the division between the two.\n",
    "df['SBARatio'] = df['SBA_Appv'] / df['GrAppv']"
   ]
  },
  {
   "cell_type": "code",
   "execution_count": 35,
   "metadata": {},
   "outputs": [
    {
     "data": {
      "text/plain": [
       "count    870514.000000\n",
       "mean          0.711526\n",
       "std           0.173216\n",
       "min           0.028140\n",
       "25%           0.500000\n",
       "50%           0.750000\n",
       "75%           0.850000\n",
       "max           1.000000\n",
       "Name: SBARatio, dtype: float64"
      ]
     },
     "execution_count": 35,
     "metadata": {},
     "output_type": "execute_result"
    }
   ],
   "source": [
    "df['SBARatio'].describe()"
   ]
  },
  {
   "cell_type": "markdown",
   "metadata": {},
   "source": [
    "###"
   ]
  },
  {
   "cell_type": "code",
   "execution_count": 36,
   "metadata": {},
   "outputs": [],
   "source": [
    "# Gets added to our features\n",
    "features.append('SBARatio')"
   ]
  },
  {
   "cell_type": "code",
   "execution_count": 37,
   "metadata": {},
   "outputs": [
    {
     "data": {
      "text/html": [
       "<div>\n",
       "<style scoped>\n",
       "    .dataframe tbody tr th:only-of-type {\n",
       "        vertical-align: middle;\n",
       "    }\n",
       "\n",
       "    .dataframe tbody tr th {\n",
       "        vertical-align: top;\n",
       "    }\n",
       "\n",
       "    .dataframe thead th {\n",
       "        text-align: right;\n",
       "    }\n",
       "</style>\n",
       "<table border=\"1\" class=\"dataframe\">\n",
       "  <thead>\n",
       "    <tr style=\"text-align: right;\">\n",
       "      <th></th>\n",
       "      <th>NAICS_i</th>\n",
       "      <th>Term</th>\n",
       "      <th>isNewBusiness</th>\n",
       "      <th>isFranchise</th>\n",
       "      <th>RevLineCr</th>\n",
       "      <th>LowDoc</th>\n",
       "      <th>GrAppv</th>\n",
       "      <th>SBARatio</th>\n",
       "    </tr>\n",
       "  </thead>\n",
       "  <tbody>\n",
       "    <tr>\n",
       "      <th>count</th>\n",
       "      <td>870514.000000</td>\n",
       "      <td>870514.000000</td>\n",
       "      <td>870514.000000</td>\n",
       "      <td>870514.000000</td>\n",
       "      <td>870514.000000</td>\n",
       "      <td>870514.000000</td>\n",
       "      <td>8.705140e+05</td>\n",
       "      <td>870514.000000</td>\n",
       "    </tr>\n",
       "    <tr>\n",
       "      <th>mean</th>\n",
       "      <td>39.514401</td>\n",
       "      <td>111.508946</td>\n",
       "      <td>0.282303</td>\n",
       "      <td>0.058415</td>\n",
       "      <td>0.229363</td>\n",
       "      <td>0.123910</td>\n",
       "      <td>1.951101e+05</td>\n",
       "      <td>0.711526</td>\n",
       "    </tr>\n",
       "    <tr>\n",
       "      <th>std</th>\n",
       "      <td>26.364679</td>\n",
       "      <td>79.177488</td>\n",
       "      <td>0.450120</td>\n",
       "      <td>0.234526</td>\n",
       "      <td>0.420424</td>\n",
       "      <td>0.329479</td>\n",
       "      <td>2.843112e+05</td>\n",
       "      <td>0.173216</td>\n",
       "    </tr>\n",
       "    <tr>\n",
       "      <th>min</th>\n",
       "      <td>0.000000</td>\n",
       "      <td>0.000000</td>\n",
       "      <td>0.000000</td>\n",
       "      <td>0.000000</td>\n",
       "      <td>0.000000</td>\n",
       "      <td>0.000000</td>\n",
       "      <td>1.000000e+03</td>\n",
       "      <td>0.028140</td>\n",
       "    </tr>\n",
       "    <tr>\n",
       "      <th>25%</th>\n",
       "      <td>23.000000</td>\n",
       "      <td>60.000000</td>\n",
       "      <td>0.000000</td>\n",
       "      <td>0.000000</td>\n",
       "      <td>0.000000</td>\n",
       "      <td>0.000000</td>\n",
       "      <td>3.500000e+04</td>\n",
       "      <td>0.500000</td>\n",
       "    </tr>\n",
       "    <tr>\n",
       "      <th>50%</th>\n",
       "      <td>44.000000</td>\n",
       "      <td>84.000000</td>\n",
       "      <td>0.000000</td>\n",
       "      <td>0.000000</td>\n",
       "      <td>0.000000</td>\n",
       "      <td>0.000000</td>\n",
       "      <td>9.400000e+04</td>\n",
       "      <td>0.750000</td>\n",
       "    </tr>\n",
       "    <tr>\n",
       "      <th>75%</th>\n",
       "      <td>56.000000</td>\n",
       "      <td>120.000000</td>\n",
       "      <td>1.000000</td>\n",
       "      <td>0.000000</td>\n",
       "      <td>0.000000</td>\n",
       "      <td>0.000000</td>\n",
       "      <td>2.300000e+05</td>\n",
       "      <td>0.850000</td>\n",
       "    </tr>\n",
       "    <tr>\n",
       "      <th>max</th>\n",
       "      <td>92.000000</td>\n",
       "      <td>569.000000</td>\n",
       "      <td>1.000000</td>\n",
       "      <td>1.000000</td>\n",
       "      <td>1.000000</td>\n",
       "      <td>1.000000</td>\n",
       "      <td>5.000000e+06</td>\n",
       "      <td>1.000000</td>\n",
       "    </tr>\n",
       "  </tbody>\n",
       "</table>\n",
       "</div>"
      ],
      "text/plain": [
       "             NAICS_i           Term  isNewBusiness    isFranchise  \\\n",
       "count  870514.000000  870514.000000  870514.000000  870514.000000   \n",
       "mean       39.514401     111.508946       0.282303       0.058415   \n",
       "std        26.364679      79.177488       0.450120       0.234526   \n",
       "min         0.000000       0.000000       0.000000       0.000000   \n",
       "25%        23.000000      60.000000       0.000000       0.000000   \n",
       "50%        44.000000      84.000000       0.000000       0.000000   \n",
       "75%        56.000000     120.000000       1.000000       0.000000   \n",
       "max        92.000000     569.000000       1.000000       1.000000   \n",
       "\n",
       "           RevLineCr         LowDoc        GrAppv       SBARatio  \n",
       "count  870514.000000  870514.000000  8.705140e+05  870514.000000  \n",
       "mean        0.229363       0.123910  1.951101e+05       0.711526  \n",
       "std         0.420424       0.329479  2.843112e+05       0.173216  \n",
       "min         0.000000       0.000000  1.000000e+03       0.028140  \n",
       "25%         0.000000       0.000000  3.500000e+04       0.500000  \n",
       "50%         0.000000       0.000000  9.400000e+04       0.750000  \n",
       "75%         0.000000       0.000000  2.300000e+05       0.850000  \n",
       "max         1.000000       1.000000  5.000000e+06       1.000000  "
      ]
     },
     "execution_count": 37,
     "metadata": {},
     "output_type": "execute_result"
    }
   ],
   "source": [
    "df[features].describe()"
   ]
  },
  {
   "cell_type": "markdown",
   "metadata": {},
   "source": [
    "These are the features used in our first model. As we will use tree-based models, there is no need for normalization. Is important to see that the count is the same in all of them, meaning that we have succesfully got rid of all the nulls and outliers. \\\n",
    "All of them are numerical by now, and some will have to get encoded before our model can be trained."
   ]
  },
  {
   "cell_type": "code",
   "execution_count": 38,
   "metadata": {},
   "outputs": [
    {
     "name": "stdout",
     "output_type": "stream",
     "text": [
      "Our ratio of target variable is 0.1714619179013778 \n",
      "The baseline performance of a trivial model is 82.85%!\n"
     ]
    }
   ],
   "source": [
    "print(f'Our ratio of target variable is {df[target].mean()} ')\n",
    "print(f\"The baseline performance of a trivial model is {(1-df[target].mean())*100:.2f}%!\")"
   ]
  },
  {
   "cell_type": "markdown",
   "metadata": {},
   "source": [
    "This means that a model that always predicted that a loan will not default will result in a performance of almost 83%! If our model performs close to that number it would be considered useless."
   ]
  },
  {
   "cell_type": "code",
   "execution_count": 39,
   "metadata": {},
   "outputs": [
    {
     "name": "stdout",
     "output_type": "stream",
     "text": [
      "Our trivial model has 82.85% accuracy!\n",
      "However, it has 0.00% F1 score. (0 recall and 0 precision)\n"
     ]
    }
   ],
   "source": [
    "# This trivial model always identifies a loan as paid in full. Let's score it.\n",
    "def trivial_model(X: pd.DataFrame):\n",
    "    return np.zeros((len(X), 1))\n",
    "\n",
    "from sklearn.metrics import accuracy_score, f1_score\n",
    "trivial_acc = accuracy_score(df[target], trivial_model(df[features]))\n",
    "trivial_f1 = f1_score(df[target], trivial_model(df[features]))\n",
    "\n",
    "print(f\"Our trivial model has {trivial_acc*100:.2f}% accuracy!\")\n",
    "print(f\"However, it has {trivial_f1*100:.2f}% F1 score. (0 recall and 0 precision)\")\n"
   ]
  },
  {
   "cell_type": "markdown",
   "metadata": {},
   "source": [
    "Therefore, accuracy won't be used as a metric. We will prefer others like recall, precision or F1!"
   ]
  },
  {
   "cell_type": "markdown",
   "metadata": {},
   "source": [
    "## Decision trees for importance analysis"
   ]
  },
  {
   "cell_type": "markdown",
   "metadata": {},
   "source": [
    "### Encoding"
   ]
  },
  {
   "cell_type": "code",
   "execution_count": 40,
   "metadata": {},
   "outputs": [
    {
     "data": {
      "text/html": [
       "<div>\n",
       "<style scoped>\n",
       "    .dataframe tbody tr th:only-of-type {\n",
       "        vertical-align: middle;\n",
       "    }\n",
       "\n",
       "    .dataframe tbody tr th {\n",
       "        vertical-align: top;\n",
       "    }\n",
       "\n",
       "    .dataframe thead th {\n",
       "        text-align: right;\n",
       "    }\n",
       "</style>\n",
       "<table border=\"1\" class=\"dataframe\">\n",
       "  <thead>\n",
       "    <tr style=\"text-align: right;\">\n",
       "      <th></th>\n",
       "      <th>NAICS_i</th>\n",
       "      <th>Term</th>\n",
       "      <th>isNewBusiness</th>\n",
       "      <th>isFranchise</th>\n",
       "      <th>UrbanRural</th>\n",
       "      <th>RevLineCr</th>\n",
       "      <th>LowDoc</th>\n",
       "      <th>GrAppv</th>\n",
       "      <th>SBARatio</th>\n",
       "    </tr>\n",
       "  </thead>\n",
       "  <tbody>\n",
       "    <tr>\n",
       "      <th>0</th>\n",
       "      <td>45</td>\n",
       "      <td>84</td>\n",
       "      <td>1.0</td>\n",
       "      <td>0</td>\n",
       "      <td>0</td>\n",
       "      <td>0</td>\n",
       "      <td>1</td>\n",
       "      <td>60000.0</td>\n",
       "      <td>0.8</td>\n",
       "    </tr>\n",
       "  </tbody>\n",
       "</table>\n",
       "</div>"
      ],
      "text/plain": [
       "   NAICS_i  Term  isNewBusiness  isFranchise UrbanRural  RevLineCr  LowDoc  \\\n",
       "0       45    84            1.0            0          0          0       1   \n",
       "\n",
       "    GrAppv  SBARatio  \n",
       "0  60000.0       0.8  "
      ]
     },
     "execution_count": 40,
     "metadata": {},
     "output_type": "execute_result"
    }
   ],
   "source": [
    "df[features].head(1)"
   ]
  },
  {
   "cell_type": "markdown",
   "metadata": {},
   "source": [
    "Even though all of our variables seem numerical right now, some of them have to be encoded as they have cathegorical meaning. Specifically, NAICS_i and UrbanRural don't have numerical meaning."
   ]
  },
  {
   "cell_type": "code",
   "execution_count": 41,
   "metadata": {},
   "outputs": [
    {
     "data": {
      "text/html": [
       "<div>\n",
       "<style scoped>\n",
       "    .dataframe tbody tr th:only-of-type {\n",
       "        vertical-align: middle;\n",
       "    }\n",
       "\n",
       "    .dataframe tbody tr th {\n",
       "        vertical-align: top;\n",
       "    }\n",
       "\n",
       "    .dataframe thead th {\n",
       "        text-align: right;\n",
       "    }\n",
       "</style>\n",
       "<table border=\"1\" class=\"dataframe\">\n",
       "  <thead>\n",
       "    <tr style=\"text-align: right;\">\n",
       "      <th></th>\n",
       "      <th>Term</th>\n",
       "      <th>isNewBusiness</th>\n",
       "      <th>isFranchise</th>\n",
       "      <th>RevLineCr</th>\n",
       "      <th>LowDoc</th>\n",
       "      <th>GrAppv</th>\n",
       "      <th>SBARatio</th>\n",
       "      <th>NAICS_i_0</th>\n",
       "      <th>NAICS_i_11</th>\n",
       "      <th>NAICS_i_21</th>\n",
       "      <th>...</th>\n",
       "      <th>NAICS_i_56</th>\n",
       "      <th>NAICS_i_61</th>\n",
       "      <th>NAICS_i_62</th>\n",
       "      <th>NAICS_i_71</th>\n",
       "      <th>NAICS_i_72</th>\n",
       "      <th>NAICS_i_81</th>\n",
       "      <th>NAICS_i_92</th>\n",
       "      <th>UrbanRural_0</th>\n",
       "      <th>UrbanRural_1</th>\n",
       "      <th>UrbanRural_2</th>\n",
       "    </tr>\n",
       "  </thead>\n",
       "  <tbody>\n",
       "    <tr>\n",
       "      <th>0</th>\n",
       "      <td>84</td>\n",
       "      <td>1.0</td>\n",
       "      <td>0</td>\n",
       "      <td>0</td>\n",
       "      <td>1</td>\n",
       "      <td>60000.0</td>\n",
       "      <td>0.8</td>\n",
       "      <td>False</td>\n",
       "      <td>False</td>\n",
       "      <td>False</td>\n",
       "      <td>...</td>\n",
       "      <td>False</td>\n",
       "      <td>False</td>\n",
       "      <td>False</td>\n",
       "      <td>False</td>\n",
       "      <td>False</td>\n",
       "      <td>False</td>\n",
       "      <td>False</td>\n",
       "      <td>True</td>\n",
       "      <td>False</td>\n",
       "      <td>False</td>\n",
       "    </tr>\n",
       "  </tbody>\n",
       "</table>\n",
       "<p>1 rows × 35 columns</p>\n",
       "</div>"
      ],
      "text/plain": [
       "   Term  isNewBusiness  isFranchise  RevLineCr  LowDoc   GrAppv  SBARatio  \\\n",
       "0    84            1.0            0          0       1  60000.0       0.8   \n",
       "\n",
       "   NAICS_i_0  NAICS_i_11  NAICS_i_21  ...  NAICS_i_56  NAICS_i_61  NAICS_i_62  \\\n",
       "0      False       False       False  ...       False       False       False   \n",
       "\n",
       "   NAICS_i_71  NAICS_i_72  NAICS_i_81  NAICS_i_92  UrbanRural_0  UrbanRural_1  \\\n",
       "0       False       False       False       False          True         False   \n",
       "\n",
       "   UrbanRural_2  \n",
       "0         False  \n",
       "\n",
       "[1 rows x 35 columns]"
      ]
     },
     "execution_count": 41,
     "metadata": {},
     "output_type": "execute_result"
    }
   ],
   "source": [
    "# Encode categorical features. We will use one-hot encoding, as the number of possibilities are manageable.\n",
    "\n",
    "cat_variables = [\n",
    "    'NAICS_i',\n",
    "    'UrbanRural'\n",
    "]\n",
    "\n",
    "df_encoded = df[features]\n",
    "\n",
    "df_encoded = pd.get_dummies(\n",
    "    data = df_encoded,\n",
    "    prefix = cat_variables,\n",
    "    columns = cat_variables\n",
    ")\n",
    "\n",
    "df_encoded.head(1)"
   ]
  },
  {
   "cell_type": "markdown",
   "metadata": {},
   "source": [
    "Using pandas get_dummies, our one-hot encoded features take boolean values instead of integers. It won't matter for tree-based models, but if we were to train a neural network or regression model this would be problematic.\\\n",
    "In that case, we will use scikit-learn's one-hot encoder."
   ]
  },
  {
   "cell_type": "markdown",
   "metadata": {},
   "source": [
    "### Splitting"
   ]
  },
  {
   "cell_type": "code",
   "execution_count": 42,
   "metadata": {},
   "outputs": [
    {
     "name": "stdout",
     "output_type": "stream",
     "text": [
      "['Term', 'isNewBusiness', 'isFranchise', 'RevLineCr', 'LowDoc', 'GrAppv', 'SBARatio', 'NAICS_i_0', 'NAICS_i_11', 'NAICS_i_21', 'NAICS_i_22', 'NAICS_i_23', 'NAICS_i_31', 'NAICS_i_32', 'NAICS_i_33', 'NAICS_i_42', 'NAICS_i_44', 'NAICS_i_45', 'NAICS_i_48', 'NAICS_i_49', 'NAICS_i_51', 'NAICS_i_52', 'NAICS_i_53', 'NAICS_i_54', 'NAICS_i_55', 'NAICS_i_56', 'NAICS_i_61', 'NAICS_i_62', 'NAICS_i_71', 'NAICS_i_72', 'NAICS_i_81', 'NAICS_i_92', 'UrbanRural_0', 'UrbanRural_1', 'UrbanRural_2']\n"
     ]
    }
   ],
   "source": [
    "# Let's choose out definitive list of encoded features!\n",
    "features_encoded = [feature for feature in df_encoded.columns if feature not in target]\n",
    "print(features_encoded)"
   ]
  },
  {
   "cell_type": "code",
   "execution_count": 43,
   "metadata": {},
   "outputs": [],
   "source": [
    "from sklearn.model_selection import train_test_split"
   ]
  },
  {
   "cell_type": "code",
   "execution_count": 44,
   "metadata": {},
   "outputs": [
    {
     "name": "stdout",
     "output_type": "stream",
     "text": [
      "X -- Train shape: (652885, 35), CV: (108814, 35), test: (108815, 35)\n",
      "y -- Train shape: (652885,), CV: (108814,), test: (108815,)\n"
     ]
    }
   ],
   "source": [
    "# 75% will be for training. 12.5% for cross-validation and hyperparameter tuning and 12.5% for model evaluation.\n",
    "X_train, X_, y_train, y_ = train_test_split(df_encoded[features_encoded], df[target], train_size=.75)\n",
    "X_cv, X_test, y_cv, y_test = train_test_split(X_, y_, train_size=.5)\n",
    "\n",
    "print(f\"X -- Train shape: {X_train.shape}, CV: {X_cv.shape}, test: {X_test.shape}\")\n",
    "print(f\"y -- Train shape: {y_train.shape}, CV: {y_cv.shape}, test: {y_test.shape}\")"
   ]
  },
  {
   "cell_type": "markdown",
   "metadata": {},
   "source": [
    "### Single decision tree\n",
    "For explainability purposes, and to be able to extract feature importances, we will start by training a single decision tree. Keep in mind that the objective of this model is to offer some insight on which features are having a bigger impact in our model, and not to make real predictions.\\\n",
    "Therefore, we will tune hyperparameters by hand, and plot the training and cross-validation evaluations for each hyperparameter.\\\n",
    "In this way, we will obtain:\n",
    "1. A representation of which hyperparameters are more promissing for our later models.\n",
    "2. Information regarding the weight of features in our target distribution.\n",
    "3. A way to promtly detect high bias or high variance in our model."
   ]
  },
  {
   "cell_type": "code",
   "execution_count": 45,
   "metadata": {},
   "outputs": [],
   "source": [
    "# Choose hyperparameters to be tried. We will tune by hand the minimum number of samples in a leaf to do another split and the maximum depth\n",
    "# to which the tree can reach.\n",
    "\n",
    "min_samples_list = [20, 50, 100, 200, 500, 1000, 10000]\n",
    "max_depths_list = [1,2, 3, 4, 8, 16, 32, 64, None]"
   ]
  },
  {
   "cell_type": "code",
   "execution_count": 46,
   "metadata": {},
   "outputs": [
    {
     "name": "stdout",
     "output_type": "stream",
     "text": [
      "Optimum minimum samples to split is 500. CV Recall: 0.8275042444821732\n"
     ]
    },
    {
     "data": {
      "text/plain": [
       "<matplotlib.legend.Legend at 0x28742bb50>"
      ]
     },
     "execution_count": 46,
     "metadata": {},
     "output_type": "execute_result"
    },
    {
     "data": {
      "image/png": "[encoded data removed]",
      "text/plain": [
       "<Figure size 640x480 with 1 Axes>"
      ]
     },
     "metadata": {},
     "output_type": "display_data"
    }
   ],
   "source": [
    "# Recall score will be used as a metric, as the cost of false negatives (defaulted loans which we fail to detect) is\n",
    "# higher than that of false positives (paid in full loans we flag as default). \n",
    "\n",
    "from sklearn.tree import DecisionTreeClassifier # Single tree\n",
    "from sklearn.metrics import recall_score\n",
    "\n",
    "# Recall array for latter plotting.\n",
    "recalls = {\n",
    "    \"train\": [],\n",
    "    \"cv\": []\n",
    "}\n",
    "\n",
    "# Iterate over the min samples list.\n",
    "for min_sample in min_samples_list:\n",
    "\n",
    "    # Train a model for each one.\n",
    "    model = DecisionTreeClassifier(min_samples_split=min_sample).fit(X_train, y_train)\n",
    "\n",
    "    # Predictions on train and cross-validation sets.\n",
    "    yhat_train = model.predict(X_train)\n",
    "    yhat_cv = model.predict(X_cv)\n",
    "\n",
    "    # Append the score to the recalls array.\n",
    "    recalls[\"train\"].append(recall_score(yhat_train, y_train))\n",
    "    recalls[\"cv\"].append(recall_score(yhat_cv, y_cv))\n",
    "\n",
    "optimum_min_samples = min_samples_list[np.argmax(recalls['cv'])]\n",
    "print(f\"Optimum minimum samples to split is {optimum_min_samples}. CV Recall: {np.max(recalls['cv'])}\")\n",
    "\n",
    "plt.title('Train and Validation recall scoring')\n",
    "plt.xlabel('min_samples')\n",
    "plt.ylabel('recall')\n",
    "plt.xticks(ticks = range(len(min_samples_list )),labels=min_samples_list)\n",
    "plt.plot(recalls[\"train\"])\n",
    "plt.plot(recalls[\"cv\"])\n",
    "plt.legend(['Train','Validation'])"
   ]
  },
  {
   "cell_type": "markdown",
   "metadata": {},
   "source": [
    "It is possible to see how a smaller minimum of samples to split gets good train recall toguether with bad validation recall. That's overfitting, or high variance! In our optimum, we get a better variance, with both train and cv performing similarly good. That means that our model generalizes quite well to new data."
   ]
  },
  {
   "cell_type": "code",
   "execution_count": 47,
   "metadata": {},
   "outputs": [
    {
     "name": "stdout",
     "output_type": "stream",
     "text": [
      "Optimum maximum depth to stop is 16. CV Recall: 0.8115838594564919\n"
     ]
    },
    {
     "data": {
      "text/plain": [
       "<matplotlib.legend.Legend at 0x2b0a040d0>"
      ]
     },
     "execution_count": 47,
     "metadata": {},
     "output_type": "execute_result"
    },
    {
     "data": {
      "image/png": "[encoded data removed]",
      "text/plain": [
       "<Figure size 640x480 with 1 Axes>"
      ]
     },
     "metadata": {},
     "output_type": "display_data"
    }
   ],
   "source": [
    "# Recall array for latter plotting.\n",
    "recalls = {\n",
    "    \"train\": [],\n",
    "    \"cv\": []\n",
    "}\n",
    "\n",
    "# Iterate over the max depths list.\n",
    "for max_depth in max_depths_list:\n",
    "    \n",
    "    model = DecisionTreeClassifier(max_depth = max_depth).fit(X_train, y_train)\n",
    "\n",
    "    yhat_train = model.predict(X_train)\n",
    "    yhat_cv = model.predict(X_cv)\n",
    "\n",
    "    recalls[\"train\"].append(recall_score(yhat_train, y_train))\n",
    "    recalls[\"cv\"].append(recall_score(yhat_cv, y_cv))\n",
    "\n",
    "optimimum_max_depth = max_depths_list[np.argmax(recalls['cv'])]\n",
    "\n",
    "print(f\"Optimum maximum depth to stop is {optimimum_max_depth}. CV Recall: {np.max(recalls['cv'])}\")\n",
    "\n",
    "plt.title('Train and Validation recall scoring')\n",
    "plt.xlabel('max_depth')\n",
    "plt.ylabel('recall')\n",
    "plt.xticks(ticks = range(len(max_depths_list)),labels=max_depths_list)\n",
    "plt.plot(recalls[\"train\"])\n",
    "plt.plot(recalls[\"cv\"])\n",
    "plt.legend(['Train','Validation'])\n"
   ]
  },
  {
   "cell_type": "markdown",
   "metadata": {},
   "source": [
    "Similarly, if the depth of the tree is very big or unlimited, the model overfits. In our optimal, the model performs good with unseen data."
   ]
  },
  {
   "cell_type": "code",
   "execution_count": 48,
   "metadata": {},
   "outputs": [],
   "source": [
    "# Now let's pick both of these together and train a model!\n",
    "dtmodel = DecisionTreeClassifier(\n",
    "    min_samples_split=optimum_min_samples,\n",
    "    max_depth=optimimum_max_depth).fit(X_train, y_train)"
   ]
  },
  {
   "cell_type": "markdown",
   "metadata": {},
   "source": [
    "### Feature importance"
   ]
  },
  {
   "cell_type": "code",
   "execution_count": 50,
   "metadata": {},
   "outputs": [
    {
     "name": "stdout",
     "output_type": "stream",
     "text": [
      "<class 'numpy.ndarray'>\n"
     ]
    },
    {
     "data": {
      "image/png": "[encoded data removed]",
      "text/plain": [
       "<Figure size 1000x600 with 1 Axes>"
      ]
     },
     "metadata": {},
     "output_type": "display_data"
    }
   ],
   "source": [
    "# Get feature importances from the trained model\n",
    "importances = dtmodel.feature_importances_\n",
    "\n",
    "# Get indices of top 15 importances\n",
    "top_indices = np.argsort(importances)[::-1][:10]\n",
    "print(type(top_indices))\n",
    "top_importances = importances[top_indices]\n",
    "top_feature_names = np.array(features_encoded)[top_indices]\n",
    "\n",
    "# Plotting\n",
    "plt.figure(figsize=(10, 6))\n",
    "plt.barh(range(len(top_importances)), top_importances, align='center')\n",
    "plt.yticks(range(len(top_importances)), top_feature_names)\n",
    "plt.xlabel('Feature Importance')\n",
    "plt.title('Top 15 Feature Importances')\n",
    "plt.show()"
   ]
  },
  {
   "cell_type": "markdown",
   "metadata": {},
   "source": [
    "Here we can see that our model is mainly taking into account the term of the loan. As we discovered during exploration, shorter term loans are way more likely to default."
   ]
  },
  {
   "cell_type": "code",
   "execution_count": 52,
   "metadata": {},
   "outputs": [
    {
     "data": {
      "image/png": "[encoded data removed]",
      "text/plain": [
       "<Figure size 1200x800 with 1 Axes>"
      ]
     },
     "metadata": {},
     "output_type": "display_data"
    }
   ],
   "source": [
    "from sklearn.tree import plot_tree\n",
    "\n",
    "plt.figure(figsize=(12, 8))\n",
    "plot_tree(dtmodel, filled=True, feature_names=features_encoded, class_names=['Paid In Full', 'Default'], max_depth=2)\n",
    "plt.title(\"Decision Tree Visualization\")\n",
    "plt.show()"
   ]
  },
  {
   "cell_type": "markdown",
   "metadata": {},
   "source": [
    "## Scoring of the single tree. Confusion matrixes.\n",
    "To get a valuable score of our first tree, we will score it against totally unseen data, our X_test set. It has never been used yet, not even for picking hyperparameters. In this way we can see how our model would perform with totally new samples."
   ]
  },
  {
   "cell_type": "code",
   "execution_count": 53,
   "metadata": {},
   "outputs": [],
   "source": [
    "yhat_test = dtmodel.predict(X_test)"
   ]
  },
  {
   "cell_type": "code",
   "execution_count": 54,
   "metadata": {},
   "outputs": [
    {
     "name": "stdout",
     "output_type": "stream",
     "text": [
      "Our model has a test recall of 82.80%!\n"
     ]
    }
   ],
   "source": [
    "test_recall = recall_score(yhat_test, y_test)\n",
    "print(f\"Our model has a test recall of {test_recall*100:.2f}%!\")"
   ]
  },
  {
   "cell_type": "markdown",
   "metadata": {},
   "source": [
    "That's great! It is in line with both train and cross-validation recalls, meaning that our model is not overfitting. Now let's draw the test confusion matrix."
   ]
  },
  {
   "cell_type": "code",
   "execution_count": 55,
   "metadata": {},
   "outputs": [
    {
     "data": {
      "image/png": "[encoded data removed]",
      "text/plain": [
       "<Figure size 800x600 with 2 Axes>"
      ]
     },
     "metadata": {},
     "output_type": "display_data"
    }
   ],
   "source": [
    "from sklearn.metrics import confusion_matrix\n",
    "\n",
    "# Calculate the confusion matrix\n",
    "cm = confusion_matrix(y_test, yhat_test)\n",
    "\n",
    "# Create a heatmap using seaborn\n",
    "plt.figure(figsize=(8, 6))\n",
    "sns.heatmap(cm, annot=True, fmt=\"d\", cmap=\"Blues\",\n",
    "            xticklabels=['no', 'yes'], yticklabels=['no', 'yes'])\n",
    "plt.xlabel('Predicted Default')\n",
    "plt.ylabel('Actual Default')\n",
    "plt.title('Confusion Matrix')\n",
    "plt.show()\n"
   ]
  },
  {
   "cell_type": "markdown",
   "metadata": {},
   "source": [
    "That is actually quite good! We are spotting most of the defaults. However, we can perform even better in latter models.\\\n",
    " And for our whole data:"
   ]
  },
  {
   "cell_type": "code",
   "execution_count": 56,
   "metadata": {},
   "outputs": [
    {
     "name": "stdout",
     "output_type": "stream",
     "text": [
      "Overall recall 0.8330851814121151\n"
     ]
    },
    {
     "data": {
      "image/png": "[encoded data removed]",
      "text/plain": [
       "<Figure size 800x600 with 2 Axes>"
      ]
     },
     "metadata": {},
     "output_type": "display_data"
    }
   ],
   "source": [
    "# Calculate the confusion matrix\n",
    "yhat_total = dtmodel.predict(df_encoded[features_encoded])\n",
    "cm = confusion_matrix(df[target], yhat_total)\n",
    "\n",
    "print(f\"Overall recall {recall_score(yhat_total, df[target])}\")\n",
    "# Create a heatmap using seaborn\n",
    "plt.figure(figsize=(8, 6))\n",
    "sns.heatmap(cm, annot=True, fmt=\"d\", cmap=\"Blues\",\n",
    "            xticklabels=['no', 'yes'], yticklabels=['no', 'yes'])\n",
    "plt.xlabel('Predicted Default')\n",
    "plt.ylabel('Actual Default')\n",
    "plt.title('Confusion Matrix')\n",
    "plt.show()"
   ]
  },
  {
   "cell_type": "markdown",
   "metadata": {},
   "source": [
    "This is the confusion matrix of our first simple model in all the filtered data, a single decision tree. From now onwards, taking this as a baseline performance we will be more agressive in the hyperparameter optimization.\\\n",
    "We will also try other encodings of features, and feature engineer new ones to be as good as we can."
   ]
  },
  {
   "cell_type": "code",
   "execution_count": 57,
   "metadata": {},
   "outputs": [
    {
     "name": "stdout",
     "output_type": "stream",
     "text": [
      "CV recall: 0.8248638838475499\n"
     ]
    }
   ],
   "source": [
    "from xgboost import XGBClassifier\n",
    "\n",
    "xgbmodel = XGBClassifier(\n",
    "    objective=\"binary:logistic\",\n",
    "    eval_metric=\"aucpr\",\n",
    "    max_depth=16,\n",
    "    learning_rate=0.1,\n",
    "    n_estimators=500,\n",
    "    verbosity=2\n",
    ")\n",
    "\n",
    "xgbmodel.fit(X_train, y_train)\n",
    "\n",
    "yhat_cv = xgbmodel.predict(X_cv)\n",
    "\n",
    "print(f\"CV recall: {recall_score(yhat_cv, y_cv)}\")\n"
   ]
  },
  {
   "cell_type": "code",
   "execution_count": 58,
   "metadata": {},
   "outputs": [
    {
     "data": {
      "text/plain": [
       "0.8243533265559697"
      ]
     },
     "execution_count": 58,
     "metadata": {},
     "output_type": "execute_result"
    }
   ],
   "source": [
    "yhat_test = xgbmodel.predict(X_test)\n",
    "\n",
    "recall_score(yhat_test, y_test)"
   ]
  },
  {
   "cell_type": "code",
   "execution_count": 60,
   "metadata": {},
   "outputs": [
    {
     "name": "stdout",
     "output_type": "stream",
     "text": [
      "Overall recall 0.8926199054267057\n"
     ]
    },
    {
     "data": {
      "image/png": "[encoded data removed]",
      "text/plain": [
       "<Figure size 800x600 with 2 Axes>"
      ]
     },
     "metadata": {},
     "output_type": "display_data"
    }
   ],
   "source": [
    "# Calculate the confusion matrix\n",
    "yhat_total = xgbmodel.predict(df_encoded[features_encoded])\n",
    "cm = confusion_matrix(df[target], yhat_total)\n",
    "\n",
    "print(f\"Overall recall {recall_score(yhat_total, df[target])}\")\n",
    "# Create a heatmap using seaborn\n",
    "plt.figure(figsize=(8, 6))\n",
    "sns.heatmap(cm, annot=True, fmt=\"d\", cmap=\"Blues\",\n",
    "            xticklabels=['no', 'yes'], yticklabels=['no', 'yes'])\n",
    "plt.xlabel('Predicted Default')\n",
    "plt.ylabel('Actual Default')\n",
    "plt.title('Confusion Matrix')\n",
    "plt.show()"
   ]
  }
 ],
 "metadata": {
  "kernelspec": {
   "display_name": "Python 3",
   "language": "python",
   "name": "python3"
  },
  "language_info": {
   "codemirror_mode": {
    "name": "ipython",
    "version": 3
   },
   "file_extension": ".py",
   "mimetype": "text/x-python",
   "name": "python",
   "nbconvert_exporter": "python",
   "pygments_lexer": "ipython3",
   "version": "3.11.5"
  },
  "orig_nbformat": 4
 },
 "nbformat": 4,
 "nbformat_minor": 2
}
