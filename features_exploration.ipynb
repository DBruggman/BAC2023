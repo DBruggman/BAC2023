{
 "cells": [
  {
   "cell_type": "markdown",
   "metadata": {},
   "source": [
    "# Selected features"
   ]
  },
  {
   "cell_type": "code",
   "execution_count": 1,
   "metadata": {},
   "outputs": [],
   "source": [
    "import pandas as pd\n",
    "import matplotlib.pyplot as plt"
   ]
  },
  {
   "cell_type": "code",
   "execution_count": 2,
   "metadata": {},
   "outputs": [
    {
     "name": "stderr",
     "output_type": "stream",
     "text": [
      "/var/folders/41/hgg8f6_j1dj4y4mt0w22d8ym0000gn/T/ipykernel_17261/3878241928.py:1: DtypeWarning: Columns (9) have mixed types. Specify dtype option on import or set low_memory=False.\n",
      "  df = pd.read_csv('SBAnational.csv')\n"
     ]
    },
    {
     "data": {
      "text/plain": [
       "Index(['LoanNr_ChkDgt', 'Name', 'City', 'State', 'Zip', 'Bank', 'BankState',\n",
       "       'NAICS', 'ApprovalDate', 'ApprovalFY', 'Term', 'NoEmp', 'NewExist',\n",
       "       'CreateJob', 'RetainedJob', 'FranchiseCode', 'UrbanRural', 'RevLineCr',\n",
       "       'LowDoc', 'ChgOffDate', 'DisbursementDate', 'DisbursementGross',\n",
       "       'BalanceGross', 'MIS_Status', 'ChgOffPrinGr', 'GrAppv', 'SBA_Appv'],\n",
       "      dtype='object')"
      ]
     },
     "execution_count": 2,
     "metadata": {},
     "output_type": "execute_result"
    }
   ],
   "source": [
    "df = pd.read_csv('SBAnational.csv')\n",
    "df.columns"
   ]
  },
  {
   "cell_type": "code",
   "execution_count": 3,
   "metadata": {},
   "outputs": [],
   "source": [
    "# I'm gonna drop a bumch of columns that I don't care about for now. I will leave the name for traceability.\n",
    "drop_columns = ['LoanNr_ChkDgt', 'City', 'State', 'Zip', 'BankState', 'ApprovalDate', 'ApprovalFY',\n",
    "                'CreateJob', 'RetainedJob', 'ChgOffDate', 'DisbursementDate', 'DisbursementGross',\n",
    "                'BalanceGross', 'ChgOffPrinGr']\n",
    "df.drop(drop_columns, inplace=True, axis=1)"
   ]
  },
  {
   "cell_type": "code",
   "execution_count": 4,
   "metadata": {},
   "outputs": [
    {
     "data": {
      "text/html": [
       "<div>\n",
       "<style scoped>\n",
       "    .dataframe tbody tr th:only-of-type {\n",
       "        vertical-align: middle;\n",
       "    }\n",
       "\n",
       "    .dataframe tbody tr th {\n",
       "        vertical-align: top;\n",
       "    }\n",
       "\n",
       "    .dataframe thead th {\n",
       "        text-align: right;\n",
       "    }\n",
       "</style>\n",
       "<table border=\"1\" class=\"dataframe\">\n",
       "  <thead>\n",
       "    <tr style=\"text-align: right;\">\n",
       "      <th></th>\n",
       "      <th>Name</th>\n",
       "      <th>Bank</th>\n",
       "      <th>NAICS</th>\n",
       "      <th>Term</th>\n",
       "      <th>NoEmp</th>\n",
       "      <th>NewExist</th>\n",
       "      <th>FranchiseCode</th>\n",
       "      <th>UrbanRural</th>\n",
       "      <th>RevLineCr</th>\n",
       "      <th>LowDoc</th>\n",
       "      <th>MIS_Status</th>\n",
       "      <th>GrAppv</th>\n",
       "      <th>SBA_Appv</th>\n",
       "    </tr>\n",
       "  </thead>\n",
       "  <tbody>\n",
       "    <tr>\n",
       "      <th>0</th>\n",
       "      <td>ABC HOBBYCRAFT</td>\n",
       "      <td>FIFTH THIRD BANK</td>\n",
       "      <td>451120</td>\n",
       "      <td>84</td>\n",
       "      <td>4</td>\n",
       "      <td>2.0</td>\n",
       "      <td>1</td>\n",
       "      <td>0</td>\n",
       "      <td>N</td>\n",
       "      <td>Y</td>\n",
       "      <td>P I F</td>\n",
       "      <td>$60,000.00</td>\n",
       "      <td>$48,000.00</td>\n",
       "    </tr>\n",
       "    <tr>\n",
       "      <th>1</th>\n",
       "      <td>LANDMARK BAR &amp; GRILLE (THE)</td>\n",
       "      <td>1ST SOURCE BANK</td>\n",
       "      <td>722410</td>\n",
       "      <td>60</td>\n",
       "      <td>2</td>\n",
       "      <td>2.0</td>\n",
       "      <td>1</td>\n",
       "      <td>0</td>\n",
       "      <td>N</td>\n",
       "      <td>Y</td>\n",
       "      <td>P I F</td>\n",
       "      <td>$40,000.00</td>\n",
       "      <td>$32,000.00</td>\n",
       "    </tr>\n",
       "    <tr>\n",
       "      <th>2</th>\n",
       "      <td>WHITLOCK DDS, TODD M.</td>\n",
       "      <td>GRANT COUNTY STATE BANK</td>\n",
       "      <td>621210</td>\n",
       "      <td>180</td>\n",
       "      <td>7</td>\n",
       "      <td>1.0</td>\n",
       "      <td>1</td>\n",
       "      <td>0</td>\n",
       "      <td>N</td>\n",
       "      <td>N</td>\n",
       "      <td>P I F</td>\n",
       "      <td>$287,000.00</td>\n",
       "      <td>$215,250.00</td>\n",
       "    </tr>\n",
       "  </tbody>\n",
       "</table>\n",
       "</div>"
      ],
      "text/plain": [
       "                          Name                     Bank   NAICS  Term  NoEmp  \\\n",
       "0               ABC HOBBYCRAFT         FIFTH THIRD BANK  451120    84      4   \n",
       "1  LANDMARK BAR & GRILLE (THE)          1ST SOURCE BANK  722410    60      2   \n",
       "2        WHITLOCK DDS, TODD M.  GRANT COUNTY STATE BANK  621210   180      7   \n",
       "\n",
       "   NewExist  FranchiseCode  UrbanRural RevLineCr LowDoc MIS_Status  \\\n",
       "0       2.0              1           0         N      Y      P I F   \n",
       "1       2.0              1           0         N      Y      P I F   \n",
       "2       1.0              1           0         N      N      P I F   \n",
       "\n",
       "         GrAppv      SBA_Appv  \n",
       "0   $60,000.00    $48,000.00   \n",
       "1   $40,000.00    $32,000.00   \n",
       "2  $287,000.00   $215,250.00   "
      ]
     },
     "execution_count": 4,
     "metadata": {},
     "output_type": "execute_result"
    }
   ],
   "source": [
    "df.head(3)"
   ]
  },
  {
   "cell_type": "code",
   "execution_count": 5,
   "metadata": {},
   "outputs": [
    {
     "data": {
      "text/plain": [
       "count     897167\n",
       "unique         2\n",
       "top        P I F\n",
       "freq      739609\n",
       "Name: MIS_Status, dtype: object"
      ]
     },
     "execution_count": 5,
     "metadata": {},
     "output_type": "execute_result"
    }
   ],
   "source": [
    "# Drop data with null MIS_Status, as it is useless\n",
    "df.dropna(subset=['MIS_Status'], inplace=True)\n",
    "df['MIS_Status'].describe()"
   ]
  },
  {
   "cell_type": "code",
   "execution_count": 6,
   "metadata": {},
   "outputs": [
    {
     "name": "stdout",
     "output_type": "stream",
     "text": [
      "count    897167.000000\n",
      "mean          0.824383\n",
      "std           0.380494\n",
      "min           0.000000\n",
      "25%           1.000000\n",
      "50%           1.000000\n",
      "75%           1.000000\n",
      "max           1.000000\n",
      "Name: PaidInFull, dtype: float64\n"
     ]
    }
   ],
   "source": [
    "# Encode the target variable to binary values\n",
    "from sklearn.preprocessing import LabelEncoder\n",
    "label_encoder = LabelEncoder()\n",
    "df['PaidInFull'] = label_encoder.fit_transform(df['MIS_Status'])\n",
    "df.drop(['MIS_Status'], inplace=True, axis=1)\n",
    "print(df['PaidInFull'].describe())\n",
    "# Paid in Full is encoded as 1"
   ]
  },
  {
   "cell_type": "markdown",
   "metadata": {},
   "source": [
    "## Direct Inclusion\n",
    "\n",
    "Can be directly included or with minimum manipulation."
   ]
  },
  {
   "cell_type": "markdown",
   "metadata": {},
   "source": [
    "### Bank\n",
    "Bank Name\\\n",
    "**Encoding:**\\\n",
    "One-Hot for tree-based models. An idea is to create a few columns like Bank A, Bank B, Bank C with the major banks.\\\n",
    "<mark>TODO: Identify most common banks.</mark> \\\n",
    "For regression models we could encode each bank with the percentage of default of its previous loans.\\\n",
    "**Cleaning:**\\\n",
    "1559 nulls.\\\n",
    "One-Hot should be able to fix nulls, as a null bank would just be 0 in each column."
   ]
  },
  {
   "cell_type": "code",
   "execution_count": 7,
   "metadata": {},
   "outputs": [
    {
     "data": {
      "text/plain": [
       "count                         895661\n",
       "unique                          5801\n",
       "top       BANK OF AMERICA NATL ASSOC\n",
       "freq                           86773\n",
       "Name: Bank, dtype: object"
      ]
     },
     "execution_count": 7,
     "metadata": {},
     "output_type": "execute_result"
    }
   ],
   "source": [
    "df['Bank'].describe()\n"
   ]
  },
  {
   "cell_type": "code",
   "execution_count": 8,
   "metadata": {},
   "outputs": [
    {
     "name": "stdout",
     "output_type": "stream",
     "text": [
      "\n",
      "The top 5 most common banks:\n"
     ]
    },
    {
     "data": {
      "text/plain": [
       "Bank\n",
       "BANK OF AMERICA NATL ASSOC        86773\n",
       "WELLS FARGO BANK NATL ASSOC       63461\n",
       "JPMORGAN CHASE BANK NATL ASSOC    48131\n",
       "U.S. BANK NATIONAL ASSOCIATION    35112\n",
       "CITIZENS BANK NATL ASSOC          33770\n",
       "Name: count, dtype: int64"
      ]
     },
     "execution_count": 8,
     "metadata": {},
     "output_type": "execute_result"
    }
   ],
   "source": [
    "top_5_banks = df['Bank'].value_counts().head(5)\n",
    "print(f\"\\nThe top 5 most common banks:\")\n",
    "top_5_banks"
   ]
  },
  {
   "cell_type": "code",
   "execution_count": 9,
   "metadata": {},
   "outputs": [
    {
     "name": "stdout",
     "output_type": "stream",
     "text": [
      "1506 nulls\n"
     ]
    }
   ],
   "source": [
    "print(f\"{len(df[df['Bank'].isnull()])} nulls\")"
   ]
  },
  {
   "cell_type": "markdown",
   "metadata": {},
   "source": [
    "### NAICS\n",
    "North American Industry Classification System code\\\n",
    "**Encoding:**\\\n",
    "It does not make sense as a float number. Needs to be changed to a string.\\\n",
    "One-Hot for tree-based models. We can do a similar encoding as in the *Bank* feature. See [census](https://www.census.gov/naics/?58967?yearbck=2012) for identifying the industries. Note: It's the 1997 naming for some reason, not the 2012 one. Probably they are even mixed.\n",
    "<mark>TODO: Identify most common industries.</mark> \\\n",
    "For regression-based models we could do the same as for *bank* and just substitute it for its default ratio.\\\n",
    "**Cleaning:**\\\n",
    "A bunch of them have 0 value.\n",
    "<mark>TODO: Decide what to do with the zeros.</mark> \\"
   ]
  },
  {
   "cell_type": "code",
   "execution_count": 10,
   "metadata": {},
   "outputs": [
    {
     "data": {
      "text/plain": [
       "count     897167\n",
       "unique      1312\n",
       "top            0\n",
       "freq      201667\n",
       "Name: NAICS, dtype: object"
      ]
     },
     "execution_count": 10,
     "metadata": {},
     "output_type": "execute_result"
    }
   ],
   "source": [
    "# Change to a string to get categorical descriptions.\n",
    "df['NAICS'] = df['NAICS'].astype(str)\n",
    "df['NAICS'].describe()"
   ]
  },
  {
   "cell_type": "code",
   "execution_count": 11,
   "metadata": {},
   "outputs": [
    {
     "name": "stdout",
     "output_type": "stream",
     "text": [
      "\n",
      "The top 5 most common NAICS:\n"
     ]
    },
    {
     "data": {
      "text/plain": [
       "NAICS\n",
       "0         201667\n",
       "722110     27941\n",
       "722211     19435\n",
       "811111     14539\n",
       "621210     14034\n",
       "Name: count, dtype: int64"
      ]
     },
     "execution_count": 11,
     "metadata": {},
     "output_type": "execute_result"
    }
   ],
   "source": [
    "top_naics = df['NAICS'].value_counts().head()\n",
    "print(f\"\\nThe top 5 most common NAICS:\")\n",
    "top_naics"
   ]
  },
  {
   "cell_type": "markdown",
   "metadata": {},
   "source": [
    "### Term\n",
    "Loan term in months\\\n",
    "**Encoding:**\\\n",
    "For regression models it is inmediate, being a numeric feature.\\\n",
    "For tree-based models we may have to build bins. An idea would be to divide it into short, medium and long terms.\n",
    "<mark>TODO: Design bins to divide the terms.</mark>"
   ]
  },
  {
   "cell_type": "code",
   "execution_count": 12,
   "metadata": {},
   "outputs": [
    {
     "data": {
      "text/plain": [
       "count    897167.000000\n",
       "mean        110.848592\n",
       "std          78.900862\n",
       "min           0.000000\n",
       "25%          60.000000\n",
       "50%          84.000000\n",
       "75%         120.000000\n",
       "max         569.000000\n",
       "Name: Term, dtype: float64"
      ]
     },
     "execution_count": 12,
     "metadata": {},
     "output_type": "execute_result"
    }
   ],
   "source": [
    "df['Term'].describe()"
   ]
  },
  {
   "cell_type": "code",
   "execution_count": 13,
   "metadata": {},
   "outputs": [],
   "source": [
    "# Helper function to draw histograms\n",
    "def draw_histogram(column: pd.DataFrame, name: str, nbins: int = 10):\n",
    "    plt.figure(figsize=(8, 6))\n",
    "    plt.hist(column, bins=nbins, alpha=0.7, color='skyblue', edgecolor='black')\n",
    "    plt.title(f'Histogram of {name}')\n",
    "    plt.xlabel('Values')\n",
    "    plt.ylabel('Frequency')\n",
    "    plt.grid(True)\n",
    "    plt.show()"
   ]
  },
  {
   "cell_type": "code",
   "execution_count": 14,
   "metadata": {},
   "outputs": [
    {
     "data": {
      "image/png": "[encoded data removed]",
      "text/plain": [
       "<Figure size 800x600 with 1 Axes>"
      ]
     },
     "metadata": {},
     "output_type": "display_data"
    }
   ],
   "source": [
    "draw_histogram(df['Term'], 'Term')"
   ]
  },
  {
   "cell_type": "markdown",
   "metadata": {},
   "source": [
    "### NoEmp\n",
    "Number of Business Employees\\\n",
    "**Encoding:**\\\n",
    "For linear models it makes sense to use directly as a feature.\\\n",
    "For tree based models we might want to make bins for different business sizes.\n",
    "<mark>TODO: Design bins to divide the business sizes.</mark>"
   ]
  },
  {
   "cell_type": "code",
   "execution_count": 15,
   "metadata": {},
   "outputs": [
    {
     "data": {
      "text/plain": [
       "count    897167.000000\n",
       "mean         11.412562\n",
       "std          73.793775\n",
       "min           0.000000\n",
       "25%           2.000000\n",
       "50%           4.000000\n",
       "75%          10.000000\n",
       "max        9999.000000\n",
       "Name: NoEmp, dtype: float64"
      ]
     },
     "execution_count": 15,
     "metadata": {},
     "output_type": "execute_result"
    }
   ],
   "source": [
    "df['NoEmp'].describe()"
   ]
  },
  {
   "cell_type": "code",
   "execution_count": 16,
   "metadata": {},
   "outputs": [
    {
     "data": {
      "text/html": [
       "<div>\n",
       "<style scoped>\n",
       "    .dataframe tbody tr th:only-of-type {\n",
       "        vertical-align: middle;\n",
       "    }\n",
       "\n",
       "    .dataframe tbody tr th {\n",
       "        vertical-align: top;\n",
       "    }\n",
       "\n",
       "    .dataframe thead th {\n",
       "        text-align: right;\n",
       "    }\n",
       "</style>\n",
       "<table border=\"1\" class=\"dataframe\">\n",
       "  <thead>\n",
       "    <tr style=\"text-align: right;\">\n",
       "      <th></th>\n",
       "      <th>Name</th>\n",
       "      <th>Bank</th>\n",
       "      <th>NAICS</th>\n",
       "      <th>Term</th>\n",
       "      <th>NoEmp</th>\n",
       "      <th>NewExist</th>\n",
       "      <th>FranchiseCode</th>\n",
       "      <th>UrbanRural</th>\n",
       "      <th>RevLineCr</th>\n",
       "      <th>LowDoc</th>\n",
       "      <th>GrAppv</th>\n",
       "      <th>SBA_Appv</th>\n",
       "      <th>PaidInFull</th>\n",
       "    </tr>\n",
       "  </thead>\n",
       "  <tbody>\n",
       "    <tr>\n",
       "      <th>7816</th>\n",
       "      <td>OAKS PHARMACY, INC.</td>\n",
       "      <td>CITIZENS BANK OF PENNSYLVANIA</td>\n",
       "      <td>446110</td>\n",
       "      <td>36</td>\n",
       "      <td>9992</td>\n",
       "      <td>2.0</td>\n",
       "      <td>1</td>\n",
       "      <td>0</td>\n",
       "      <td>N</td>\n",
       "      <td>Y</td>\n",
       "      <td>$55,000.00</td>\n",
       "      <td>$44,000.00</td>\n",
       "      <td>1</td>\n",
       "    </tr>\n",
       "    <tr>\n",
       "      <th>44584</th>\n",
       "      <td>R &amp; R SALES</td>\n",
       "      <td>ALERUS FINANCIAL NATL ASSOC</td>\n",
       "      <td>0</td>\n",
       "      <td>84</td>\n",
       "      <td>9999</td>\n",
       "      <td>2.0</td>\n",
       "      <td>0</td>\n",
       "      <td>0</td>\n",
       "      <td>N</td>\n",
       "      <td>N</td>\n",
       "      <td>$50,000.00</td>\n",
       "      <td>$45,000.00</td>\n",
       "      <td>0</td>\n",
       "    </tr>\n",
       "    <tr>\n",
       "      <th>164076</th>\n",
       "      <td>BRADLEY I. &amp; LINDA M. AULIN</td>\n",
       "      <td>FIVE STAR BANK</td>\n",
       "      <td>0</td>\n",
       "      <td>63</td>\n",
       "      <td>9999</td>\n",
       "      <td>1.0</td>\n",
       "      <td>1</td>\n",
       "      <td>0</td>\n",
       "      <td>N</td>\n",
       "      <td>N</td>\n",
       "      <td>$200,000.00</td>\n",
       "      <td>$150,000.00</td>\n",
       "      <td>0</td>\n",
       "    </tr>\n",
       "    <tr>\n",
       "      <th>505737</th>\n",
       "      <td>TOTEM PRESS, INC.</td>\n",
       "      <td>U.S. BANK NATIONAL ASSOCIATION</td>\n",
       "      <td>0</td>\n",
       "      <td>120</td>\n",
       "      <td>9999</td>\n",
       "      <td>1.0</td>\n",
       "      <td>1</td>\n",
       "      <td>0</td>\n",
       "      <td>N</td>\n",
       "      <td>N</td>\n",
       "      <td>$143,000.00</td>\n",
       "      <td>$114,400.00</td>\n",
       "      <td>1</td>\n",
       "    </tr>\n",
       "    <tr>\n",
       "      <th>613940</th>\n",
       "      <td>GRAPHIC COMMUNICATION A HAWAII</td>\n",
       "      <td>FIRST HAWAIIAN BANK</td>\n",
       "      <td>541430</td>\n",
       "      <td>84</td>\n",
       "      <td>9999</td>\n",
       "      <td>1.0</td>\n",
       "      <td>1</td>\n",
       "      <td>0</td>\n",
       "      <td>N</td>\n",
       "      <td>N</td>\n",
       "      <td>$21,000.00</td>\n",
       "      <td>$18,900.00</td>\n",
       "      <td>1</td>\n",
       "    </tr>\n",
       "    <tr>\n",
       "      <th>873293</th>\n",
       "      <td>WILL'S FAMILY FAVORITES</td>\n",
       "      <td>CALIFORNIA BANK &amp; TRUST</td>\n",
       "      <td>0</td>\n",
       "      <td>70</td>\n",
       "      <td>9945</td>\n",
       "      <td>1.0</td>\n",
       "      <td>1</td>\n",
       "      <td>0</td>\n",
       "      <td>0</td>\n",
       "      <td>N</td>\n",
       "      <td>$145,000.00</td>\n",
       "      <td>$108,750.00</td>\n",
       "      <td>1</td>\n",
       "    </tr>\n",
       "  </tbody>\n",
       "</table>\n",
       "</div>"
      ],
      "text/plain": [
       "                                  Name                            Bank  \\\n",
       "7816               OAKS PHARMACY, INC.   CITIZENS BANK OF PENNSYLVANIA   \n",
       "44584                      R & R SALES     ALERUS FINANCIAL NATL ASSOC   \n",
       "164076     BRADLEY I. & LINDA M. AULIN                  FIVE STAR BANK   \n",
       "505737               TOTEM PRESS, INC.  U.S. BANK NATIONAL ASSOCIATION   \n",
       "613940  GRAPHIC COMMUNICATION A HAWAII             FIRST HAWAIIAN BANK   \n",
       "873293         WILL'S FAMILY FAVORITES         CALIFORNIA BANK & TRUST   \n",
       "\n",
       "         NAICS  Term  NoEmp  NewExist  FranchiseCode  UrbanRural RevLineCr  \\\n",
       "7816    446110    36   9992       2.0              1           0         N   \n",
       "44584        0    84   9999       2.0              0           0         N   \n",
       "164076       0    63   9999       1.0              1           0         N   \n",
       "505737       0   120   9999       1.0              1           0         N   \n",
       "613940  541430    84   9999       1.0              1           0         N   \n",
       "873293       0    70   9945       1.0              1           0         0   \n",
       "\n",
       "       LowDoc        GrAppv      SBA_Appv  PaidInFull  \n",
       "7816        Y   $55,000.00    $44,000.00            1  \n",
       "44584       N   $50,000.00    $45,000.00            0  \n",
       "164076      N  $200,000.00   $150,000.00            0  \n",
       "505737      N  $143,000.00   $114,400.00            1  \n",
       "613940      N   $21,000.00    $18,900.00            1  \n",
       "873293      N  $145,000.00   $108,750.00            1  "
      ]
     },
     "execution_count": 16,
     "metadata": {},
     "output_type": "execute_result"
    }
   ],
   "source": [
    "# These are some of the biggest ones. They could maybe be considered as outliers.\n",
    "df[df['NoEmp'] >= 9800]"
   ]
  },
  {
   "cell_type": "code",
   "execution_count": 17,
   "metadata": {},
   "outputs": [
    {
     "name": "stdout",
     "output_type": "stream",
     "text": [
      "6621 have 0 employees\n"
     ]
    }
   ],
   "source": [
    "# What should we do with the fellas with 0 employees?\n",
    "print(f\"{len(df[df['NoEmp'] < 1])} have 0 employees\")"
   ]
  },
  {
   "cell_type": "code",
   "execution_count": 18,
   "metadata": {},
   "outputs": [
    {
     "data": {
      "image/png": "[encoded data removed]",
      "text/plain": [
       "<Figure size 800x600 with 1 Axes>"
      ]
     },
     "metadata": {},
     "output_type": "display_data"
    }
   ],
   "source": [
    "# I'll only pull the ones under 50 to see with bigger detail.\n",
    "draw_histogram(df[df['NoEmp']<=50]['NoEmp'], \"Number of employees\", 50)"
   ]
  },
  {
   "cell_type": "markdown",
   "metadata": {},
   "source": [
    "### NewExist\n",
    "1 = Existing Business, 2 = New Business\\\n",
    "**Encoding:**\\\n",
    "For both trees and regressions, the encoding is straightforward binary, 1 = existing, 0 = new.\\\n",
    "**Cleaning:**\\\n",
    "1034 values with 0.0.\\\n",
    "We can fill them with the mode (Existing) or toss the samples.\n",
    "<mark>TODO: Decide what to do with the nulls.</mark>"
   ]
  },
  {
   "cell_type": "code",
   "execution_count": 19,
   "metadata": {},
   "outputs": [
    {
     "data": {
      "text/plain": [
       "count     897167\n",
       "unique         4\n",
       "top          1.0\n",
       "freq      643446\n",
       "Name: NewExist, dtype: object"
      ]
     },
     "execution_count": 19,
     "metadata": {},
     "output_type": "execute_result"
    }
   ],
   "source": [
    "df['NewExist'] = df['NewExist'].astype(str)\n",
    "df['NewExist'].describe()"
   ]
  },
  {
   "cell_type": "code",
   "execution_count": 20,
   "metadata": {},
   "outputs": [
    {
     "data": {
      "text/plain": [
       "NewExist\n",
       "1.0    643446\n",
       "2.0    252559\n",
       "0.0      1028\n",
       "nan       134\n",
       "Name: count, dtype: int64"
      ]
     },
     "execution_count": 20,
     "metadata": {},
     "output_type": "execute_result"
    }
   ],
   "source": [
    "# 136 nulls.\n",
    "df['NewExist'].value_counts()"
   ]
  },
  {
   "cell_type": "markdown",
   "metadata": {},
   "source": [
    "### FranchiseCode\n",
    "Franchise Code 00000 or 00001 = No Franchise\\\n",
    "**Encoding:**\\\n",
    "Has to be changed to strings.\n",
    "For both tree and regression models it would be good to feature engineer it into a division between *no-franchise, major-franchise and other-franchise*. We could have one bin for Subway, Quiznos, etc; one for other franchises and one for no franchise.\\\n",
    "Some values included are:\\\n",
    "78760: Subway\\\n",
    "68020: Quiznos\\\n",
    "50564: Mail Boxes Etc\\\n",
    "21780: Dairy Queen\\\n",
    "25650: Dunkin\\\n",
    "79140: Super 8\\\n",
    "<mark>TODO: Design bins to divide the franchises.</mark>"
   ]
  },
  {
   "cell_type": "code",
   "execution_count": 21,
   "metadata": {},
   "outputs": [
    {
     "data": {
      "text/plain": [
       "count     897167\n",
       "unique      2767\n",
       "top            1\n",
       "freq      637395\n",
       "Name: FranchiseCode, dtype: object"
      ]
     },
     "execution_count": 21,
     "metadata": {},
     "output_type": "execute_result"
    }
   ],
   "source": [
    "df['FranchiseCode'] = df['FranchiseCode'].astype(str)\n",
    "df['FranchiseCode'].describe()"
   ]
  },
  {
   "cell_type": "code",
   "execution_count": 22,
   "metadata": {},
   "outputs": [
    {
     "name": "stdout",
     "output_type": "stream",
     "text": [
      "\n",
      "The top 10 most common franchises:\n"
     ]
    },
    {
     "data": {
      "text/plain": [
       "FranchiseCode\n",
       "1        637395\n",
       "0        208040\n",
       "78760      3373\n",
       "68020      1921\n",
       "50564      1034\n",
       "21780      1001\n",
       "25650       715\n",
       "79140       659\n",
       "22470       615\n",
       "17998       606\n",
       "Name: count, dtype: int64"
      ]
     },
     "execution_count": 22,
     "metadata": {},
     "output_type": "execute_result"
    }
   ],
   "source": [
    "top_franchises = df['FranchiseCode'].value_counts().head(10)\n",
    "print(f\"\\nThe top 10 most common franchises:\")\n",
    "top_franchises"
   ]
  },
  {
   "cell_type": "markdown",
   "metadata": {},
   "source": [
    "### UrbanRural\n",
    "1= Urban, 2= Rural, 0 = Undefined\\\n",
    "**Encoding:**\\\n",
    "Changed to string. It has to be one-hot encoding for both trees and regression. 105343 are undefined, so it should be its own cathegory."
   ]
  },
  {
   "cell_type": "code",
   "execution_count": 23,
   "metadata": {},
   "outputs": [
    {
     "data": {
      "text/plain": [
       "count     897167\n",
       "unique         3\n",
       "top            1\n",
       "freq      469281\n",
       "Name: UrbanRural, dtype: object"
      ]
     },
     "execution_count": 23,
     "metadata": {},
     "output_type": "execute_result"
    }
   ],
   "source": [
    "df['UrbanRural'] = df['UrbanRural'].astype(str)\n",
    "df['UrbanRural'].describe()"
   ]
  },
  {
   "cell_type": "code",
   "execution_count": 24,
   "metadata": {},
   "outputs": [
    {
     "data": {
      "text/plain": [
       "UrbanRural\n",
       "1    469281\n",
       "0    322826\n",
       "2    105060\n",
       "Name: count, dtype: int64"
      ]
     },
     "execution_count": 24,
     "metadata": {},
     "output_type": "execute_result"
    }
   ],
   "source": [
    "df['UrbanRural'].value_counts()"
   ]
  },
  {
   "cell_type": "markdown",
   "metadata": {},
   "source": [
    "### RevLineCr\n",
    "Revolving Line of Credit: Y = Yes\\\n",
    "**Encoding:**\\\n",
    "Makes sense to binary-encode it for both trees and regression. \\\n",
    "**Cleaning:**\\\n",
    "There is a significative amount of possible values which don't have a clear meaning (i.e. 0, T, 1, R, 2, C). There are also nulls.\n",
    "<mark>TODO: Clean this data. </mark>"
   ]
  },
  {
   "cell_type": "code",
   "execution_count": 25,
   "metadata": {},
   "outputs": [
    {
     "data": {
      "text/plain": [
       "count     892647\n",
       "unique        18\n",
       "top            N\n",
       "freq      419252\n",
       "Name: RevLineCr, dtype: object"
      ]
     },
     "execution_count": 25,
     "metadata": {},
     "output_type": "execute_result"
    }
   ],
   "source": [
    "df['RevLineCr'].describe()"
   ]
  },
  {
   "cell_type": "code",
   "execution_count": 26,
   "metadata": {},
   "outputs": [
    {
     "data": {
      "text/plain": [
       "RevLineCr\n",
       "N    419252\n",
       "0    257431\n",
       "Y    200660\n",
       "T     15239\n",
       "1        23\n",
       "R        14\n",
       "`        11\n",
       "2         6\n",
       "C         2\n",
       "3         1\n",
       ",         1\n",
       "7         1\n",
       "A         1\n",
       "5         1\n",
       ".         1\n",
       "4         1\n",
       "-         1\n",
       "Q         1\n",
       "Name: count, dtype: int64"
      ]
     },
     "execution_count": 26,
     "metadata": {},
     "output_type": "execute_result"
    }
   ],
   "source": [
    "df['RevLineCr'].value_counts()"
   ]
  },
  {
   "cell_type": "code",
   "execution_count": 27,
   "metadata": {},
   "outputs": [
    {
     "name": "stdout",
     "output_type": "stream",
     "text": [
      "4520 nulls\n"
     ]
    }
   ],
   "source": [
    "print(f\"{len(df[df['RevLineCr'].isnull()])} nulls\")"
   ]
  },
  {
   "cell_type": "markdown",
   "metadata": {},
   "source": [
    "### LowDoc\n",
    "LowDoc Loan Program: Y = Yes, N = No\\\n",
    "**Encoding:**\\\n",
    "Makes sense to binary-encode it for both trees and regression. \\\n",
    "**Cleaning:**\\\n",
    "There is a significative amount of possible values which don't have a clear meaning (i.e. 0, C, S, A, 1). There are also nulls.\n",
    "<mark>TODO: Clean this data. </mark>"
   ]
  },
  {
   "cell_type": "code",
   "execution_count": 28,
   "metadata": {},
   "outputs": [
    {
     "data": {
      "text/plain": [
       "count     894589\n",
       "unique         8\n",
       "top            N\n",
       "freq      780997\n",
       "Name: LowDoc, dtype: object"
      ]
     },
     "execution_count": 28,
     "metadata": {},
     "output_type": "execute_result"
    }
   ],
   "source": [
    "df['LowDoc'].describe()"
   ]
  },
  {
   "cell_type": "code",
   "execution_count": 29,
   "metadata": {},
   "outputs": [
    {
     "data": {
      "text/plain": [
       "LowDoc\n",
       "N    780997\n",
       "Y    110171\n",
       "0      1490\n",
       "C       758\n",
       "S       603\n",
       "A       495\n",
       "R        74\n",
       "1         1\n",
       "Name: count, dtype: int64"
      ]
     },
     "execution_count": 29,
     "metadata": {},
     "output_type": "execute_result"
    }
   ],
   "source": [
    "df['LowDoc'].value_counts()"
   ]
  },
  {
   "cell_type": "code",
   "execution_count": 30,
   "metadata": {},
   "outputs": [
    {
     "name": "stdout",
     "output_type": "stream",
     "text": [
      "2578 nulls\n"
     ]
    }
   ],
   "source": [
    "print(f\"{len(df[df['LowDoc'].isnull()])} nulls\")"
   ]
  },
  {
   "cell_type": "code",
   "execution_count": 31,
   "metadata": {},
   "outputs": [],
   "source": [
    "#Convert dollar values to float value\n",
    "def dollar_to_float(dollar_string: str):\n",
    "    return float(dollar_string.replace('$','').replace(',',''))"
   ]
  },
  {
   "cell_type": "markdown",
   "metadata": {},
   "source": [
    "### GRAppv\n",
    "Gross Amount of Loan Approved by Bank\\\n",
    "**Encoding:**\\\n",
    "Has to be translated into floats."
   ]
  },
  {
   "cell_type": "code",
   "execution_count": 32,
   "metadata": {},
   "outputs": [
    {
     "data": {
      "text/plain": [
       "count    897167.000\n",
       "mean     193059.517\n",
       "std      283433.114\n",
       "min        1000.000\n",
       "25%       35000.000\n",
       "50%       90000.000\n",
       "75%      225000.000\n",
       "max     5472000.000\n",
       "Name: GrAppv, dtype: float64"
      ]
     },
     "execution_count": 32,
     "metadata": {},
     "output_type": "execute_result"
    }
   ],
   "source": [
    "df['GrAppv'] = df['GrAppv'].apply(dollar_to_float)\n",
    "\n",
    "# Scientific notation is useless for now\n",
    "pd.set_option('display.float_format', lambda x: '%.3f' % x)\n",
    "\n",
    "df['GrAppv'].describe()\n"
   ]
  },
  {
   "cell_type": "code",
   "execution_count": 33,
   "metadata": {},
   "outputs": [
    {
     "data": {
      "image/png": "[encoded data removed]",
      "text/plain": [
       "<Figure size 800x600 with 1 Axes>"
      ]
     },
     "metadata": {},
     "output_type": "display_data"
    }
   ],
   "source": [
    "# I will go over the loans under $1 million.\n",
    "\n",
    "draw_histogram(df[df['GrAppv'] < 1000000]['GrAppv'], 'Gross Amount Approved, $', 50)"
   ]
  },
  {
   "cell_type": "markdown",
   "metadata": {},
   "source": [
    "### SBA_Appv\n",
    "SBA’s Guaranteed Amount of Approved Loan\\\n",
    "**Encoding:**\\\n",
    "Has to be translated into floats."
   ]
  },
  {
   "cell_type": "code",
   "execution_count": 34,
   "metadata": {},
   "outputs": [
    {
     "data": {
      "text/plain": [
       "count    897167.000\n",
       "mean     149780.699\n",
       "std      228559.980\n",
       "min         500.000\n",
       "25%       21250.000\n",
       "50%       62050.000\n",
       "75%      175000.000\n",
       "max     5472000.000\n",
       "Name: SBA_Appv, dtype: float64"
      ]
     },
     "execution_count": 34,
     "metadata": {},
     "output_type": "execute_result"
    }
   ],
   "source": [
    "df['SBA_Appv'] = df['SBA_Appv'].apply(dollar_to_float)\n",
    "df['SBA_Appv'].describe()"
   ]
  },
  {
   "cell_type": "code",
   "execution_count": 35,
   "metadata": {},
   "outputs": [
    {
     "data": {
      "image/png": "[encoded data removed]",
      "text/plain": [
       "<Figure size 800x600 with 1 Axes>"
      ]
     },
     "metadata": {},
     "output_type": "display_data"
    }
   ],
   "source": [
    "# I will go over the loans under $200k.\n",
    "\n",
    "draw_histogram(df[df['SBA_Appv'] < 200000]['SBA_Appv'], 'Gross Amount Approved, $', 50)"
   ]
  },
  {
   "cell_type": "markdown",
   "metadata": {},
   "source": [
    "## Engineered Features"
   ]
  },
  {
   "cell_type": "markdown",
   "metadata": {},
   "source": [
    "### SBARatio\n",
    "The percentage of loan insured by SBA"
   ]
  },
  {
   "cell_type": "code",
   "execution_count": 36,
   "metadata": {},
   "outputs": [
    {
     "data": {
      "text/plain": [
       "count   897167.000\n",
       "mean         0.710\n",
       "std          0.174\n",
       "min          0.028\n",
       "25%          0.500\n",
       "50%          0.750\n",
       "75%          0.850\n",
       "max          1.000\n",
       "Name: SBARatio, dtype: float64"
      ]
     },
     "execution_count": 36,
     "metadata": {},
     "output_type": "execute_result"
    }
   ],
   "source": [
    "df['SBARatio'] = df['SBA_Appv'] / df['GrAppv']\n",
    "df['SBARatio'].describe()"
   ]
  },
  {
   "cell_type": "code",
   "execution_count": 37,
   "metadata": {},
   "outputs": [
    {
     "data": {
      "image/png": "[encoded data removed]",
      "text/plain": [
       "<Figure size 800x600 with 1 Axes>"
      ]
     },
     "metadata": {},
     "output_type": "display_data"
    }
   ],
   "source": [
    "draw_histogram(df['SBARatio'], 'SBA ratio of insurance', 20)\n",
    "# Most are located in round numbers, like 50%, 75%, 80% etc."
   ]
  },
  {
   "cell_type": "markdown",
   "metadata": {},
   "source": [
    "## Correlation study"
   ]
  },
  {
   "cell_type": "code",
   "execution_count": 38,
   "metadata": {},
   "outputs": [
    {
     "data": {
      "text/plain": [
       "Index(['Name', 'Bank', 'NAICS', 'Term', 'NoEmp', 'NewExist', 'FranchiseCode',\n",
       "       'UrbanRural', 'RevLineCr', 'LowDoc', 'GrAppv', 'SBA_Appv', 'PaidInFull',\n",
       "       'SBARatio'],\n",
       "      dtype='object')"
      ]
     },
     "execution_count": 38,
     "metadata": {},
     "output_type": "execute_result"
    }
   ],
   "source": [
    "df.columns"
   ]
  },
  {
   "cell_type": "code",
   "execution_count": 39,
   "metadata": {},
   "outputs": [
    {
     "name": "stdout",
     "output_type": "stream",
     "text": [
      "Cathegorical features: ['Name', 'Bank', 'NAICS', 'NewExist', 'FranchiseCode', 'UrbanRural', 'RevLineCr', 'LowDoc']\n",
      "Numeric features: ['Term', 'NoEmp', 'GrAppv', 'SBA_Appv', 'SBARatio']\n"
     ]
    }
   ],
   "source": [
    "target = 'PaidInFull'\n",
    "features = [feature for feature in df.columns if feature not in target]\n",
    "num_features = ['Term', 'NoEmp', 'GrAppv', 'SBA_Appv', 'SBARatio']\n",
    "cat_features = [feature for feature in features if feature not in num_features]\n",
    "\n",
    "print(f\"Cathegorical features: {cat_features}\")\n",
    "print(f\"Numeric features: {num_features}\")"
   ]
  },
  {
   "cell_type": "code",
   "execution_count": 40,
   "metadata": {},
   "outputs": [
    {
     "data": {
      "image/png": "[encoded data removed]",
      "text/plain": [
       "<Figure size 640x480 with 2 Axes>"
      ]
     },
     "metadata": {},
     "output_type": "display_data"
    }
   ],
   "source": [
    "# Draw numeric correlation\n",
    "import seaborn as sns\n",
    "numeric_corr = df[num_features + [target]].corr()\n",
    "sns.heatmap(numeric_corr, annot=True, cmap='coolwarm', fmt='.2f')\n",
    "plt.title('Correlation Heatmap (Numerical)')\n",
    "plt.show()\n",
    "# The correlation between the number of employees and the target seems to be minimal."
   ]
  },
  {
   "cell_type": "code",
   "execution_count": 41,
   "metadata": {},
   "outputs": [
    {
     "name": "stdout",
     "output_type": "stream",
     "text": [
      "PaidInFull       0       1  Ratio\n",
      "NewExist                         \n",
      "0.0             63     965  0.939\n",
      "1.0         110114  533332  0.829\n",
      "2.0          47367  205192  0.812\n",
      "nan             14     120  0.896\n"
     ]
    }
   ],
   "source": [
    "cross_tab = pd.crosstab(df['NewExist'], df[target])\n",
    "cross_tab['Ratio'] = cross_tab[1] / cross_tab.sum(axis=1)\n",
    "\n",
    "print(cross_tab)"
   ]
  },
  {
   "cell_type": "code",
   "execution_count": 42,
   "metadata": {},
   "outputs": [
    {
     "name": "stdout",
     "output_type": "stream",
     "text": [
      "PaidInFull       0       1  Ratio\n",
      "UrbanRural                       \n",
      "0            22978  299848  0.929\n",
      "1           114867  354414  0.755\n",
      "2            19713   85347  0.812\n"
     ]
    }
   ],
   "source": [
    "cross_tab = pd.crosstab(df['UrbanRural'], df[target])\n",
    "cross_tab['Ratio'] = cross_tab[1] / cross_tab.sum(axis=1)\n",
    "\n",
    "print(cross_tab)"
   ]
  },
  {
   "cell_type": "code",
   "execution_count": 43,
   "metadata": {},
   "outputs": [
    {
     "name": "stdout",
     "output_type": "stream",
     "text": [
      "PaidInFull      0       1  Ratio\n",
      "RevLineCr                       \n",
      ",               0       1  1.000\n",
      "-               0       1  1.000\n",
      ".               0       1  1.000\n",
      "0           38492  218939  0.850\n",
      "1               2      21  0.913\n",
      "2               0       6  1.000\n",
      "3               0       1  1.000\n",
      "4               0       1  1.000\n",
      "5               0       1  1.000\n",
      "7               0       1  1.000\n",
      "A               0       1  1.000\n",
      "C               0       2  1.000\n",
      "N           61401  357851  0.854\n",
      "Q               0       1  1.000\n",
      "R               1      13  0.929\n",
      "T            6561    8678  0.569\n",
      "Y           50990  149670  0.746\n",
      "`               0      11  1.000\n"
     ]
    }
   ],
   "source": [
    "cross_tab = pd.crosstab(df['RevLineCr'], df[target])\n",
    "cross_tab['Ratio'] = cross_tab[1] / cross_tab.sum(axis=1)\n",
    "\n",
    "print(cross_tab)"
   ]
  },
  {
   "cell_type": "code",
   "execution_count": 44,
   "metadata": {},
   "outputs": [
    {
     "name": "stdout",
     "output_type": "stream",
     "text": [
      "PaidInFull       0       1  Ratio\n",
      "LowDoc                           \n",
      "0               50    1440  0.966\n",
      "1                0       1  1.000\n",
      "A              159     336  0.679\n",
      "C               75     683  0.901\n",
      "N           146077  634920  0.813\n",
      "R               25      49  0.662\n",
      "S              270     333  0.552\n",
      "Y             9904  100267  0.910\n"
     ]
    }
   ],
   "source": [
    "cross_tab = pd.crosstab(df['LowDoc'], df[target])\n",
    "cross_tab['Ratio'] = cross_tab[1] / cross_tab.sum(axis=1)\n",
    "\n",
    "print(cross_tab)"
   ]
  }
 ],
 "metadata": {
  "kernelspec": {
   "display_name": "Python 3",
   "language": "python",
   "name": "python3"
  },
  "language_info": {
   "codemirror_mode": {
    "name": "ipython",
    "version": 3
   },
   "file_extension": ".py",
   "mimetype": "text/x-python",
   "name": "python",
   "nbconvert_exporter": "python",
   "pygments_lexer": "ipython3",
   "version": "3.11.5"
  },
  "orig_nbformat": 4
 },
 "nbformat": 4,
 "nbformat_minor": 2
}
