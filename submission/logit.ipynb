{
 "cells": [
  {
   "cell_type": "code",
   "execution_count": 1,
   "metadata": {},
   "outputs": [],
   "source": [
    "import numpy as np\n",
    "import pandas as pd\n",
    "import matplotlib.pyplot as plt\n",
    "from sklearn.model_selection import train_test_split\n",
    "from sklearn.linear_model import LogisticRegression\n",
    "from sklearn.metrics import classification_report, confusion_matrix\n",
    "\n",
    "import scoring_utils"
   ]
  },
  {
   "cell_type": "code",
   "execution_count": 2,
   "metadata": {},
   "outputs": [
    {
     "name": "stdout",
     "output_type": "stream",
     "text": [
      "City\n",
      "State\n",
      "Bank\n",
      "ApprovalFY\n",
      "Term\n",
      "NoEmp\n",
      "CreateJob\n",
      "RetainedJob\n",
      "FranchiseCode\n",
      "UrbanRural\n",
      "RevLineCr\n",
      "LowDoc\n",
      "GrAppv\n",
      "SBA_Appv\n",
      "Default\n",
      "NAICS_i\n",
      "isNewBusiness\n",
      "isFranchise\n",
      "SBARatio\n",
      "InterestRate\n"
     ]
    }
   ],
   "source": [
    "df = pd.read_csv('../data/data_clean.csv')\n",
    "\n",
    "for col in df.columns:\n",
    "    print(col)"
   ]
  },
  {
   "cell_type": "code",
   "execution_count": 3,
   "metadata": {},
   "outputs": [],
   "source": [
    "# one-hot encode UrbanRural and include it\n",
    "from sklearn.preprocessing import OneHotEncoder\n",
    "\n",
    "OHE = OneHotEncoder(sparse_output=False,handle_unknown='ignore')\n",
    "\n",
    "UR_encoded = OHE.fit_transform(df[['UrbanRural']])\n",
    "UR_enc_df = pd.DataFrame(UR_encoded,columns = OHE.get_feature_names_out(['UrbanRural']))\n",
    "df = pd.concat([df,UR_enc_df], axis=1)\n",
    "df.drop(columns=['UrbanRural'], inplace=True)\n"
   ]
  },
  {
   "cell_type": "code",
   "execution_count": 4,
   "metadata": {},
   "outputs": [
    {
     "name": "stdout",
     "output_type": "stream",
     "text": [
      "\n",
      "\n",
      "Col: Term\n",
      "\n",
      "Before:\n",
      "\tcount    870514.000000\n",
      "\tmean        111.508946\n",
      "\tstd          79.177488\n",
      "\tmin           0.000000\n",
      "\t25%          60.000000\n",
      "\t50%          84.000000\n",
      "\t75%         120.000000\n",
      "\tmax         569.000000\n",
      "\n",
      "After:\n",
      "\tcount    870352.000000\n",
      "\tmean        111.458809\n",
      "\tstd          79.097905\n",
      "\tmin           0.000000\n",
      "\t25%          60.000000\n",
      "\t50%          84.000000\n",
      "\t75%         120.000000\n",
      "\tmax         349.000000\n",
      "\n",
      "\n",
      "Col: NoEmp\n",
      "\n",
      "Before:\n",
      "\tcount    870352.000000\n",
      "\tmean         11.478524\n",
      "\tstd          74.594736\n",
      "\tmin           0.000000\n",
      "\t25%           2.000000\n",
      "\t50%           4.000000\n",
      "\t75%          10.000000\n",
      "\tmax        9999.000000\n",
      "\n",
      "After:\n",
      "\tcount    868960.000000\n",
      "\tmean         10.020323\n",
      "\tstd          17.337608\n",
      "\tmin           0.000000\n",
      "\t25%           2.000000\n",
      "\t50%           4.000000\n",
      "\t75%          10.000000\n",
      "\tmax         235.000000\n",
      "\n",
      "\n",
      "Col: CreateJob\n",
      "\n",
      "Before:\n",
      "\tcount    868960.000000\n",
      "\tmean          8.526285\n",
      "\tstd         239.181681\n",
      "\tmin           0.000000\n",
      "\t25%           0.000000\n",
      "\t50%           0.000000\n",
      "\t75%           1.000000\n",
      "\tmax        8800.000000\n",
      "\n",
      "After:\n",
      "\tcount    868298.000000\n",
      "\tmean          1.992982\n",
      "\tstd           8.487709\n",
      "\tmin           0.000000\n",
      "\t25%           0.000000\n",
      "\t50%           0.000000\n",
      "\t75%           1.000000\n",
      "\tmax         600.000000\n",
      "\n",
      "\n",
      "Col: RetainedJob\n",
      "\n",
      "Before:\n",
      "\tcount    868298.000000\n",
      "\tmean          4.294564\n",
      "\tstd          20.355378\n",
      "\tmin           0.000000\n",
      "\t25%           0.000000\n",
      "\t50%           1.000000\n",
      "\t75%           4.000000\n",
      "\tmax        9500.000000\n",
      "\n",
      "After:\n",
      "\tcount    862896.000000\n",
      "\tmean          3.614223\n",
      "\tstd           7.568855\n",
      "\tmin           0.000000\n",
      "\t25%           0.000000\n",
      "\t50%           1.000000\n",
      "\t75%           4.000000\n",
      "\tmax          65.000000\n",
      "\n",
      "\n",
      "Col: GrAppv\n",
      "\n",
      "Before:\n",
      "\tcount    8.628960e+05\n",
      "\tmean     1.921102e+05\n",
      "\tstd      2.790865e+05\n",
      "\tmin      1.000000e+03\n",
      "\t25%      3.500000e+04\n",
      "\t50%      9.100000e+04\n",
      "\t75%      2.250000e+05\n",
      "\tmax      5.000000e+06\n",
      "\n",
      "After:\n",
      "\tcount    8.439400e+05\n",
      "\tmean     1.641523e+05\n",
      "\tstd      2.006352e+05\n",
      "\tmin      1.000000e+03\n",
      "\t25%      3.500000e+04\n",
      "\t50%      8.700000e+04\n",
      "\t75%      2.060000e+05\n",
      "\tmax      1.029000e+06\n",
      "\n",
      "\n",
      "Col: SBA_Appv\n",
      "\n",
      "Before:\n",
      "\tcount    8.439400e+05\n",
      "\tmean     1.281405e+05\n",
      "\tstd      1.676099e+05\n",
      "\tmin      5.000000e+02\n",
      "\t25%      2.125000e+04\n",
      "\t50%      5.950000e+04\n",
      "\t75%      1.612500e+05\n",
      "\tmax      1.029000e+06\n",
      "\n",
      "After:\n",
      "\tcount    820872.000000\n",
      "\tmean     110529.433878\n",
      "\tstd      131355.159816\n",
      "\tmin         500.000000\n",
      "\t25%       20000.000000\n",
      "\t50%       54000.000000\n",
      "\t75%      148750.000000\n",
      "\tmax      630800.000000\n"
     ]
    }
   ],
   "source": [
    "# Look for and remove outliers\n",
    "\n",
    "def remove_outliers(df:pd.DataFrame, c:str):\n",
    "    z_scores = np.abs((df[c] - df[c].mean())/df[c].std())\n",
    "    no_outliers = df[z_scores < 3]\n",
    "    return no_outliers\n",
    "\n",
    "#remove outliers from features\n",
    "\n",
    "have_outliers = ['Term','NoEmp','CreateJob','RetainedJob','GrAppv','SBA_Appv']\n",
    "\n",
    "for col in have_outliers:\n",
    "    print(f\"\\n\\nCol: {col}\")\n",
    "    print(\"\\nBefore:\")\n",
    "    for s in df[col].describe().to_string().split('\\n'):\n",
    "        print(f'\\t{s}')\n",
    "    df = remove_outliers(df,col)\n",
    "    print(\"\\nAfter:\")\n",
    "    for s in df[col].describe().to_string().split('\\n'):\n",
    "        print(f'\\t{s}')\n"
   ]
  },
  {
   "cell_type": "code",
   "execution_count": 5,
   "metadata": {},
   "outputs": [],
   "source": [
    "# Select Features (X) and Target (Y)\n",
    "#X = df[['ApprovalFY','Term','NoEmp','CreateJob','RetainedJob','FranchiseCode','UrbanRural','RevLineCr','LowDoc','GrAppv','SBA_Appv','NAICS_i','isNewBusiness','isFranchise','SBARatio','InterestRate']]\n",
    "experimental_features = ['City', 'State', 'Bank', 'ApprovalFY', 'NAICS_i', 'FranchiseCode']\n",
    "target = 'Default'\n",
    "features = [f for f in df.columns if f not in experimental_features and f not in target]\n",
    "\n",
    "X = df[features]\n",
    "Y = df[target]"
   ]
  },
  {
   "cell_type": "code",
   "execution_count": 6,
   "metadata": {},
   "outputs": [],
   "source": [
    "# Do a train-test split\n",
    "X_train, X_tmp, y_train, y_tmp = train_test_split(X,Y,test_size=0.4,random_state=42)\n",
    "X_cv, X_test, y_cv, y_test = train_test_split(X_tmp, y_tmp, test_size=.5)\n",
    "\n"
   ]
  },
  {
   "cell_type": "code",
   "execution_count": 7,
   "metadata": {},
   "outputs": [],
   "source": [
    "# Scale Features\n",
    "from sklearn.preprocessing import StandardScaler\n",
    "\n",
    "sc = StandardScaler()\n",
    "X_train_scaled = sc.fit_transform(X_train)\n",
    "X_cv_scaled = sc.transform(X_cv)\n",
    "X_test_scaled = sc.transform(X_test)\n",
    "X_scaled =sc.transform(X)"
   ]
  },
  {
   "cell_type": "code",
   "execution_count": 8,
   "metadata": {},
   "outputs": [
    {
     "name": "stderr",
     "output_type": "stream",
     "text": [
      "[Parallel(n_jobs=-1)]: Using backend ThreadingBackend with 10 concurrent workers.\n"
     ]
    },
    {
     "name": "stdout",
     "output_type": "stream",
     "text": [
      "Epoch 1, change: 1.00000000\n",
      "Epoch 2, change: 0.01258549\n",
      "Epoch 3, change: 0.00871258\n",
      "Epoch 4, change: 0.00480832\n",
      "Epoch 5, change: 0.00457788\n",
      "Epoch 6, change: 0.00470580\n",
      "Epoch 7, change: 0.00282500\n",
      "Epoch 8, change: 0.00227735\n",
      "Epoch 9, change: 0.00187284\n",
      "Epoch 10, change: 0.00165353\n",
      "Epoch 11, change: 0.00138174\n",
      "Epoch 12, change: 0.00123484\n",
      "Epoch 13, change: 0.00106060\n",
      "Epoch 14, change: 0.00092274\n",
      "Epoch 15, change: 0.00080440\n",
      "Epoch 16, change: 0.00069950\n",
      "Epoch 17, change: 0.00060982\n",
      "Epoch 18, change: 0.00052790\n",
      "Epoch 19, change: 0.00046171\n",
      "Epoch 20, change: 0.00039798\n",
      "Epoch 21, change: 0.00034493\n",
      "Epoch 22, change: 0.00030146\n",
      "Epoch 23, change: 0.00026261\n",
      "Epoch 24, change: 0.00022623\n",
      "Epoch 25, change: 0.00019744\n",
      "Epoch 26, change: 0.00017201\n",
      "Epoch 27, change: 0.00014970\n",
      "Epoch 28, change: 0.00012962\n",
      "Epoch 29, change: 0.00011316\n",
      "convergence after 30 epochs took 7 seconds\n"
     ]
    },
    {
     "data": {
      "text/html": [
       "<style>#sk-container-id-1 {color: black;}#sk-container-id-1 pre{padding: 0;}#sk-container-id-1 div.sk-toggleable {background-color: white;}#sk-container-id-1 label.sk-toggleable__label {cursor: pointer;display: block;width: 100%;margin-bottom: 0;padding: 0.3em;box-sizing: border-box;text-align: center;}#sk-container-id-1 label.sk-toggleable__label-arrow:before {content: \"▸\";float: left;margin-right: 0.25em;color: #696969;}#sk-container-id-1 label.sk-toggleable__label-arrow:hover:before {color: black;}#sk-container-id-1 div.sk-estimator:hover label.sk-toggleable__label-arrow:before {color: black;}#sk-container-id-1 div.sk-toggleable__content {max-height: 0;max-width: 0;overflow: hidden;text-align: left;background-color: #f0f8ff;}#sk-container-id-1 div.sk-toggleable__content pre {margin: 0.2em;color: black;border-radius: 0.25em;background-color: #f0f8ff;}#sk-container-id-1 input.sk-toggleable__control:checked~div.sk-toggleable__content {max-height: 200px;max-width: 100%;overflow: auto;}#sk-container-id-1 input.sk-toggleable__control:checked~label.sk-toggleable__label-arrow:before {content: \"▾\";}#sk-container-id-1 div.sk-estimator input.sk-toggleable__control:checked~label.sk-toggleable__label {background-color: #d4ebff;}#sk-container-id-1 div.sk-label input.sk-toggleable__control:checked~label.sk-toggleable__label {background-color: #d4ebff;}#sk-container-id-1 input.sk-hidden--visually {border: 0;clip: rect(1px 1px 1px 1px);clip: rect(1px, 1px, 1px, 1px);height: 1px;margin: -1px;overflow: hidden;padding: 0;position: absolute;width: 1px;}#sk-container-id-1 div.sk-estimator {font-family: monospace;background-color: #f0f8ff;border: 1px dotted black;border-radius: 0.25em;box-sizing: border-box;margin-bottom: 0.5em;}#sk-container-id-1 div.sk-estimator:hover {background-color: #d4ebff;}#sk-container-id-1 div.sk-parallel-item::after {content: \"\";width: 100%;border-bottom: 1px solid gray;flex-grow: 1;}#sk-container-id-1 div.sk-label:hover label.sk-toggleable__label {background-color: #d4ebff;}#sk-container-id-1 div.sk-serial::before {content: \"\";position: absolute;border-left: 1px solid gray;box-sizing: border-box;top: 0;bottom: 0;left: 50%;z-index: 0;}#sk-container-id-1 div.sk-serial {display: flex;flex-direction: column;align-items: center;background-color: white;padding-right: 0.2em;padding-left: 0.2em;position: relative;}#sk-container-id-1 div.sk-item {position: relative;z-index: 1;}#sk-container-id-1 div.sk-parallel {display: flex;align-items: stretch;justify-content: center;background-color: white;position: relative;}#sk-container-id-1 div.sk-item::before, #sk-container-id-1 div.sk-parallel-item::before {content: \"\";position: absolute;border-left: 1px solid gray;box-sizing: border-box;top: 0;bottom: 0;left: 50%;z-index: -1;}#sk-container-id-1 div.sk-parallel-item {display: flex;flex-direction: column;z-index: 1;position: relative;background-color: white;}#sk-container-id-1 div.sk-parallel-item:first-child::after {align-self: flex-end;width: 50%;}#sk-container-id-1 div.sk-parallel-item:last-child::after {align-self: flex-start;width: 50%;}#sk-container-id-1 div.sk-parallel-item:only-child::after {width: 0;}#sk-container-id-1 div.sk-dashed-wrapped {border: 1px dashed gray;margin: 0 0.4em 0.5em 0.4em;box-sizing: border-box;padding-bottom: 0.4em;background-color: white;}#sk-container-id-1 div.sk-label label {font-family: monospace;font-weight: bold;display: inline-block;line-height: 1.2em;}#sk-container-id-1 div.sk-label-container {text-align: center;}#sk-container-id-1 div.sk-container {/* jupyter's `normalize.less` sets `[hidden] { display: none; }` but bootstrap.min.css set `[hidden] { display: none !important; }` so we also need the `!important` here to be able to override the default hidden behavior on the sphinx rendered scikit-learn.org. See: https://github.com/scikit-learn/scikit-learn/issues/21755 */display: inline-block !important;position: relative;}#sk-container-id-1 div.sk-text-repr-fallback {display: none;}</style><div id=\"sk-container-id-1\" class=\"sk-top-container\"><div class=\"sk-text-repr-fallback\"><pre>LogisticRegression(C=0.4, class_weight=&#x27;balanced&#x27;, l1_ratio=0.5, n_jobs=-1,\n",
       "                   penalty=&#x27;elasticnet&#x27;, solver=&#x27;saga&#x27;, verbose=2)</pre><b>In a Jupyter environment, please rerun this cell to show the HTML representation or trust the notebook. <br />On GitHub, the HTML representation is unable to render, please try loading this page with nbviewer.org.</b></div><div class=\"sk-container\" hidden><div class=\"sk-item\"><div class=\"sk-estimator sk-toggleable\"><input class=\"sk-toggleable__control sk-hidden--visually\" id=\"sk-estimator-id-1\" type=\"checkbox\" checked><label for=\"sk-estimator-id-1\" class=\"sk-toggleable__label sk-toggleable__label-arrow\">LogisticRegression</label><div class=\"sk-toggleable__content\"><pre>LogisticRegression(C=0.4, class_weight=&#x27;balanced&#x27;, l1_ratio=0.5, n_jobs=-1,\n",
       "                   penalty=&#x27;elasticnet&#x27;, solver=&#x27;saga&#x27;, verbose=2)</pre></div></div></div></div></div>"
      ],
      "text/plain": [
       "LogisticRegression(C=0.4, class_weight='balanced', l1_ratio=0.5, n_jobs=-1,\n",
       "                   penalty='elasticnet', solver='saga', verbose=2)"
      ]
     },
     "execution_count": 8,
     "metadata": {},
     "output_type": "execute_result"
    }
   ],
   "source": [
    "model = LogisticRegression(penalty='elasticnet',solver='saga',l1_ratio=0.5, C=0.4, verbose=2, n_jobs=-1, class_weight='balanced')\n",
    "model.fit(X_train_scaled, y_train)"
   ]
  },
  {
   "cell_type": "code",
   "execution_count": 9,
   "metadata": {},
   "outputs": [
    {
     "name": "stdout",
     "output_type": "stream",
     "text": [
      "          Feature  Coefficient\n",
      "0            Term    -1.943214\n",
      "1           NoEmp    -0.286349\n",
      "2       CreateJob     0.004514\n",
      "3     RetainedJob    -0.001227\n",
      "4       RevLineCr    -0.085244\n",
      "5          LowDoc    -0.342056\n",
      "6          GrAppv     0.096919\n",
      "7        SBA_Appv     0.222138\n",
      "8   isNewBusiness    -0.008082\n",
      "9     isFranchise     0.015676\n",
      "10       SBARatio     0.297701\n",
      "11   InterestRate     0.502147\n",
      "12   UrbanRural_0    -0.475069\n",
      "13   UrbanRural_1     0.349272\n",
      "14   UrbanRural_2     0.156609\n"
     ]
    }
   ],
   "source": [
    "coefficients = model.coef_[0]\n",
    "feature_names = X.columns\n",
    "\n",
    "coef_df = pd.DataFrame({'Feature': feature_names, 'Coefficient': coefficients})\n",
    "\n",
    "print(coef_df)"
   ]
  },
  {
   "cell_type": "code",
   "execution_count": 10,
   "metadata": {},
   "outputs": [
    {
     "data": {
      "text/html": [
       "<div>\n",
       "<style scoped>\n",
       "    .dataframe tbody tr th:only-of-type {\n",
       "        vertical-align: middle;\n",
       "    }\n",
       "\n",
       "    .dataframe tbody tr th {\n",
       "        vertical-align: top;\n",
       "    }\n",
       "\n",
       "    .dataframe thead th {\n",
       "        text-align: right;\n",
       "    }\n",
       "</style>\n",
       "<table border=\"1\" class=\"dataframe\">\n",
       "  <thead>\n",
       "    <tr style=\"text-align: right;\">\n",
       "      <th></th>\n",
       "      <th>Recall</th>\n",
       "      <th>Precision</th>\n",
       "      <th>ROC</th>\n",
       "      <th>F1</th>\n",
       "    </tr>\n",
       "  </thead>\n",
       "  <tbody>\n",
       "    <tr>\n",
       "      <th>Logit Train</th>\n",
       "      <td>0.823855</td>\n",
       "      <td>0.383772</td>\n",
       "      <td>0.769638</td>\n",
       "      <td>0.523626</td>\n",
       "    </tr>\n",
       "    <tr>\n",
       "      <th>Logit CV</th>\n",
       "      <td>0.822180</td>\n",
       "      <td>0.384069</td>\n",
       "      <td>0.768746</td>\n",
       "      <td>0.523564</td>\n",
       "    </tr>\n",
       "  </tbody>\n",
       "</table>\n",
       "</div>"
      ],
      "text/plain": [
       "               Recall  Precision       ROC        F1\n",
       "Logit Train  0.823855   0.383772  0.769638  0.523626\n",
       "Logit CV     0.822180   0.384069  0.768746  0.523564"
      ]
     },
     "execution_count": 10,
     "metadata": {},
     "output_type": "execute_result"
    }
   ],
   "source": [
    "#make predictions\n",
    "yhat_train = model.predict(X_train_scaled)\n",
    "yhat_cv = model.predict(X_test_scaled)\n",
    "\n",
    "score = pd.concat([\n",
    "    scoring_utils.get_metrics(y_train, yhat_train, \"Logit Train\"),\n",
    "    scoring_utils.get_metrics(y_test, yhat_cv, \"Logit CV\")\n",
    "])\n",
    "\n",
    "score"
   ]
  },
  {
   "cell_type": "code",
   "execution_count": 11,
   "metadata": {},
   "outputs": [
    {
     "data": {
      "text/plain": [
       "{'C': 0.4,\n",
       " 'class_weight': 'balanced',\n",
       " 'dual': False,\n",
       " 'fit_intercept': True,\n",
       " 'intercept_scaling': 1,\n",
       " 'l1_ratio': 0.5,\n",
       " 'max_iter': 100,\n",
       " 'multi_class': 'auto',\n",
       " 'n_jobs': -1,\n",
       " 'penalty': 'elasticnet',\n",
       " 'random_state': None,\n",
       " 'solver': 'saga',\n",
       " 'tol': 0.0001,\n",
       " 'verbose': 2,\n",
       " 'warm_start': False}"
      ]
     },
     "execution_count": 11,
     "metadata": {},
     "output_type": "execute_result"
    }
   ],
   "source": [
    "model.get_params()"
   ]
  },
  {
   "cell_type": "code",
   "execution_count": 12,
   "metadata": {},
   "outputs": [
    {
     "data": {
      "image/png": "[encoded data removed]",
      "text/plain": [
       "<Figure size 800x600 with 2 Axes>"
      ]
     },
     "metadata": {},
     "output_type": "display_data"
    }
   ],
   "source": [
    "yhat_total = model.predict(X_scaled)\n",
    "scoring_utils.get_confusion_matrix(Y, yhat_total, \"Logit\")"
   ]
  },
  {
   "cell_type": "code",
   "execution_count": 13,
   "metadata": {},
   "outputs": [
    {
     "data": {
      "text/plain": [
       "3464067646.65"
      ]
     },
     "execution_count": 13,
     "metadata": {},
     "output_type": "execute_result"
    }
   ],
   "source": [
    "scoring_utils.get_profit(X, Y, yhat_total)"
   ]
  },
  {
   "cell_type": "markdown",
   "metadata": {},
   "source": [
    "This fucker overfits to the max. You need to regularize it as crazy. You can keep all the columns if you want to but it's not necessary. First, do something similar to the code in importance_analysis (the graphs that draw a line for CV and a line for testing) and iterate over different types of regularization.\n",
    "If I was you I would pick elasticnet with a saga solver and iterate over different values of l1. The docs explain pretty good. Then change the solver and try with other penalties."
   ]
  },
  {
   "cell_type": "markdown",
   "metadata": {},
   "source": []
  }
 ],
 "metadata": {
  "kernelspec": {
   "display_name": "Python 3",
   "language": "python",
   "name": "python3"
  },
  "language_info": {
   "codemirror_mode": {
    "name": "ipython",
    "version": 3
   },
   "file_extension": ".py",
   "mimetype": "text/x-python",
   "name": "python",
   "nbconvert_exporter": "python",
   "pygments_lexer": "ipython3",
   "version": "3.11.6"
  }
 },
 "nbformat": 4,
 "nbformat_minor": 2
}
