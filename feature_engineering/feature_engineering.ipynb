{
 "cells": [
  {
   "cell_type": "markdown",
   "metadata": {},
   "source": [
    "# Interest Rate\n",
    "\n",
    "modified values from interest_rates.csv where the date is split into year and month for search and match purposes."
   ]
  },
  {
   "cell_type": "code",
   "execution_count": 1,
   "metadata": {},
   "outputs": [
    {
     "name": "stdout",
     "output_type": "stream",
     "text": [
      "     FEDFUNDS  YEAR MONTH\n",
      "0        0.80  1954    07\n",
      "1        1.22  1954    08\n",
      "2        1.07  1954    09\n",
      "3        0.85  1954    10\n",
      "4        0.83  1954    11\n",
      "..        ...   ...   ...\n",
      "827      5.08  2023    06\n",
      "828      5.12  2023    07\n",
      "829      5.33  2023    08\n",
      "830      5.33  2023    09\n",
      "831      5.33  2023    10\n",
      "\n",
      "[832 rows x 3 columns]\n"
     ]
    }
   ],
   "source": [
    "import pandas as pd\n",
    "\n",
    "interest_rates_expanded = pd.read_csv('../data/interest_rates.csv')\n",
    "\n",
    "# DATE info in format: YYYY-MM-DD\n",
    "def get_year(date:str):\n",
    "    return date.split('-')[0]\n",
    "\n",
    "def get_month(date:str):\n",
    "    return date.split('-')[1]\n",
    "\n",
    "# add the YEAR and MONTH columns\n",
    "interest_rates_expanded['YEAR'] = interest_rates_expanded['DATE'].apply(get_year)\n",
    "interest_rates_expanded['MONTH'] = interest_rates_expanded['DATE'].apply(get_month)\n",
    "\n",
    "# remove the redundant DATE column\n",
    "interest_rates_expanded = interest_rates_expanded.drop(columns='DATE')\n",
    "\n",
    "# sort by YEAR, MONTH so that the indexes are meaningful (higher index = later)\n",
    "interest_rates_expanded.sort_values(by=['YEAR','MONTH'])\n",
    "\n",
    "# convert the generated dataframe to a readable .csv file for future use\n",
    "interest_rates_expanded.to_csv('../data/interest_rates_expanded.csv')\n",
    "\n",
    "# superficially verify output\n",
    "print(interest_rates_expanded)"
   ]
  },
  {
   "cell_type": "markdown",
   "metadata": {},
   "source": [
    "### Implement and incorporate Interest Rate Feature\n",
    "Actually process the base data and find the correlating interest rate for each loan based on approval date"
   ]
  },
  {
   "cell_type": "code",
   "execution_count": 2,
   "metadata": {},
   "outputs": [
    {
     "name": "stderr",
     "output_type": "stream",
     "text": [
      "/var/folders/41/hgg8f6_j1dj4y4mt0w22d8ym0000gn/T/ipykernel_84013/465892043.py:2: DtypeWarning: Columns (9) have mixed types. Specify dtype option on import or set low_memory=False.\n",
      "  SBA_vals = pd.read_csv('../data/df_clean.csv')\n"
     ]
    },
    {
     "name": "stdout",
     "output_type": "stream",
     "text": [
      "        LoanNr_ChkDgt                            Name              City State  \\\n",
      "687537     7365833006               GLENN'S ALIGNMENT           TEKAMAH    NE   \n",
      "132530     2008565010  KANSAS CITY HEALTH SYSTEMS, IN       LEES SUMMIT    MO   \n",
      "723196     7751164000  VALLEY MEDICAL EQUIPMENT, INC.     BARBOURSVILLE    WV   \n",
      "776234     8608224007     KID'S WORLD LEARNING CENTER            WILLIS    TX   \n",
      "63671      1503735005               Appraisal Express  LAKE HAVASU CITY    AZ   \n",
      "47722      1387185008                  Manicolor Inc.           Paramus    NJ   \n",
      "522938     5277414006  ROCKY MOUNTAIN CABINET & MILLW       IDAHO FALLS    ID   \n",
      "174242     2288416000     LIBERTY PETROLEUM TRANSPORT           ONTARIO    CA   \n",
      "370741     3696474008     COBBLER'S BAKE SHOPPE, INC.         MIDDLETON    MA   \n",
      "683634     7321513002          NORWOOD CLEANERS, INC.           NORWOOD    MA   \n",
      "477269     4752063007  KENNETH & JOY STOVCIK DDS,INC.        THORNVILLE    OH   \n",
      "263565     2898435007  Out of the Box Cereal Cafe, LL       PHENIX CITY    AL   \n",
      "379162     3777984010                ECONOMETRICA INC          BETHESDA    MD   \n",
      "672481     7182694005                   IC COLLECTION       LOS ANGELES    CA   \n",
      "831273     9236874006       D & J'S COUNTRY CLUB DELI          VAN NUYS    CA   \n",
      "502915     5014344007       TWO RIVERS WINDOW COMPANY           SEATTLE    WA   \n",
      "165218     2229174008       ALL WEATHER EQUIPMENT CO.        GEORGETOWN    TX   \n",
      "18531      1143064004             ADVANTAGE TITLE CO.  OAKBROOK TERRACE    IL   \n",
      "845218     9435563003            BETHPAGE REALTY, LLC          BETHPAGE    NY   \n",
      "577092     5884134007          NX COMMINICATIONS, LLC            MARION    IN   \n",
      "\n",
      "          Zip                           Bank BankState   NAICS ApprovalDate  \\\n",
      "687537  68061         WASHINGTON COUNTY BANK        NE  811118    28-Jul-94   \n",
      "132530  64086         CAPITAL ONE NATL ASSOC        VA  532291     8-Sep-06   \n",
      "723196  25504           THE FIRST STATE BANK        WV  446199    31-Aug-04   \n",
      "776234  77318            AMEGY BK NATL ASSOC        TX  624410    11-Feb-05   \n",
      "63671   86404     BANK OF AMERICA NATL ASSOC        NC  531320    18-Oct-05   \n",
      "47722    7652  TD BANK, NATIONAL ASSOCIATION        DE  424990    25-Jul-05   \n",
      "522938  83406    EAST-CENTRAL IDAHO DEVEL CO        ID  337110    15-Mar-02   \n",
      "174242  91764    WELLS FARGO BANK NATL ASSOC        SD  484220     1-Aug-06   \n",
      "370741   1949                GEORGETOWN BANK        MA  311812    17-Apr-00   \n",
      "683634   2062   HOME LOAN INVEST BANK F.S.B.        RI  812310    20-Jul-94   \n",
      "477269  43076      COMMUNITY CAP. DEVEL CORP        OH  621210    10-Mar-92   \n",
      "263565  36870                   REDSTONE FCU        AL  722212    10-Jan-08   \n",
      "379162  20814                 CITIBANK, N.A.        FL       0     7-Jun-00   \n",
      "672481  90011                     HANMI BANK        CA  422330    12-Feb-04   \n",
      "831273  91403                      BBCN BANK        CA  446191     4-Nov-05   \n",
      "502915  98155   KEYBANK NATIONAL ASSOCIATION        OH  321911    30-Oct-01   \n",
      "165218  78628       CEN-TEX CERT. DEVEL CORP        TX       0    31-Jul-98   \n",
      "18531   60181     BANK OF AMERICA NATL ASSOC        IL  541191    18-Apr-97   \n",
      "845218  11714         LONG ISLAND DEVEL CORP        NY  611210     2-Aug-96   \n",
      "577092  46952  INDIANA STATEWIDE CERT. DEVEL        IN  541519    20-Nov-02   \n",
      "\n",
      "       ApprovalFY  ...  MIS_Status  ChgOffPrinGr     GrAppv   SBA_Appv  \\\n",
      "687537       1994  ...       P I F        $0.00     65000.0    58500.0   \n",
      "132530       2006  ...      CHGOFF   $48,819.00     50000.0    25000.0   \n",
      "723196       2004  ...       P I F        $0.00    100000.0    85000.0   \n",
      "776234       2005  ...       P I F        $0.00    690000.0   517500.0   \n",
      "63671        2006  ...       P I F        $0.00     10000.0     5000.0   \n",
      "47722        2005  ...      CHGOFF  $150,000.00    150000.0    75000.0   \n",
      "522938       2002  ...       P I F        $0.00    243000.0   243000.0   \n",
      "174242       2006  ...      CHGOFF   $38,333.00     50000.0    25000.0   \n",
      "370741       2000  ...      CHGOFF   $29,880.00     50000.0    40000.0   \n",
      "683634       1994  ...       P I F        $0.00     10000.0     9000.0   \n",
      "477269       1992  ...       P I F        $0.00    124000.0   124000.0   \n",
      "263565       2008  ...      CHGOFF   $44,340.00     50000.0    42500.0   \n",
      "379162       2000  ...       P I F        $0.00    100000.0    50000.0   \n",
      "672481       2004  ...       P I F        $0.00    648000.0   486000.0   \n",
      "831273       2006  ...       P I F        $0.00     15000.0    12750.0   \n",
      "502915       2002  ...      CHGOFF   $79,974.00    133200.0    66600.0   \n",
      "165218       1998  ...       P I F        $0.00    116000.0   116000.0   \n",
      "18531        1997  ...       P I F        $0.00    100000.0    80000.0   \n",
      "845218       1996  ...       P I F        $0.00   1000000.0  1000000.0   \n",
      "577092       2003  ...       P I F        $0.00    805000.0   805000.0   \n",
      "\n",
      "        Default  NAICS_i  isNewBusiness  isFranchise  SBARatio InterestRate  \n",
      "687537        0       81            0.0            0      0.90         4.26  \n",
      "132530        1       53            0.0            0      0.50         5.25  \n",
      "723196        0       44            0.0            0      0.85         1.43  \n",
      "776234        0       62            1.0            0      0.75         2.50  \n",
      "63671         0       53            0.0            0      0.50         3.78  \n",
      "47722         1       42            0.0            0      0.50         3.26  \n",
      "522938        0       33            1.0            0      1.00         1.73  \n",
      "174242        1       48            0.0            0      0.50         5.25  \n",
      "370741        1       31            1.0            0      0.80         6.02  \n",
      "683634        0       81            0.0            0      0.90         4.26  \n",
      "477269        0       62            0.0            0      1.00         3.98  \n",
      "263565        1       72            1.0            0      0.85         3.94  \n",
      "379162        0        0            0.0            0      0.50         6.53  \n",
      "672481        0       42            0.0            0      0.75         1.01  \n",
      "831273        0       44            0.0            0      0.85         4.00  \n",
      "502915        1       32            0.0            0      0.50         2.49  \n",
      "165218        0        0            0.0            0      1.00         5.54  \n",
      "18531         0       54            0.0            0      0.80         5.51  \n",
      "845218        0       61            0.0            0      1.00         5.22  \n",
      "577092        0       54            0.0            0      1.00         1.34  \n",
      "\n",
      "[20 rows x 33 columns]\n"
     ]
    }
   ],
   "source": [
    "# read the base values\n",
    "SBA_vals = pd.read_csv('../data/df_clean.csv')\n",
    "\n",
    "# the format for a ApprovalDate is DD-mmm-YY where 'mmm' is a 3-char string that represents the month (e.g.: 'Jan', 'Feb', 'Oct',etc.)\n",
    "# in order to find the interest rate at time of Approval, this format will need to be changed to be consistent with the YEAR MONTH \n",
    "# values above\n",
    "\n",
    "months = {'Jan':'01','Feb':'02','Mar':'03','Apr':'04','May':'05','Jun':'06','Jul':'07','Aug':'08','Sep':'09','Oct':'10','Nov':'11','Dec':'12'}\n",
    "def pull_fixed_YEAR_MONTH_SBAdata(date:str):\n",
    "    day,month,year = date.split('-')\n",
    "\n",
    "    #fix the month\n",
    "    month = months[month]\n",
    "\n",
    "    #fix the year\n",
    "    year = '19' + year if year > '30' else '20' + year\n",
    "\n",
    "    return month, year\n",
    "\n",
    "# now that we can extract appropriate/standardized month/year information\n",
    "# we will add a new column that is the interest rate based on the information\n",
    "# in the SBA_vals['ApprovalDate'] column\n",
    "\n",
    "def get_interest_rate_from_ApprovalDate(date:str):\n",
    "    month,year = pull_fixed_YEAR_MONTH_SBAdata(date)\n",
    "    \n",
    "    interest_rate = interest_rates_expanded[(interest_rates_expanded['YEAR'] == year) & (interest_rates_expanded['MONTH'] == month)]\n",
    "\n",
    "    return interest_rate['FEDFUNDS'].iloc[0] if not interest_rate.empty else None\n",
    "\n",
    "\n",
    "# sample set and demonstrate it works for a given sample\n",
    "# SBA_sample = SBA_vals.sample(20)\n",
    "# SBA_sample['InterestRate'] = SBA_sample['ApprovalDate'].apply(get_interest_rate_from_ApprovalDate)\n",
    "\n",
    "# print(SBA_sample[['ApprovalDate','InterestRate']])\n",
    "\n",
    "SBA_vals['InterestRate'] = SBA_vals['ApprovalDate'].apply(get_interest_rate_from_ApprovalDate)\n",
    "\n",
    "print(SBA_vals.sample(20))"
   ]
  },
  {
   "cell_type": "code",
   "execution_count": 3,
   "metadata": {},
   "outputs": [],
   "source": [
    "# SBA_vals[['ApprovalDate', 'InterestRate']].sample(10)\n",
    "SBA_vals.to_csv('../data/df_encoded_with_interest_rate.csv',index=False)"
   ]
  },
  {
   "cell_type": "markdown",
   "metadata": {},
   "source": [
    "# Engineering ApprovalDate-derivative-features\n",
    "## Outlier Years (number of loans)\n",
    "\n",
    "There are years where the SBA was just getting established and the overall number of loans for that period of time are non-representative of the overall data. For the sake of clarity, the years where this is the case will be extracted to a csv file for later reference in order to remove loans that were made in these odd years."
   ]
  },
  {
   "cell_type": "code",
   "execution_count": 4,
   "metadata": {},
   "outputs": [
    {
     "name": "stdout",
     "output_type": "stream",
     "text": [
      "loans_in_year check\n",
      "min year: 1961\tmax year: 2014\n"
     ]
    },
    {
     "data": {
      "image/png": "[encoded data removed]",
      "text/plain": [
       "<Figure size 640x480 with 1 Axes>"
      ]
     },
     "metadata": {},
     "output_type": "display_data"
    }
   ],
   "source": [
    "# read the SBA data\n",
    "SBA_data = pd.read_csv('../data/SBAnational.csv', low_memory=False)\n",
    "\n",
    "# format for a date: DD-mmm-YY where 'mmm' is a 3-char string representing the month (ex: Sep, Aug, Jun)\n",
    "# the year needs to be fixed, because as a 2-digit string '99' comes after '06'; needs to be expanded to 4-digit version\n",
    "\n",
    "# function returns cleaned year value\n",
    "def extract_year(date:str):\n",
    "    # parse date information\n",
    "    day,month,year = date.split('-')\n",
    "\n",
    "    # clean year\n",
    "    year = int('19' + year) if year > '30' else int('20' + year)\n",
    "\n",
    "    return year\n",
    "\n",
    "\n",
    "# apply the cleaning function to the dataframe\n",
    "loans_in_year = SBA_data['ApprovalDate'].apply(extract_year)\n",
    "\n",
    "print('loans_in_year check')\n",
    "print(f'min year: {loans_in_year.min()}\\tmax year: {loans_in_year.max()}')\n",
    "\n",
    "loans_in_year = loans_in_year.value_counts()\n",
    "\n",
    "loans_in_year.describe()\n",
    "\n",
    "import matplotlib.pyplot as plt\n",
    "\n",
    "pd.DataFrame(loans_in_year).boxplot()\n",
    "plt.show()\n",
    "\n",
    "\n",
    "\n",
    "# outlier_years = pd.DataFrame(columns=['YEAR','LOANS'])\n",
    "\n",
    "# some of the ApprovalDates are strings - specifically in a 1976 where there was a lot of fraud;\n",
    "# since these will automatically be removed later, these values should be automatically added to the list of years"
   ]
  }
 ],
 "metadata": {
  "kernelspec": {
   "display_name": "Python 3",
   "language": "python",
   "name": "python3"
  },
  "language_info": {
   "codemirror_mode": {
    "name": "ipython",
    "version": 3
   },
   "file_extension": ".py",
   "mimetype": "text/x-python",
   "name": "python",
   "nbconvert_exporter": "python",
   "pygments_lexer": "ipython3",
   "version": "3.11.5"
  }
 },
 "nbformat": 4,
 "nbformat_minor": 2
}
